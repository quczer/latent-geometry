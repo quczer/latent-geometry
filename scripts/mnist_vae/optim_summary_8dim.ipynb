{
 "cells": [
  {
   "cell_type": "code",
   "execution_count": 27,
   "metadata": {},
   "outputs": [
    {
     "name": "stdout",
     "output_type": "stream",
     "text": [
      "The autoreload extension is already loaded. To reload it, use:\n",
      "  %reload_ext autoreload\n"
     ]
    }
   ],
   "source": [
    "%load_ext autoreload\n",
    "%autoreload 2"
   ]
  },
  {
   "cell_type": "code",
   "execution_count": 28,
   "metadata": {},
   "outputs": [],
   "source": [
    "from latent_geometry.model.mnist_vae import load_decoder, load_encoder\n",
    "from latent_geometry.data import load_mnist_dataset\n",
    "from optim_summary import (\n",
    "    optimize,\n",
    "    summarize_path,\n",
    "    create_summary_fig,\n",
    "    run,\n",
    "    run_setup,\n",
    "    main,\n",
    ")\n",
    "import torch\n",
    "import matplotlib.pyplot as plt\n",
    "import numpy as np\n",
    "import pandas as pd\n",
    "import seaborn as sns\n",
    "import os\n",
    "from torch.optim import SGD"
   ]
  },
  {
   "cell_type": "code",
   "execution_count": 29,
   "metadata": {},
   "outputs": [],
   "source": [
    "os.environ[\"CUDA_VISIBLE_DEVICES\"] = \"1\""
   ]
  },
  {
   "cell_type": "code",
   "execution_count": 30,
   "metadata": {},
   "outputs": [
    {
     "data": {
      "text/plain": [
       "torch.Size([60000, 32, 32])"
      ]
     },
     "execution_count": 30,
     "metadata": {},
     "output_type": "execute_result"
    }
   ],
   "source": [
    "dataset = load_mnist_dataset(\"train\")\n",
    "imgs = torch.concatenate([img for img, label in dataset]).cuda()\n",
    "imgs.shape"
   ]
  },
  {
   "cell_type": "code",
   "execution_count": 31,
   "metadata": {},
   "outputs": [],
   "source": [
    "DEVICE = torch.device(\"cuda\")\n",
    "model_name, latent_dim = \"latent_8_dim_beta_10\", 8\n",
    "\n",
    "ENCODER = load_encoder(DEVICE, f\"{model_name}_encoder.pt\", latent_dim=latent_dim)\n",
    "DECODER = load_decoder(DEVICE, f\"{model_name}_decoder.pt\", latent_dim=latent_dim)\n",
    "\n",
    "# z = ENCODER.sample(dataset[0][0].to(DEVICE)[None, :])\n",
    "# reconstruction = DECODER.decode(z)\n",
    "# reconstruction.shape"
   ]
  },
  {
   "cell_type": "code",
   "execution_count": 32,
   "metadata": {},
   "outputs": [
    {
     "data": {
      "text/plain": [
       "torch.Size([60000, 8])"
      ]
     },
     "execution_count": 32,
     "metadata": {},
     "output_type": "execute_result"
    }
   ],
   "source": [
    "with torch.no_grad():\n",
    "    zs = ENCODER.encode(imgs[:, None, ...])\n",
    "zs.shape"
   ]
  },
  {
   "cell_type": "code",
   "execution_count": 33,
   "metadata": {},
   "outputs": [],
   "source": [
    "from typing import Union\n",
    "\n",
    "\n",
    "def show_digits(\n",
    "    zss: list[Union[tuple[torch.Tensor, ...], torch.Tensor]], names: list[str] = None\n",
    "):\n",
    "    fig, axs = plt.subplots(1, len(zss), figsize=(16, 4))\n",
    "    for i, zs in enumerate(zss):\n",
    "        xs = []\n",
    "        if not isinstance(zs, tuple):\n",
    "            zs = (zs,)\n",
    "        for z in zs:\n",
    "            with torch.no_grad():\n",
    "                x = DECODER.decode(z).cpu().numpy().reshape(32, 32)\n",
    "            xs.append(x)\n",
    "        img = np.concatenate(xs, axis=0)\n",
    "        ax = axs[i] if len(zss) > 1 else axs\n",
    "        ax.imshow(img, vmin=0, vmax=1)\n",
    "        if names:\n",
    "            ax.set_title(\n",
    "                names[i],\n",
    "                fontsize=8,\n",
    "            )\n",
    "        ax.set_axis_off()"
   ]
  },
  {
   "cell_type": "code",
   "execution_count": 70,
   "metadata": {},
   "outputs": [
    {
     "data": {
      "image/png": "[encoded data removed]",
      "text/plain": [
       "<Figure size 1600x400 with 10 Axes>"
      ]
     },
     "metadata": {},
     "output_type": "display_data"
    }
   ],
   "source": [
    "show_digits(zs[:10])"
   ]
  },
  {
   "cell_type": "code",
   "execution_count": 123,
   "metadata": {},
   "outputs": [],
   "source": [
    "# SETUP = [(\"standard\", 0.1), (\"geometric\", 0.1), (\"retractive\", 0.1)]\n",
    "SETUP = [(\"standard\", 0.1), (\"retractive\", 0.5)]"
   ]
  },
  {
   "cell_type": "code",
   "execution_count": 124,
   "metadata": {},
   "outputs": [],
   "source": [
    "with torch.no_grad():\n",
    "    TARGET_3 = DECODER.decode(zs[[7]]).reshape(32, 32)"
   ]
  },
  {
   "cell_type": "code",
   "execution_count": 125,
   "metadata": {},
   "outputs": [
    {
     "data": {
      "text/plain": [
       "False"
      ]
     },
     "execution_count": 125,
     "metadata": {},
     "output_type": "execute_result"
    }
   ],
   "source": [
    "TARGET_3.requires_grad"
   ]
  },
  {
   "cell_type": "code",
   "execution_count": 133,
   "metadata": {},
   "outputs": [],
   "source": [
    "darkness = (\"darkness\", lambda x: 1 - x.mean(), 1.0)\n",
    "brightness = (\"brightness\", lambda x: x.mean(), 1.0)\n",
    "entropy = (\"entropy\", lambda x: -x.log().mean(), 0.05)\n",
    "neg_entropy = (\"negative entropy\", lambda x: x.log().mean(), 0.05)\n",
    "threeness = (\"threeness\", lambda x: ((x - TARGET_3) ** 2).mean().sqrt(), 0.5)"
   ]
  },
  {
   "cell_type": "code",
   "execution_count": 134,
   "metadata": {},
   "outputs": [],
   "source": [
    "img = run(\n",
    "    zs[[2]],\n",
    "    n_iter=1000,\n",
    "    loss=(threeness[0], threeness[1]),\n",
    "    map_fn=DECODER.decode,\n",
    "    optim_setup=SETUP,\n",
    ")"
   ]
  },
  {
   "cell_type": "code",
   "execution_count": 135,
   "metadata": {},
   "outputs": [
    {
     "name": "stderr",
     "output_type": "stream",
     "text": [
      "0it [00:00, ?it/s]"
     ]
    },
    {
     "name": "stderr",
     "output_type": "stream",
     "text": [
      "6it [08:03, 79.43s/it]"
     ]
    }
   ],
   "source": [
    "main(\n",
    "    model_name=\"latent_8_dim_beta_10\",\n",
    "    latent_dim=8,\n",
    "    n_iter=1_000,\n",
    "    optim_setup=SETUP,\n",
    "    losses=[darkness, brightness, entropy, neg_entropy, threeness],\n",
    "    tag=\"zs_0_100\",\n",
    "    points=zs[:100].unsqueeze(1),\n",
    ")"
   ]
  }
 ],
 "metadata": {
  "kernelspec": {
   "display_name": "latent-geometry",
   "language": "python",
   "name": "python3"
  },
  "language_info": {
   "codemirror_mode": {
    "name": "ipython",
    "version": 3
   },
   "file_extension": ".py",
   "mimetype": "text/x-python",
   "name": "python",
   "nbconvert_exporter": "python",
   "pygments_lexer": "ipython3",
   "version": "3.9.17"
  }
 },
 "nbformat": 4,
 "nbformat_minor": 2
}
