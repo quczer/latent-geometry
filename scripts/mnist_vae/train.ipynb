{
 "cells": [
  {
   "cell_type": "code",
   "execution_count": 1,
   "metadata": {},
   "outputs": [],
   "source": [
    "import os\n",
    "\n",
    "os.environ[\"CUDA_VISIBLE_DEVICES\"] = \"2\""
   ]
  },
  {
   "cell_type": "code",
   "execution_count": 2,
   "metadata": {},
   "outputs": [
    {
     "name": "stdout",
     "output_type": "stream",
     "text": [
      "ClearML Task: created new task id=dd5fe0f4628a4a759d8f82a0d50c0f6b\n",
      "2023-10-31 12:01:10,108 - clearml.Task - INFO - Storing jupyter notebook directly as code\n",
      "ClearML results page: https://app.clear.ml/projects/49f472236d7240f4bd330a30202378ad/experiments/dd5fe0f4628a4a759d8f82a0d50c0f6b/output/log\n"
     ]
    },
    {
     "name": "stderr",
     "output_type": "stream",
     "text": [
      "  0%|          | 0/301 [00:00<?, ?it/s]"
     ]
    },
    {
     "name": "stdout",
     "output_type": "stream",
     "text": [
      "2023-10-31 12:01:28,707 - clearml.frameworks - INFO - Found existing registered model id=b1013fc5defc47bda93f72291becbc59 [/home/quczer/repos/latent-geometry/models/mnist/latent_8_dim_beta_10_encoder.pt] reusing it.\n",
      "2023-10-31 12:01:38,459 - clearml.frameworks - INFO - Found existing registered model id=aef5501861304682b664da4f9868bd8c [/home/quczer/repos/latent-geometry/models/mnist/latent_8_dim_beta_10_decoder.pt] reusing it.\n"
     ]
    },
    {
     "name": "stderr",
     "output_type": "stream",
     "text": [
      "100%|██████████| 301/301 [50:34<00:00, 10.08s/it]  \n"
     ]
    }
   ],
   "source": [
    "%run train.py --clearml-run-name latent_8_dim_beta_10_v3 --batch-size 128 --test-batch-size 256 --epochs 301 \\\n",
    "    --lr 0.001 --latent-dim 8 --model-name latent_8_dim_beta_10 --beta 10"
   ]
  },
  {
   "cell_type": "code",
   "execution_count": null,
   "metadata": {},
   "outputs": [],
   "source": []
  }
 ],
 "metadata": {
  "kernelspec": {
   "display_name": "latent-geometry",
   "language": "python",
   "name": "python3"
  },
  "language_info": {
   "codemirror_mode": {
    "name": "ipython",
    "version": 3
   },
   "file_extension": ".py",
   "mimetype": "text/x-python",
   "name": "python",
   "nbconvert_exporter": "python",
   "pygments_lexer": "ipython3",
   "version": "3.9.17"
  },
  "orig_nbformat": 4
 },
 "nbformat": 4,
 "nbformat_minor": 2
}
