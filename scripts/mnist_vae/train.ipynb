{
 "cells": [
  {
   "cell_type": "code",
   "execution_count": 1,
   "metadata": {},
   "outputs": [
    {
     "name": "stdout",
     "output_type": "stream",
     "text": [
      "ClearML Task: created new task id=7ffdfba8e1e146778856112beca62e8c\n",
      "2023-09-19 11:28:48,322 - clearml.Task - INFO - Storing jupyter notebook directly as code\n",
      "ClearML results page: https://app.clear.ml/projects/49f472236d7240f4bd330a30202378ad/experiments/7ffdfba8e1e146778856112beca62e8c/output/log\n"
     ]
    },
    {
     "name": "stderr",
     "output_type": "stream",
     "text": [
      "  0%|          | 0/101 [00:00<?, ?it/s]"
     ]
    },
    {
     "name": "stdout",
     "output_type": "stream",
     "text": [
      "2023-09-19 11:29:04,854 - clearml.frameworks - INFO - Found existing registered model id=6c68d5510aa94537949f525537df6a22 [/home/quczer/repos/latent-geometry/models/mnist/best_encoder.pt] reusing it.\n",
      "2023-09-19 11:29:13,466 - clearml.frameworks - INFO - Found existing registered model id=284857ea043048fea1265c8a072d12aa [/home/quczer/repos/latent-geometry/models/mnist/best_decoder.pt] reusing it.\n"
     ]
    },
    {
     "name": "stderr",
     "output_type": "stream",
     "text": [
      " 17%|█▋        | 17/101 [03:05<13:13,  9.45s/it]"
     ]
    }
   ],
   "source": [
    "%run train.py --clearml-run-name working1 --batch-size 128 --test-batch-size 256 --epochs 101 --lr 0.001"
   ]
  },
  {
   "cell_type": "code",
   "execution_count": null,
   "metadata": {},
   "outputs": [],
   "source": []
  }
 ],
 "metadata": {
  "kernelspec": {
   "display_name": "latent-geometry",
   "language": "python",
   "name": "python3"
  },
  "language_info": {
   "codemirror_mode": {
    "name": "ipython",
    "version": 3
   },
   "file_extension": ".py",
   "mimetype": "text/x-python",
   "name": "python",
   "nbconvert_exporter": "python",
   "pygments_lexer": "ipython3",
   "version": "3.9.17"
  },
  "orig_nbformat": 4
 },
 "nbformat": 4,
 "nbformat_minor": 2
}
