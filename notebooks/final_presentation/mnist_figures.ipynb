{
 "cells": [
  {
   "cell_type": "code",
   "execution_count": 52,
   "metadata": {
    "colab": {
     "base_uri": "https://localhost:8080/"
    },
    "collapsed": true,
    "id": "ybj4qxZvw_Yr",
    "outputId": "70098d2d-d7bc-42d4-afd6-aa64f5da9a0e",
    "pycharm": {
     "name": "#%%\n"
    }
   },
   "outputs": [],
   "source": [
    "# !rm -rf latent-geometry\n",
    "# !git clone -b final-project-presentation --single-branch https://github.com/quczer/latent-geometry.git\n",
    "# # !pip uninstall numpy -y\n",
    "# !pip install -e latent-geometry[dev]\n",
    "# # !python latent-geometry/setup.py install"
   ]
  },
  {
   "cell_type": "code",
   "execution_count": 53,
   "metadata": {
    "id": "uDMZvfQW8qUK"
   },
   "outputs": [
    {
     "name": "stdout",
     "output_type": "stream",
     "text": [
      "The autoreload extension is already loaded. To reload it, use:\n",
      "  %reload_ext autoreload\n"
     ]
    }
   ],
   "source": [
    "%load_ext autoreload\n",
    "%autoreload 2"
   ]
  },
  {
   "cell_type": "code",
   "execution_count": 54,
   "metadata": {
    "id": "sBST6vA2x8Ut"
   },
   "outputs": [],
   "source": [
    "import numpy as np\n",
    "import torchvision.transforms as transforms\n",
    "\n",
    "import torch\n",
    "import torch.nn as nn\n",
    "import torch.optim as optim\n",
    "import torchvision\n",
    "from torch.utils.data import DataLoader\n",
    "\n",
    "from latent_geometry.model.mnist_vae import EncoderVAE, DecoderVAE\n",
    "from latent_geometry.mapping import TorchModelMapping\n",
    "from latent_geometry.visual.plotly import (\n",
    "    create_topology_fig,\n",
    "    create_topology_fig_geodesics,\n",
    ")\n",
    "from latent_geometry.manifold import LatentManifold\n",
    "from latent_geometry.metric import EuclideanMetric\n",
    "\n",
    "import pandas as pd\n",
    "import plotly.graph_objects as go\n",
    "import plotly.express as px\n",
    "\n",
    "from latent_geometry.config import NOTEBOOKS_DIR"
   ]
  },
  {
   "cell_type": "code",
   "execution_count": 55,
   "metadata": {
    "id": "lHBswTgAw_Yt",
    "pycharm": {
     "name": "#%%\n"
    }
   },
   "outputs": [],
   "source": [
    "device = torch.device(\"cuda\" if torch.cuda.is_available() else \"cpu\")\n",
    "# initialize the model\n",
    "\n",
    "encoder = EncoderVAE(init_channels=8, latent_dim=2, kernel_size=4, image_channels=1).to(\n",
    "    device\n",
    ")\n",
    "decoder = DecoderVAE(init_channels=8, latent_dim=2, kernel_size=4, image_channels=1).to(\n",
    "    device\n",
    ")\n",
    "params = [param for param in encoder.parameters()] + [\n",
    "    param for param in decoder.parameters()\n",
    "]\n",
    "\n",
    "# set the learning parameters\n",
    "lr = 0.001\n",
    "epochs = 100\n",
    "batch_size = 64\n",
    "optimizer = optim.Adam(params, lr=lr)\n",
    "criterion = nn.MSELoss(reduction=\"sum\")"
   ]
  },
  {
   "cell_type": "code",
   "execution_count": 56,
   "metadata": {
    "id": "tjdrWOt2w_Yu",
    "pycharm": {
     "name": "#%%\n"
    }
   },
   "outputs": [],
   "source": [
    "transform = transforms.Compose(\n",
    "    [\n",
    "        transforms.Resize((32, 32)),\n",
    "        transforms.ToTensor(),\n",
    "    ]\n",
    ")\n",
    "# training set and train data loader\n",
    "trainset = torchvision.datasets.MNIST(\n",
    "    root=NOTEBOOKS_DIR / \"input\", train=True, download=True, transform=transform\n",
    ")\n",
    "trainloader = DataLoader(trainset, batch_size=batch_size, shuffle=True)\n",
    "# validation set and validation data loader\n",
    "testset = torchvision.datasets.MNIST(\n",
    "    root=NOTEBOOKS_DIR / \"input\", train=False, download=True, transform=transform\n",
    ")\n",
    "testloader = DataLoader(testset, batch_size=batch_size, shuffle=False)"
   ]
  },
  {
   "cell_type": "code",
   "execution_count": 57,
   "metadata": {
    "id": "nCPuusjLw_Yu",
    "pycharm": {
     "name": "#%%\n"
    }
   },
   "outputs": [],
   "source": [
    "batch_size = 64\n",
    "\n",
    "transform = transforms.Compose(\n",
    "    [\n",
    "        transforms.Resize((32, 32)),\n",
    "        transforms.ToTensor(),\n",
    "    ]\n",
    ")\n",
    "testset = torchvision.datasets.MNIST(\n",
    "    root=NOTEBOOKS_DIR / \"input\", train=False, download=True, transform=transform\n",
    ")\n",
    "testloader = DataLoader(testset, batch_size=500, shuffle=False)"
   ]
  },
  {
   "cell_type": "code",
   "execution_count": 58,
   "metadata": {
    "id": "S28iAIq6w_Yv",
    "pycharm": {
     "name": "#%%\n"
    }
   },
   "outputs": [],
   "source": [
    "device = torch.device(\"cuda\" if torch.cuda.is_available() else \"cpu\")\n",
    "\n",
    "encoder = torch.load(NOTEBOOKS_DIR / \"output\" / \"encoder\", map_location=device)\n",
    "decoder = torch.load(NOTEBOOKS_DIR / \"output\" / \"decoder\", map_location=device)\n",
    "\n",
    "x = next(iter(trainloader))\n",
    "z, mu, log_var = encoder(x[0].to(device))\n",
    "reconstruction = decoder(z)"
   ]
  },
  {
   "cell_type": "code",
   "execution_count": 59,
   "metadata": {
    "id": "dht2uugCw_Yv",
    "pycharm": {
     "name": "#%%\n"
    }
   },
   "outputs": [],
   "source": [
    "NUM_POINTS = 7000\n",
    "WIDTH = 4\n",
    "Z_SCALE = 5.0\n",
    "SPLINE_POLY_DEG = 3\n",
    "SIN_MULT = 1.5"
   ]
  },
  {
   "cell_type": "code",
   "execution_count": 60,
   "metadata": {
    "id": "sYbj8YF1w_Yv",
    "pycharm": {
     "name": "#%%\n"
    }
   },
   "outputs": [],
   "source": [
    "# , manifold: LatentManifold, n_points: int = NUM_POINTS, width: float = WIDTH\n",
    "def create_df(points, labels) -> pd.DataFrame:\n",
    "\n",
    "    x_1 = points[:, 0]\n",
    "    x_2 = points[:, 1]\n",
    "\n",
    "    df = pd.DataFrame(np.stack([x_1, x_2, labels], axis=1), columns=[\"x\", \"y\", \"z\"])\n",
    "\n",
    "    # df = pd.DataFrame(data=np.array([x_1, x_2, labels]).transpose(), columns=[\"x\", \"y\", \"z\"])\n",
    "\n",
    "    # df['x']\n",
    "    #\n",
    "    return df\n",
    "\n",
    "\n",
    "def create_background_df(\n",
    "    manifold: LatentManifold, n_points: int = NUM_POINTS, width: float = WIDTH\n",
    ") -> pd.DataFrame:\n",
    "\n",
    "    x = np.random.rand(n_points, 1) * width * 2 - width\n",
    "    y = np.random.rand(n_points, 1) * width * 2 - width\n",
    "\n",
    "    df = pd.DataFrame(data=np.hstack([x, y]), columns=[\"x\", \"y\"])\n",
    "    df[\"cluster\"] = (df.x > 0) + 2 * (df.y > 0)\n",
    "    # df[\"z\"] = np.sum(df.apply(lambda r: manifold.metric._mapping(r[:2], r[:2], r[:2]), axis=1))\n",
    "    return df\n",
    "\n",
    "\n",
    "def create_latent_fig(df: pd.DataFrame, three_d: bool = False) -> go.Figure:\n",
    "    if three_d:\n",
    "        return px.scatter_3d(df, x=\"x\", y=\"y\", z=\"z\", color=\"z\", opacity=1)\n",
    "    else:\n",
    "        return px.scatter(df, x=\"x\", y=\"y\", color=\"z\", opacity=0.5)\n",
    "        # return px.scatter(df, x=\"x\", y=\"y\", opacity=0.5)  # z tym działało"
   ]
  },
  {
   "cell_type": "code",
   "execution_count": 61,
   "metadata": {
    "id": "unild-3vw_Y5",
    "pycharm": {
     "name": "#%%\n"
    }
   },
   "outputs": [],
   "source": [
    "def create_topology_fig_geodesics_given_manifold(\n",
    "    points,\n",
    "    labels,\n",
    "    centers1: list[np.ndarray],\n",
    "    centers2: list[np.ndarray],\n",
    "    manifold: LatentManifold,\n",
    ") -> go.Figure:\n",
    "    df_ = create_df(points, labels)\n",
    "    background_trace = create_latent_fig(df_, three_d=False).data[0]\n",
    "\n",
    "    return create_topology_fig_geodesics(\n",
    "        centers1,\n",
    "        centers2,\n",
    "        manifold,\n",
    "        background_trace,\n",
    "    )"
   ]
  },
  {
   "cell_type": "code",
   "execution_count": 62,
   "metadata": {
    "id": "ypBg7NE5w_Y5",
    "pycharm": {
     "name": "#%%\n"
    }
   },
   "outputs": [],
   "source": [
    "def create_topology_fig_given_manifold(\n",
    "    points,\n",
    "    labels,\n",
    "    centre: np.ndarray,\n",
    "    manifold: LatentManifold,\n",
    "    num_lines: int,\n",
    "    num_circles: int,\n",
    "    line_length: float = 10,\n",
    "    show_lines: bool = True,\n",
    "    show_circles: bool = True,\n",
    ") -> go.Figure:\n",
    "    # df_ = create_background_df(manifold)\n",
    "    df_ = create_df(points, labels)\n",
    "    background_trace = create_latent_fig(df_, three_d=False).data[0]\n",
    "\n",
    "    return create_topology_fig(\n",
    "        centre,\n",
    "        manifold,\n",
    "        background_trace,\n",
    "        num_lines,\n",
    "        num_circles,\n",
    "        line_length,\n",
    "        show_lines,\n",
    "        show_circles,\n",
    "    )"
   ]
  },
  {
   "cell_type": "code",
   "execution_count": 63,
   "metadata": {
    "id": "hNzbIaGJw_Y5",
    "pycharm": {
     "name": "#%%\n"
    }
   },
   "outputs": [],
   "source": [
    "ambient_metric = EuclideanMetric(1024)\n",
    "manifold_mnist = LatentManifold(\n",
    "    TorchModelMapping(decoder, (2,), (1, 1, 32, 32)), ambient_metric\n",
    ")\n",
    "\n",
    "batch = next(iter(testloader))\n",
    "points, mu, log_var = encoder(batch[0].to(device))\n",
    "\n",
    "points = points.detach().cpu().numpy()\n",
    "labels = batch[1]\n",
    "\n",
    "# mu = mu[0]\n",
    "# log_var = log_var[0]\n",
    "# x = next(iter(testloader))\n",
    "# points = encoder(x[0])[0]\n",
    "# labels = x[1]\n",
    "center = points[0]\n",
    "centers_1 = points[:10]\n",
    "centers_2 = points[10:20]"
   ]
  },
  {
   "cell_type": "code",
   "execution_count": 65,
   "metadata": {
    "colab": {
     "base_uri": "https://localhost:8080/",
     "height": 817
    },
    "id": "AawLAecow_Y5",
    "outputId": "e8bbe668-3ee9-4aad-94e1-49e118c58f38",
    "pycharm": {
     "name": "#%%\n"
    }
   },
   "outputs": [
    {
     "ename": "KeyboardInterrupt",
     "evalue": "",
     "output_type": "error",
     "traceback": [
      "\u001b[0;31m---------------------------------------------------------------------------\u001b[0m",
      "\u001b[0;31mKeyboardInterrupt\u001b[0m                         Traceback (most recent call last)",
      "Cell \u001b[0;32mIn[65], line 3\u001b[0m\n\u001b[1;32m      1\u001b[0m \u001b[39m# 6 points = 2min on gpu\u001b[39;00m\n\u001b[1;32m      2\u001b[0m \u001b[39m# 2 points = 2min on cpu\u001b[39;00m\n\u001b[0;32m----> 3\u001b[0m create_topology_fig_given_manifold(\n\u001b[1;32m      4\u001b[0m     points\u001b[39m=\u001b[39;49mpoints,\n\u001b[1;32m      5\u001b[0m     labels\u001b[39m=\u001b[39;49mlabels,\n\u001b[1;32m      6\u001b[0m     centre\u001b[39m=\u001b[39;49mcenter,\n\u001b[1;32m      7\u001b[0m     manifold\u001b[39m=\u001b[39;49mmanifold_mnist,\n\u001b[1;32m      8\u001b[0m     num_lines\u001b[39m=\u001b[39;49m\u001b[39m2\u001b[39;49m,\n\u001b[1;32m      9\u001b[0m     num_circles\u001b[39m=\u001b[39;49m\u001b[39m4\u001b[39;49m,\n\u001b[1;32m     10\u001b[0m )\u001b[39m.\u001b[39mshow()\n",
      "Cell \u001b[0;32mIn[62], line 16\u001b[0m, in \u001b[0;36mcreate_topology_fig_given_manifold\u001b[0;34m(points, labels, centre, manifold, num_lines, num_circles, line_length, show_lines, show_circles)\u001b[0m\n\u001b[1;32m     13\u001b[0m df_ \u001b[39m=\u001b[39m create_df(points, labels)\n\u001b[1;32m     14\u001b[0m background_trace \u001b[39m=\u001b[39m create_latent_fig(df_, three_d\u001b[39m=\u001b[39m\u001b[39mFalse\u001b[39;00m)\u001b[39m.\u001b[39mdata[\u001b[39m0\u001b[39m]\n\u001b[0;32m---> 16\u001b[0m \u001b[39mreturn\u001b[39;00m create_topology_fig(\n\u001b[1;32m     17\u001b[0m     centre,\n\u001b[1;32m     18\u001b[0m     manifold,\n\u001b[1;32m     19\u001b[0m     background_trace,\n\u001b[1;32m     20\u001b[0m     num_lines,\n\u001b[1;32m     21\u001b[0m     num_circles,\n\u001b[1;32m     22\u001b[0m     line_length,\n\u001b[1;32m     23\u001b[0m     show_lines,\n\u001b[1;32m     24\u001b[0m     show_circles,\n\u001b[1;32m     25\u001b[0m )\n",
      "File \u001b[0;32m~/school/mgr/latent-geometry/src/latent_geometry/visual/plotly.py:41\u001b[0m, in \u001b[0;36mcreate_topology_fig\u001b[0;34m(centre, manifold, background_trace, num_lines, num_circles, line_length, show_lines, show_circles)\u001b[0m\n\u001b[1;32m     31\u001b[0m \u001b[39mdef\u001b[39;00m \u001b[39mcreate_topology_fig\u001b[39m(\n\u001b[1;32m     32\u001b[0m     centre: np\u001b[39m.\u001b[39mndarray,\n\u001b[1;32m     33\u001b[0m     manifold: Manifold,\n\u001b[0;32m   (...)\u001b[0m\n\u001b[1;32m     39\u001b[0m     show_circles: \u001b[39mbool\u001b[39m \u001b[39m=\u001b[39m \u001b[39mTrue\u001b[39;00m,\n\u001b[1;32m     40\u001b[0m ) \u001b[39m-\u001b[39m\u001b[39m>\u001b[39m go\u001b[39m.\u001b[39mFigure:\n\u001b[0;32m---> 41\u001b[0m     lines \u001b[39m=\u001b[39m get_lines(centre, num_lines, manifold, length\u001b[39m=\u001b[39;49mline_length)\n\u001b[1;32m     42\u001b[0m     circles \u001b[39m=\u001b[39m get_circles(lines, num_circles)\n\u001b[1;32m     44\u001b[0m     traces \u001b[39m=\u001b[39m [background_trace]\n",
      "File \u001b[0;32m~/school/mgr/latent-geometry/src/latent_geometry/visual/calc.py:19\u001b[0m, in \u001b[0;36mget_lines\u001b[0;34m(centre, divisions, manifold, length)\u001b[0m\n\u001b[1;32m     17\u001b[0m \u001b[39mfor\u001b[39;00m theta \u001b[39min\u001b[39;00m np\u001b[39m.\u001b[39mlinspace(\u001b[39m0\u001b[39m, \u001b[39m2\u001b[39m \u001b[39m*\u001b[39m np\u001b[39m.\u001b[39mpi, divisions \u001b[39m+\u001b[39m \u001b[39m1\u001b[39m)[:\u001b[39m-\u001b[39m\u001b[39m1\u001b[39m]:\n\u001b[1;32m     18\u001b[0m     dir_vector \u001b[39m=\u001b[39m np\u001b[39m.\u001b[39marray([np\u001b[39m.\u001b[39mcos(theta), np\u001b[39m.\u001b[39msin(theta)])\n\u001b[0;32m---> 19\u001b[0m     path \u001b[39m=\u001b[39m manifold\u001b[39m.\u001b[39;49mpath_given_direction(centre, dir_vector, length)\n\u001b[1;32m     20\u001b[0m     lines\u001b[39m.\u001b[39mappend(path)\n\u001b[1;32m     21\u001b[0m \u001b[39mreturn\u001b[39;00m lines\n",
      "File \u001b[0;32m~/school/mgr/latent-geometry/src/latent_geometry/manifold/latent.py:33\u001b[0m, in \u001b[0;36mLatentManifold.path_given_direction\u001b[0;34m(self, z, velocity_vec, length)\u001b[0m\n\u001b[1;32m     29\u001b[0m \u001b[39mdef\u001b[39;00m \u001b[39mpath_given_direction\u001b[39m(\n\u001b[1;32m     30\u001b[0m     \u001b[39mself\u001b[39m, z: np\u001b[39m.\u001b[39mndarray, velocity_vec: np\u001b[39m.\u001b[39mndarray, length: \u001b[39mfloat\u001b[39m \u001b[39m=\u001b[39m \u001b[39m1.0\u001b[39m\n\u001b[1;32m     31\u001b[0m ) \u001b[39m-\u001b[39m\u001b[39m>\u001b[39m ManifoldPath:\n\u001b[1;32m     32\u001b[0m     velocity \u001b[39m=\u001b[39m \u001b[39mself\u001b[39m\u001b[39m.\u001b[39m_adjust_vector_magnitude(z, velocity_vec, length)\n\u001b[0;32m---> 33\u001b[0m     solver_path \u001b[39m=\u001b[39m \u001b[39mself\u001b[39;49m\u001b[39m.\u001b[39;49m_exp_solver\u001b[39m.\u001b[39;49mcompute_path(\n\u001b[1;32m     34\u001b[0m         z, velocity, \u001b[39mself\u001b[39;49m\u001b[39m.\u001b[39;49mmetric\u001b[39m.\u001b[39;49macceleration\n\u001b[1;32m     35\u001b[0m     )\n\u001b[1;32m     36\u001b[0m     \u001b[39mreturn\u001b[39;00m ManifoldPath(\n\u001b[1;32m     37\u001b[0m         solver_path\u001b[39m.\u001b[39mposition,\n\u001b[1;32m     38\u001b[0m         solver_path\u001b[39m.\u001b[39mvelocity,\n\u001b[1;32m     39\u001b[0m         \u001b[39mself\u001b[39m\u001b[39m.\u001b[39mmetric,\n\u001b[1;32m     40\u001b[0m         \u001b[39mself\u001b[39m\u001b[39m.\u001b[39m_euclidean_latent_metric,\n\u001b[1;32m     41\u001b[0m     )\n",
      "File \u001b[0;32m~/school/mgr/latent-geometry/src/latent_geometry/solver/exponential.py:24\u001b[0m, in \u001b[0;36mIVPExponentialSolver.compute_path\u001b[0;34m(self, position, velocity, acceleration_fun)\u001b[0m\n\u001b[1;32m     17\u001b[0m \u001b[39mdef\u001b[39;00m \u001b[39mcompute_path\u001b[39m(\n\u001b[1;32m     18\u001b[0m     \u001b[39mself\u001b[39m,\n\u001b[1;32m     19\u001b[0m     position: np\u001b[39m.\u001b[39mndarray,\n\u001b[1;32m     20\u001b[0m     velocity: np\u001b[39m.\u001b[39mndarray,\n\u001b[1;32m     21\u001b[0m     acceleration_fun: Callable[[np\u001b[39m.\u001b[39mndarray, np\u001b[39m.\u001b[39mndarray], np\u001b[39m.\u001b[39mndarray],\n\u001b[1;32m     22\u001b[0m ) \u001b[39m-\u001b[39m\u001b[39m>\u001b[39m SolverResultPath:\n\u001b[1;32m     23\u001b[0m     \u001b[39mtry\u001b[39;00m:\n\u001b[0;32m---> 24\u001b[0m         result \u001b[39m=\u001b[39m \u001b[39mself\u001b[39;49m\u001b[39m.\u001b[39;49m_solve(position, velocity, acceleration_fun)\n\u001b[1;32m     25\u001b[0m         \u001b[39mif\u001b[39;00m result\u001b[39m.\u001b[39msuccess:\n\u001b[1;32m     26\u001b[0m             \u001b[39mreturn\u001b[39;00m \u001b[39mself\u001b[39m\u001b[39m.\u001b[39m_create_result_path(result\u001b[39m.\u001b[39msol, acceleration_fun)\n",
      "File \u001b[0;32m~/school/mgr/latent-geometry/src/latent_geometry/solver/exponential.py:64\u001b[0m, in \u001b[0;36mIVPExponentialSolver._solve\u001b[0;34m(self, position, velocity, acceleration_fun)\u001b[0m\n\u001b[1;32m     62\u001b[0m initial_state \u001b[39m=\u001b[39m \u001b[39mself\u001b[39m\u001b[39m.\u001b[39m_pack_state(position, velocity)\n\u001b[1;32m     63\u001b[0m fun \u001b[39m=\u001b[39m \u001b[39mself\u001b[39m\u001b[39m.\u001b[39m_create_solver_fun(acceleration_fun)\n\u001b[0;32m---> 64\u001b[0m \u001b[39mreturn\u001b[39;00m solve_ivp(\n\u001b[1;32m     65\u001b[0m     fun, t_span, initial_state, method\u001b[39m=\u001b[39;49m\u001b[39mself\u001b[39;49m\u001b[39m.\u001b[39;49mmethod, dense_output\u001b[39m=\u001b[39;49m\u001b[39mTrue\u001b[39;49;00m\n\u001b[1;32m     66\u001b[0m )\n",
      "File \u001b[0;32m~/anaconda3/envs/latent-geometry/lib/python3.9/site-packages/scipy/integrate/_ivp/ivp.py:591\u001b[0m, in \u001b[0;36msolve_ivp\u001b[0;34m(fun, t_span, y0, method, t_eval, dense_output, events, vectorized, args, **options)\u001b[0m\n\u001b[1;32m    589\u001b[0m status \u001b[39m=\u001b[39m \u001b[39mNone\u001b[39;00m\n\u001b[1;32m    590\u001b[0m \u001b[39mwhile\u001b[39;00m status \u001b[39mis\u001b[39;00m \u001b[39mNone\u001b[39;00m:\n\u001b[0;32m--> 591\u001b[0m     message \u001b[39m=\u001b[39m solver\u001b[39m.\u001b[39;49mstep()\n\u001b[1;32m    593\u001b[0m     \u001b[39mif\u001b[39;00m solver\u001b[39m.\u001b[39mstatus \u001b[39m==\u001b[39m \u001b[39m'\u001b[39m\u001b[39mfinished\u001b[39m\u001b[39m'\u001b[39m:\n\u001b[1;32m    594\u001b[0m         status \u001b[39m=\u001b[39m \u001b[39m0\u001b[39m\n",
      "File \u001b[0;32m~/anaconda3/envs/latent-geometry/lib/python3.9/site-packages/scipy/integrate/_ivp/base.py:181\u001b[0m, in \u001b[0;36mOdeSolver.step\u001b[0;34m(self)\u001b[0m\n\u001b[1;32m    179\u001b[0m \u001b[39melse\u001b[39;00m:\n\u001b[1;32m    180\u001b[0m     t \u001b[39m=\u001b[39m \u001b[39mself\u001b[39m\u001b[39m.\u001b[39mt\n\u001b[0;32m--> 181\u001b[0m     success, message \u001b[39m=\u001b[39m \u001b[39mself\u001b[39;49m\u001b[39m.\u001b[39;49m_step_impl()\n\u001b[1;32m    183\u001b[0m     \u001b[39mif\u001b[39;00m \u001b[39mnot\u001b[39;00m success:\n\u001b[1;32m    184\u001b[0m         \u001b[39mself\u001b[39m\u001b[39m.\u001b[39mstatus \u001b[39m=\u001b[39m \u001b[39m'\u001b[39m\u001b[39mfailed\u001b[39m\u001b[39m'\u001b[39m\n",
      "File \u001b[0;32m~/anaconda3/envs/latent-geometry/lib/python3.9/site-packages/scipy/integrate/_ivp/rk.py:144\u001b[0m, in \u001b[0;36mRungeKutta._step_impl\u001b[0;34m(self)\u001b[0m\n\u001b[1;32m    141\u001b[0m h \u001b[39m=\u001b[39m t_new \u001b[39m-\u001b[39m t\n\u001b[1;32m    142\u001b[0m h_abs \u001b[39m=\u001b[39m np\u001b[39m.\u001b[39mabs(h)\n\u001b[0;32m--> 144\u001b[0m y_new, f_new \u001b[39m=\u001b[39m rk_step(\u001b[39mself\u001b[39;49m\u001b[39m.\u001b[39;49mfun, t, y, \u001b[39mself\u001b[39;49m\u001b[39m.\u001b[39;49mf, h, \u001b[39mself\u001b[39;49m\u001b[39m.\u001b[39;49mA,\n\u001b[1;32m    145\u001b[0m                        \u001b[39mself\u001b[39;49m\u001b[39m.\u001b[39;49mB, \u001b[39mself\u001b[39;49m\u001b[39m.\u001b[39;49mC, \u001b[39mself\u001b[39;49m\u001b[39m.\u001b[39;49mK)\n\u001b[1;32m    146\u001b[0m scale \u001b[39m=\u001b[39m atol \u001b[39m+\u001b[39m np\u001b[39m.\u001b[39mmaximum(np\u001b[39m.\u001b[39mabs(y), np\u001b[39m.\u001b[39mabs(y_new)) \u001b[39m*\u001b[39m rtol\n\u001b[1;32m    147\u001b[0m error_norm \u001b[39m=\u001b[39m \u001b[39mself\u001b[39m\u001b[39m.\u001b[39m_estimate_error_norm(\u001b[39mself\u001b[39m\u001b[39m.\u001b[39mK, h, scale)\n",
      "File \u001b[0;32m~/anaconda3/envs/latent-geometry/lib/python3.9/site-packages/scipy/integrate/_ivp/rk.py:64\u001b[0m, in \u001b[0;36mrk_step\u001b[0;34m(fun, t, y, f, h, A, B, C, K)\u001b[0m\n\u001b[1;32m     62\u001b[0m \u001b[39mfor\u001b[39;00m s, (a, c) \u001b[39min\u001b[39;00m \u001b[39menumerate\u001b[39m(\u001b[39mzip\u001b[39m(A[\u001b[39m1\u001b[39m:], C[\u001b[39m1\u001b[39m:]), start\u001b[39m=\u001b[39m\u001b[39m1\u001b[39m):\n\u001b[1;32m     63\u001b[0m     dy \u001b[39m=\u001b[39m np\u001b[39m.\u001b[39mdot(K[:s]\u001b[39m.\u001b[39mT, a[:s]) \u001b[39m*\u001b[39m h\n\u001b[0;32m---> 64\u001b[0m     K[s] \u001b[39m=\u001b[39m fun(t \u001b[39m+\u001b[39;49m c \u001b[39m*\u001b[39;49m h, y \u001b[39m+\u001b[39;49m dy)\n\u001b[1;32m     66\u001b[0m y_new \u001b[39m=\u001b[39m y \u001b[39m+\u001b[39m h \u001b[39m*\u001b[39m np\u001b[39m.\u001b[39mdot(K[:\u001b[39m-\u001b[39m\u001b[39m1\u001b[39m]\u001b[39m.\u001b[39mT, B)\n\u001b[1;32m     67\u001b[0m f_new \u001b[39m=\u001b[39m fun(t \u001b[39m+\u001b[39m h, y_new)\n",
      "File \u001b[0;32m~/anaconda3/envs/latent-geometry/lib/python3.9/site-packages/scipy/integrate/_ivp/base.py:138\u001b[0m, in \u001b[0;36mOdeSolver.__init__.<locals>.fun\u001b[0;34m(t, y)\u001b[0m\n\u001b[1;32m    136\u001b[0m \u001b[39mdef\u001b[39;00m \u001b[39mfun\u001b[39m(t, y):\n\u001b[1;32m    137\u001b[0m     \u001b[39mself\u001b[39m\u001b[39m.\u001b[39mnfev \u001b[39m+\u001b[39m\u001b[39m=\u001b[39m \u001b[39m1\u001b[39m\n\u001b[0;32m--> 138\u001b[0m     \u001b[39mreturn\u001b[39;00m \u001b[39mself\u001b[39;49m\u001b[39m.\u001b[39;49mfun_single(t, y)\n",
      "File \u001b[0;32m~/anaconda3/envs/latent-geometry/lib/python3.9/site-packages/scipy/integrate/_ivp/base.py:20\u001b[0m, in \u001b[0;36mcheck_arguments.<locals>.fun_wrapped\u001b[0;34m(t, y)\u001b[0m\n\u001b[1;32m     19\u001b[0m \u001b[39mdef\u001b[39;00m \u001b[39mfun_wrapped\u001b[39m(t, y):\n\u001b[0;32m---> 20\u001b[0m     \u001b[39mreturn\u001b[39;00m np\u001b[39m.\u001b[39masarray(fun(t, y), dtype\u001b[39m=\u001b[39mdtype)\n",
      "File \u001b[0;32m~/school/mgr/latent-geometry/src/latent_geometry/solver/exponential.py:74\u001b[0m, in \u001b[0;36mIVPExponentialSolver._create_solver_fun.<locals>.fun\u001b[0;34m(t, state)\u001b[0m\n\u001b[1;32m     72\u001b[0m \u001b[39mdef\u001b[39;00m \u001b[39mfun\u001b[39m(t: \u001b[39mfloat\u001b[39m, state: np\u001b[39m.\u001b[39mndarray) \u001b[39m-\u001b[39m\u001b[39m>\u001b[39m np\u001b[39m.\u001b[39mndarray:\n\u001b[1;32m     73\u001b[0m     x, v \u001b[39m=\u001b[39m IVPExponentialSolver\u001b[39m.\u001b[39m_unpack_state(state)\n\u001b[0;32m---> 74\u001b[0m     a \u001b[39m=\u001b[39m acceleration_fun(x, v)\n\u001b[1;32m     75\u001b[0m     y_prime \u001b[39m=\u001b[39m IVPExponentialSolver\u001b[39m.\u001b[39m_pack_state(v, a)\n\u001b[1;32m     76\u001b[0m     \u001b[39mreturn\u001b[39;00m y_prime\n",
      "File \u001b[0;32m~/school/mgr/latent-geometry/src/latent_geometry/connection.py:47\u001b[0m, in \u001b[0;36mConnection.acceleration\u001b[0;34m(self, position, velocity)\u001b[0m\n\u001b[1;32m     32\u001b[0m \u001b[39mdef\u001b[39;00m \u001b[39macceleration\u001b[39m(\u001b[39mself\u001b[39m, position: np\u001b[39m.\u001b[39mndarray, velocity: np\u001b[39m.\u001b[39mndarray) \u001b[39m-\u001b[39m\u001b[39m>\u001b[39m np\u001b[39m.\u001b[39mndarray:\n\u001b[1;32m     33\u001b[0m \u001b[39m    \u001b[39m\u001b[39m\"\"\"Compute the acceleration vector given position and velocity.\u001b[39;00m\n\u001b[1;32m     34\u001b[0m \n\u001b[1;32m     35\u001b[0m \u001b[39m    Parameters\u001b[39;00m\n\u001b[0;32m   (...)\u001b[0m\n\u001b[1;32m     45\u001b[0m \u001b[39m        Acceleration vector in the given state.\u001b[39;00m\n\u001b[1;32m     46\u001b[0m \u001b[39m    \"\"\"\u001b[39;00m\n\u001b[0;32m---> 47\u001b[0m     gamma \u001b[39m=\u001b[39m \u001b[39mself\u001b[39;49m\u001b[39m.\u001b[39;49mchristoffels(position)\n\u001b[1;32m     48\u001b[0m     acceleration \u001b[39m=\u001b[39m np\u001b[39m.\u001b[39meinsum(\u001b[39m\"\u001b[39m\u001b[39mijk,j,k->i\u001b[39m\u001b[39m\"\u001b[39m, gamma, velocity, \u001b[39m-\u001b[39mvelocity)\n\u001b[1;32m     49\u001b[0m     \u001b[39mreturn\u001b[39;00m acceleration\n",
      "File \u001b[0;32m~/school/mgr/latent-geometry/src/latent_geometry/metric/abstract.py:137\u001b[0m, in \u001b[0;36mPullbackMetric.christoffels\u001b[0;34m(self, base_point)\u001b[0m\n\u001b[1;32m    112\u001b[0m \u001b[39m\u001b[39m\u001b[39mr\u001b[39m\u001b[39m\"\"\"Compute Christoffel symbols of the Levi-Civita connection.\u001b[39;00m\n\u001b[1;32m    113\u001b[0m \n\u001b[1;32m    114\u001b[0m \u001b[39mThe Koszul formula defining the Levi-Civita connection gives the\u001b[39;00m\n\u001b[0;32m   (...)\u001b[0m\n\u001b[1;32m    134\u001b[0m \u001b[39m    Christoffel symbols, where the contravariant index is first.\u001b[39;00m\n\u001b[1;32m    135\u001b[0m \u001b[39m\"\"\"\u001b[39;00m\n\u001b[1;32m    136\u001b[0m cometric_mat_at_point \u001b[39m=\u001b[39m \u001b[39mself\u001b[39m\u001b[39m.\u001b[39mcometric_matrix(base_point)\n\u001b[0;32m--> 137\u001b[0m metric_derivative_at_point \u001b[39m=\u001b[39m \u001b[39mself\u001b[39;49m\u001b[39m.\u001b[39;49mmetric_matrix_derivative(base_point)\n\u001b[1;32m    139\u001b[0m term_1 \u001b[39m=\u001b[39m np\u001b[39m.\u001b[39meinsum(\n\u001b[1;32m    140\u001b[0m     \u001b[39m\"\u001b[39m\u001b[39mlk,jli->kij\u001b[39m\u001b[39m\"\u001b[39m, cometric_mat_at_point, metric_derivative_at_point\n\u001b[1;32m    141\u001b[0m )\n\u001b[1;32m    142\u001b[0m term_2 \u001b[39m=\u001b[39m np\u001b[39m.\u001b[39meinsum(\n\u001b[1;32m    143\u001b[0m     \u001b[39m\"\u001b[39m\u001b[39mlk,lij->kij\u001b[39m\u001b[39m\"\u001b[39m, cometric_mat_at_point, metric_derivative_at_point\n\u001b[1;32m    144\u001b[0m )\n",
      "File \u001b[0;32m~/school/mgr/latent-geometry/src/latent_geometry/metric/abstract.py:171\u001b[0m, in \u001b[0;36mMappingPullbackMetric.metric_matrix_derivative\u001b[0;34m(self, base_point)\u001b[0m\n\u001b[1;32m    168\u001b[0m H \u001b[39m=\u001b[39m \u001b[39mself\u001b[39m\u001b[39m.\u001b[39mmapping\u001b[39m.\u001b[39msecond_derivative(base_point)\n\u001b[1;32m    169\u001b[0m A \u001b[39m=\u001b[39m \u001b[39mself\u001b[39m\u001b[39m.\u001b[39mambient_metric\u001b[39m.\u001b[39mmetric_matrix(ambient_point)\n\u001b[0;32m--> 171\u001b[0m term_1 \u001b[39m=\u001b[39m np\u001b[39m.\u001b[39;49meinsum(\u001b[39m\"\u001b[39;49m\u001b[39mrs,rik,sj->ijk\u001b[39;49m\u001b[39m\"\u001b[39;49m, A, H, J)\n\u001b[1;32m    172\u001b[0m term_2 \u001b[39m=\u001b[39m np\u001b[39m.\u001b[39meinsum(\u001b[39m\"\u001b[39m\u001b[39mrs,sjk,ri->ijk\u001b[39m\u001b[39m\"\u001b[39m, A, H, J)\n\u001b[1;32m    173\u001b[0m \u001b[39mreturn\u001b[39;00m term_1 \u001b[39m+\u001b[39m term_2\n",
      "File \u001b[0;32m<__array_function__ internals>:200\u001b[0m, in \u001b[0;36meinsum\u001b[0;34m(*args, **kwargs)\u001b[0m\n",
      "File \u001b[0;32m~/anaconda3/envs/latent-geometry/lib/python3.9/site-packages/numpy/core/einsumfunc.py:1371\u001b[0m, in \u001b[0;36meinsum\u001b[0;34m(out, optimize, *operands, **kwargs)\u001b[0m\n\u001b[1;32m   1369\u001b[0m     \u001b[39mif\u001b[39;00m specified_out:\n\u001b[1;32m   1370\u001b[0m         kwargs[\u001b[39m'\u001b[39m\u001b[39mout\u001b[39m\u001b[39m'\u001b[39m] \u001b[39m=\u001b[39m out\n\u001b[0;32m-> 1371\u001b[0m     \u001b[39mreturn\u001b[39;00m c_einsum(\u001b[39m*\u001b[39;49moperands, \u001b[39m*\u001b[39;49m\u001b[39m*\u001b[39;49mkwargs)\n\u001b[1;32m   1373\u001b[0m \u001b[39m# Check the kwargs to avoid a more cryptic error later, without having to\u001b[39;00m\n\u001b[1;32m   1374\u001b[0m \u001b[39m# repeat default values here\u001b[39;00m\n\u001b[1;32m   1375\u001b[0m valid_einsum_kwargs \u001b[39m=\u001b[39m [\u001b[39m'\u001b[39m\u001b[39mdtype\u001b[39m\u001b[39m'\u001b[39m, \u001b[39m'\u001b[39m\u001b[39morder\u001b[39m\u001b[39m'\u001b[39m, \u001b[39m'\u001b[39m\u001b[39mcasting\u001b[39m\u001b[39m'\u001b[39m]\n",
      "\u001b[0;31mKeyboardInterrupt\u001b[0m: "
     ]
    }
   ],
   "source": [
    "# 6 points = 2min on gpu\n",
    "# 2 points = 2min on cpu\n",
    "create_topology_fig_given_manifold(\n",
    "    points=points,\n",
    "    labels=labels,\n",
    "    centre=center,\n",
    "    manifold=manifold_mnist,\n",
    "    num_lines=2,\n",
    "    num_circles=4,\n",
    ").show()"
   ]
  },
  {
   "cell_type": "code",
   "execution_count": 66,
   "metadata": {
    "colab": {
     "base_uri": "https://localhost:8080/"
    },
    "id": "OtiL1Y0r-6my",
    "outputId": "a263e68c-7a12-4ef7-8cf9-fa14e74ec485"
   },
   "outputs": [
    {
     "data": {
      "text/plain": [
       "(array([-0.8701538 , -0.22426684], dtype=float32),\n",
       " array([ 0.28401083, -1.2436879 ], dtype=float32))"
      ]
     },
     "execution_count": 66,
     "metadata": {},
     "output_type": "execute_result"
    }
   ],
   "source": [
    "points[0], points[1]"
   ]
  },
  {
   "cell_type": "code",
   "execution_count": 68,
   "metadata": {
    "colab": {
     "base_uri": "https://localhost:8080/",
     "height": 1000
    },
    "id": "yYa67px1-Fmh",
    "outputId": "d48d6339-35ad-4035-f22c-1db4d3a6159b"
   },
   "outputs": [
    {
     "name": "stdout",
     "output_type": "stream",
     "text": [
      "[-0.8701538  -0.22426684] [ 0.28401083 -1.2436879 ]\n",
      "[-0.8701538  -0.22426684] [ 0.28401083 -1.2436879 ]\n",
      "[-0.8701538  -0.22426684] [ 1.1541646 -1.019421 ]\n",
      "[ 0.28401077 -1.2436879 ] [ 1.1541646 -1.019421 ]\n",
      "[ 1.15416455 -1.01942098] [-4.59777119  4.73567804]\n",
      "[ 1.15416455 -1.01942098] [ 1.92695013 -1.87758385]\n",
      "[ 1.15416455 -1.01942098] [-4.59777119  4.73567804]\n",
      "[ 1.15416455 -1.01942098] [ 1.92695013 -1.87758385]\n",
      "[ 0.33857439 -0.19276325] [ 0.12282949 -0.34265077]\n",
      "[ 1.15416455 -1.01942098] [-4.59777119  4.73567804]\n",
      "[ 1.15416455 -1.01942098] [ 1.9269496  -1.87758315]\n",
      "[ 1.15416455 -1.01942098] [-4.59777046  4.73567754]\n",
      "[ 1.15416455 -1.01942098] [ 1.92695013 -1.87758385]\n",
      "[ 1.15416458 -1.01942098] [-4.59777144  4.73567822]\n",
      "[ 1.15416458 -1.01942098] [ 1.92695022 -1.87758391]\n",
      "[ 1.15416455 -1.01942095] [-4.59777118  4.73567795]\n",
      "[ 1.15416455 -1.01942095] [ 1.92695011 -1.8775838 ]\n",
      "[ 0.33857439 -0.19276325] [ 0.1228295  -0.34265087]\n",
      "[ 0.33857439 -0.19276325] [ 0.12282938 -0.34265072]\n",
      "[ 0.33857441 -0.19276325] [ 0.1228295  -0.34265082]\n",
      "[ 0.33857439 -0.19276323] [ 0.12282949 -0.34265078]\n",
      "[-2.66792901  4.52731223] [-25.99234354  39.57014571]\n",
      "[ 0.84180002 -1.39644306] [ 1.56185355 -1.90867355]\n",
      "[-4.35733913  6.75028699] [ 59.45040167 -85.12407912]\n",
      "[-0.75688223  1.75394563] [-2.23450166  4.03165594]\n",
      "[ 0.99798229 -1.20793202] [ 1.71472103 -1.89011307]\n",
      "[-0.37310281  1.01322793] [-0.62534968  1.15626629]\n",
      "[0.19864116 0.36726232] [-0.1509975 -0.146647 ]\n",
      "[ 1.07607342 -1.1136765 ] [ 1.81341572 -1.88309496]\n",
      "[ 0.39180564 -0.15615109] [-0.62044218  0.59730187]\n",
      "[ 0.67640286 -0.32607933] [-1.55809961  1.16193702]\n",
      "[ 1.11511899 -1.06654874] [ 1.86832789 -1.88015096]\n",
      "[ 0.46745748 -0.31605304] [-0.55337716 -2.9618733 ]\n",
      "[ 0.9152837  -0.67275016] [-2.87386422  2.66566291]\n",
      "[ 1.13464177 -1.04298486] [ 1.89717526 -1.87882029]\n",
      "[ 0.4285828  -0.28980711] [ 0.27268372 -1.09915444]\n",
      "[ 0.9152837  -0.67275016] [-2.87386422  2.66566291]\n",
      "[ 1.13464177 -1.04298486] [ 1.89717472 -1.8788196 ]\n",
      "[ 0.9152837  -0.67275016] [-2.87386376  2.6656626 ]\n",
      "[ 1.13464177 -1.04298486] [ 1.89717526 -1.87882029]\n",
      "[ 0.91528373 -0.67275016] [-2.8738644   2.66566302]\n",
      "[ 1.1346418  -1.04298486] [ 1.89717534 -1.87882035]\n",
      "[ 0.9152837  -0.67275013] [-2.87386422  2.66566285]\n",
      "[ 1.13464177 -1.04298483] [ 1.89717523 -1.87882024]\n",
      "[ 0.4285828  -0.28980711] [ 0.27268372 -1.09915444]\n",
      "[ 0.4285828  -0.28980711] [ 0.27268372 -1.09915444]\n",
      "[ 0.42858282 -0.28980711] [ 0.27268374 -1.09915456]\n",
      "[ 0.4285828  -0.28980709] [ 0.27268371 -1.09915446]\n",
      "[-2.07542829  4.29467934] [-16.32966963  27.79032811]\n",
      "[ 3.59991013 -4.9036977 ] [ 24.25095534 -27.87206335]\n",
      "[-4.3103372   6.65328975] [-40.59014428  95.1428744 ]\n",
      "[-0.58007229  1.81096459] [-1.46276785  2.99163913]\n",
      "[ 2.36727595 -2.97334128] [  9.89213629 -11.05146374]\n",
      "[-0.52576119  1.17419952] [ 0.24850885 -0.29224618]\n",
      "[0.16760571 0.56910722] [-0.13356626 -0.23043808]\n",
      "[ 1.75095886 -2.00816307] [ 5.09917333 -5.50914735]\n",
      "[ 0.30518983 -0.05968927] [-0.31081272  0.04871067]\n",
      "[ 0.54144471 -0.05182147] [-0.9950278   0.45284014]\n",
      "[ 1.44280031 -1.52557397] [ 3.29930447 -3.45498608]\n",
      "[ 0.45533098 -0.30021944] [-0.824768    1.00637957]\n",
      "[ 0.72836421 -0.36228581] [-1.80727415  1.36805846]\n",
      "[ 1.28872104 -1.28427941] [ 2.54852221 -2.60715352]\n",
      "[ 0.46406808 -0.32638112] [-1.1696448  -2.58796045]\n",
      "[ 0.72836421 -0.36228581] [-1.80727415  1.36805846]\n",
      "[ 1.28872104 -1.28427941] [ 2.54852146 -2.6071526 ]\n",
      "[ 0.72836421 -0.36228581] [-1.80727385  1.36805827]\n",
      "[ 1.28872104 -1.28427941] [ 2.54852221 -2.60715352]\n",
      "[ 0.72836423 -0.36228581] [-1.80727428  1.36805853]\n",
      "[ 1.28872108 -1.28427941] [ 2.54852231 -2.6071536 ]\n",
      "[ 0.72836421 -0.36228579] [-1.80727415  1.36805842]\n",
      "[ 1.28872104 -1.28427938] [ 2.54852218 -2.60715346]\n",
      "[ 0.46406808 -0.32638112] [-1.16964211 -2.58796578]\n",
      "[ 0.46406808 -0.32638112] [-1.16964423 -2.58796096]\n",
      "[ 0.4640681  -0.32638112] [-1.16964491 -2.5879607 ]\n",
      "[ 0.46406808 -0.3263811 ] [-1.1696448  -2.58796046]\n",
      "[ 2.77301043 -2.29598948] [-26.47621465  26.26928097]\n",
      "[ 3.29035258 -3.33762381] [ 16.77064236 -17.27754953]\n",
      "[-2.37417562  2.62654717] [-30.91836842 -95.05154666]\n",
      "[ 1.75068732 -1.32913764] [-10.52363192   9.9395162 ]\n",
      "[ 2.28953681 -2.31095161] [ 8.09853059 -8.32695352]\n",
      "[-0.30765825  0.46326409] [-0.60385376 -1.46674323]\n",
      "[ 1.23952576 -0.84571173] [-5.26092491  4.68399895]\n",
      "[ 1.78912893 -1.79761551] [ 4.93326314 -5.06320365]\n",
      "[ 0.24005384 -0.1032633 ] [-0.28979403 -0.75783206]\n",
      "[ 1.23952576 -0.84571173] [-5.26092491  4.68399895]\n",
      "[ 1.78912893 -1.79761551] [ 4.93326314 -5.06320365]\n",
      "[ 1.23952576 -0.84571173] [-5.26092406  4.6839984 ]\n",
      "[ 1.78912893 -1.79761551] [ 4.93326314 -5.06320365]\n",
      "[ 1.23952579 -0.84571173] [-5.26092519  4.68399913]\n",
      "[ 1.78912897 -1.79761551] [ 4.93326331 -5.06320377]\n",
      "[ 1.23952576 -0.8457117 ] [-5.26092491  4.68399887]\n",
      "[ 1.78912893 -1.79761547] [ 4.93326308 -5.06320354]\n",
      "[ 0.24005384 -0.1032633 ] [-0.28979403 -0.75783206]\n",
      "[ 0.24005384 -0.1032633 ] [-0.28979411 -0.75783153]\n",
      "[ 0.24005385 -0.1032633 ] [-0.28979408 -0.75783218]\n",
      "[ 0.24005384 -0.10326328] [-0.28979403 -0.75783206]\n",
      "[ 1.9533307  -7.06288527] [-17.89737668  38.12625367]\n",
      "[ 9.69865019 -6.57555578] [ 122.9389955  -107.49366135]\n",
      "[-11.77855608  11.38326885] [-292.45350939   31.71656226]\n",
      "[ 1.59642823 -3.9542985 ] [-10.13831887  18.8877377 ]\n",
      "[ 5.74388956 -4.18658565] [ 44.1833473  -39.79024271]\n",
      "[-3.12004938  3.26430548] [-16.15253067  44.11958256]\n",
      "[ 1.417977   -2.40000511] [-7.33941391 11.15652117]\n",
      "[ 3.76650924 -2.99210058] [ 19.62010885 -18.30467477]\n",
      "[-0.77769723  0.98659665] [-2.02272466  1.7811078 ]\n",
      "[ 1.32875138 -1.62285842] [-6.21011742  7.76292327]\n",
      "[ 2.77781908 -2.39485805] [ 11.0421369  -10.65342711]\n",
      "[-0.10324656  0.29318556] [-0.02043442 -0.0667174 ]\n",
      "[ 1.28413857 -1.23428507] [-5.71300817  6.18412692]\n"
     ]
    },
    {
     "ename": "KeyboardInterrupt",
     "evalue": "",
     "output_type": "error",
     "traceback": [
      "\u001b[0;31m---------------------------------------------------------------------------\u001b[0m",
      "\u001b[0;31mKeyboardInterrupt\u001b[0m                         Traceback (most recent call last)",
      "Cell \u001b[0;32mIn[68], line 1\u001b[0m\n\u001b[0;32m----> 1\u001b[0m create_topology_fig_geodesics_given_manifold(\n\u001b[1;32m      2\u001b[0m     points\u001b[39m=\u001b[39;49mpoints,\n\u001b[1;32m      3\u001b[0m     labels\u001b[39m=\u001b[39;49mlabels,\n\u001b[1;32m      4\u001b[0m     centers1\u001b[39m=\u001b[39;49m[points[\u001b[39m0\u001b[39;49m]],\n\u001b[1;32m      5\u001b[0m     centers2\u001b[39m=\u001b[39;49m[points[\u001b[39m1\u001b[39;49m]],\n\u001b[1;32m      6\u001b[0m     manifold\u001b[39m=\u001b[39;49mmanifold_mnist,\n\u001b[1;32m      7\u001b[0m )\u001b[39m.\u001b[39mshow()\n",
      "Cell \u001b[0;32mIn[61], line 11\u001b[0m, in \u001b[0;36mcreate_topology_fig_geodesics_given_manifold\u001b[0;34m(points, labels, centers1, centers2, manifold)\u001b[0m\n\u001b[1;32m      8\u001b[0m df_ \u001b[39m=\u001b[39m create_df(points, labels)\n\u001b[1;32m      9\u001b[0m background_trace \u001b[39m=\u001b[39m create_latent_fig(df_, three_d\u001b[39m=\u001b[39m\u001b[39mFalse\u001b[39;00m)\u001b[39m.\u001b[39mdata[\u001b[39m0\u001b[39m]\n\u001b[0;32m---> 11\u001b[0m \u001b[39mreturn\u001b[39;00m create_topology_fig_geodesics(\n\u001b[1;32m     12\u001b[0m     centers1,\n\u001b[1;32m     13\u001b[0m     centers2,\n\u001b[1;32m     14\u001b[0m     manifold,\n\u001b[1;32m     15\u001b[0m     background_trace,\n\u001b[1;32m     16\u001b[0m )\n",
      "File \u001b[0;32m~/school/mgr/latent-geometry/src/latent_geometry/visual/plotly.py:62\u001b[0m, in \u001b[0;36mcreate_topology_fig_geodesics\u001b[0;34m(centers1, centers2, manifold, background_trace)\u001b[0m\n\u001b[1;32m     56\u001b[0m \u001b[39mdef\u001b[39;00m \u001b[39mcreate_topology_fig_geodesics\u001b[39m(\n\u001b[1;32m     57\u001b[0m     centers1: \u001b[39mlist\u001b[39m[np\u001b[39m.\u001b[39mndarray],\n\u001b[1;32m     58\u001b[0m     centers2: \u001b[39mlist\u001b[39m[np\u001b[39m.\u001b[39mndarray],\n\u001b[1;32m     59\u001b[0m     manifold: Manifold,\n\u001b[1;32m     60\u001b[0m     background_trace: go\u001b[39m.\u001b[39mScatter,\n\u001b[1;32m     61\u001b[0m ) \u001b[39m-\u001b[39m\u001b[39m>\u001b[39m go\u001b[39m.\u001b[39mFigure:\n\u001b[0;32m---> 62\u001b[0m     geodesics \u001b[39m=\u001b[39m get_geodesics(centers1, centers2, manifold)\n\u001b[1;32m     63\u001b[0m     traces \u001b[39m=\u001b[39m [background_trace]\n\u001b[1;32m     64\u001b[0m     traces\u001b[39m.\u001b[39mextend(\n\u001b[1;32m     65\u001b[0m         [create_scatter_object_given_path(geodesic) \u001b[39mfor\u001b[39;00m geodesic \u001b[39min\u001b[39;00m geodesics]\n\u001b[1;32m     66\u001b[0m     )\n",
      "File \u001b[0;32m~/school/mgr/latent-geometry/src/latent_geometry/visual/calc.py:51\u001b[0m, in \u001b[0;36mget_geodesics\u001b[0;34m(centers1, centers2, manifold)\u001b[0m\n\u001b[1;32m     49\u001b[0m lines \u001b[39m=\u001b[39m []\n\u001b[1;32m     50\u001b[0m \u001b[39mfor\u001b[39;00m center_1, center_2 \u001b[39min\u001b[39;00m \u001b[39mzip\u001b[39m(centers1, centers2):\n\u001b[0;32m---> 51\u001b[0m     path \u001b[39m=\u001b[39m manifold\u001b[39m.\u001b[39;49mgeodesic(center_1, center_2)\n\u001b[1;32m     52\u001b[0m     lines\u001b[39m.\u001b[39mappend(path)\n\u001b[1;32m     53\u001b[0m \u001b[39mreturn\u001b[39;00m lines\n",
      "File \u001b[0;32m~/school/mgr/latent-geometry/src/latent_geometry/manifold/latent.py:21\u001b[0m, in \u001b[0;36mLatentManifold.geodesic\u001b[0;34m(self, z_a, z_b)\u001b[0m\n\u001b[1;32m     20\u001b[0m \u001b[39mdef\u001b[39;00m \u001b[39mgeodesic\u001b[39m(\u001b[39mself\u001b[39m, z_a: np\u001b[39m.\u001b[39mndarray, z_b: np\u001b[39m.\u001b[39mndarray) \u001b[39m-\u001b[39m\u001b[39m>\u001b[39m ManifoldPath:\n\u001b[0;32m---> 21\u001b[0m     solver_path \u001b[39m=\u001b[39m \u001b[39mself\u001b[39;49m\u001b[39m.\u001b[39;49m_log_solver\u001b[39m.\u001b[39;49mfind_path(z_a, z_b, \u001b[39mself\u001b[39;49m\u001b[39m.\u001b[39;49mmetric\u001b[39m.\u001b[39;49macceleration)\n\u001b[1;32m     22\u001b[0m     \u001b[39mreturn\u001b[39;00m ManifoldPath(\n\u001b[1;32m     23\u001b[0m         solver_path\u001b[39m.\u001b[39mposition,\n\u001b[1;32m     24\u001b[0m         solver_path\u001b[39m.\u001b[39mvelocity,\n\u001b[1;32m     25\u001b[0m         \u001b[39mself\u001b[39m\u001b[39m.\u001b[39mmetric,\n\u001b[1;32m     26\u001b[0m         \u001b[39mself\u001b[39m\u001b[39m.\u001b[39m_euclidean_latent_metric,\n\u001b[1;32m     27\u001b[0m     )\n",
      "File \u001b[0;32m~/school/mgr/latent-geometry/src/latent_geometry/solver/logarithm.py:24\u001b[0m, in \u001b[0;36mBVPLogarithmSolver.find_path\u001b[0;34m(self, start_position, finish_position, acceleration_fun)\u001b[0m\n\u001b[1;32m     17\u001b[0m \u001b[39mdef\u001b[39;00m \u001b[39mfind_path\u001b[39m(\n\u001b[1;32m     18\u001b[0m     \u001b[39mself\u001b[39m,\n\u001b[1;32m     19\u001b[0m     start_position: np\u001b[39m.\u001b[39mndarray,\n\u001b[1;32m     20\u001b[0m     finish_position: np\u001b[39m.\u001b[39mndarray,\n\u001b[1;32m     21\u001b[0m     acceleration_fun: Callable[[np\u001b[39m.\u001b[39mndarray, np\u001b[39m.\u001b[39mndarray], np\u001b[39m.\u001b[39mndarray],\n\u001b[1;32m     22\u001b[0m ) \u001b[39m-\u001b[39m\u001b[39m>\u001b[39m SolverResultPath:\n\u001b[1;32m     23\u001b[0m     \u001b[39mtry\u001b[39;00m:\n\u001b[0;32m---> 24\u001b[0m         result \u001b[39m=\u001b[39m \u001b[39mself\u001b[39;49m\u001b[39m.\u001b[39;49m_solve(start_position, finish_position, acceleration_fun)\n\u001b[1;32m     25\u001b[0m         \u001b[39mif\u001b[39;00m result\u001b[39m.\u001b[39msuccess:\n\u001b[1;32m     26\u001b[0m             \u001b[39mreturn\u001b[39;00m \u001b[39mself\u001b[39m\u001b[39m.\u001b[39m_create_result_path(result\u001b[39m.\u001b[39msol, acceleration_fun)\n",
      "File \u001b[0;32m~/school/mgr/latent-geometry/src/latent_geometry/solver/logarithm.py:81\u001b[0m, in \u001b[0;36mBVPLogarithmSolver._solve\u001b[0;34m(self, start_position, finish_position, acceleration_fun)\u001b[0m\n\u001b[1;32m     78\u001b[0m fun \u001b[39m=\u001b[39m \u001b[39mself\u001b[39m\u001b[39m.\u001b[39m_create_fun(acceleration_fun)\n\u001b[1;32m     79\u001b[0m bc \u001b[39m=\u001b[39m \u001b[39mself\u001b[39m\u001b[39m.\u001b[39m_create_boundary_condition(start_position, finish_position)\n\u001b[1;32m     80\u001b[0m \u001b[39mreturn\u001b[39;00m solve_bvp(\n\u001b[0;32m---> 81\u001b[0m     fun,\n\u001b[1;32m     82\u001b[0m     bc\u001b[39m=\u001b[39mbc,\n\u001b[1;32m     83\u001b[0m     x\u001b[39m=\u001b[39mt_span,\n\u001b[1;32m     84\u001b[0m     y\u001b[39m=\u001b[39mpoints_on_initial_curve,\n\u001b[1;32m     85\u001b[0m     max_nodes\u001b[39m=\u001b[39mBVPLogarithmSolver\u001b[39m.\u001b[39mMAX_SCIPY_NODES,\n\u001b[1;32m     86\u001b[0m )\n",
      "File \u001b[0;32m~/anaconda3/envs/latent-geometry/lib/python3.9/site-packages/scipy/integrate/_bvp.py:1083\u001b[0m, in \u001b[0;36msolve_bvp\u001b[0;34m(fun, bc, x, y, p, S, fun_jac, bc_jac, tol, max_nodes, verbose, bc_tol)\u001b[0m\n\u001b[1;32m   1079\u001b[0m m \u001b[39m=\u001b[39m x\u001b[39m.\u001b[39mshape[\u001b[39m0\u001b[39m]\n\u001b[1;32m   1081\u001b[0m col_fun, jac_sys \u001b[39m=\u001b[39m prepare_sys(n, m, k, fun_wrapped, bc_wrapped,\n\u001b[1;32m   1082\u001b[0m                                fun_jac_wrapped, bc_jac_wrapped, x, h)\n\u001b[0;32m-> 1083\u001b[0m y, p, singular \u001b[39m=\u001b[39m solve_newton(n, m, h, col_fun, bc_wrapped, jac_sys,\n\u001b[1;32m   1084\u001b[0m                               y, p, B, tol, bc_tol)\n\u001b[1;32m   1085\u001b[0m iteration \u001b[39m+\u001b[39m\u001b[39m=\u001b[39m \u001b[39m1\u001b[39m\n\u001b[1;32m   1087\u001b[0m col_res, y_middle, f, f_middle \u001b[39m=\u001b[39m collocation_fun(fun_wrapped, y,\n\u001b[1;32m   1088\u001b[0m                                                  p, x, h)\n",
      "File \u001b[0;32m~/anaconda3/envs/latent-geometry/lib/python3.9/site-packages/scipy/integrate/_bvp.py:468\u001b[0m, in \u001b[0;36msolve_newton\u001b[0;34m(n, m, h, col_fun, bc, jac, y, p, B, bvp_tol, bc_tol)\u001b[0m\n\u001b[1;32m    465\u001b[0m     y_new[:, \u001b[39m0\u001b[39m] \u001b[39m=\u001b[39m np\u001b[39m.\u001b[39mdot(B, y_new[:, \u001b[39m0\u001b[39m])\n\u001b[1;32m    466\u001b[0m p_new \u001b[39m=\u001b[39m p \u001b[39m-\u001b[39m alpha \u001b[39m*\u001b[39m p_step\n\u001b[0;32m--> 468\u001b[0m col_res, y_middle, f, f_middle \u001b[39m=\u001b[39m col_fun(y_new, p_new)\n\u001b[1;32m    469\u001b[0m bc_res \u001b[39m=\u001b[39m bc(y_new[:, \u001b[39m0\u001b[39m], y_new[:, \u001b[39m-\u001b[39m\u001b[39m1\u001b[39m], p_new)\n\u001b[1;32m    470\u001b[0m res \u001b[39m=\u001b[39m np\u001b[39m.\u001b[39mhstack((col_res\u001b[39m.\u001b[39mravel(order\u001b[39m=\u001b[39m\u001b[39m'\u001b[39m\u001b[39mF\u001b[39m\u001b[39m'\u001b[39m), bc_res))\n",
      "File \u001b[0;32m~/anaconda3/envs/latent-geometry/lib/python3.9/site-packages/scipy/integrate/_bvp.py:323\u001b[0m, in \u001b[0;36mprepare_sys.<locals>.col_fun\u001b[0;34m(y, p)\u001b[0m\n\u001b[1;32m    322\u001b[0m \u001b[39mdef\u001b[39;00m \u001b[39mcol_fun\u001b[39m(y, p):\n\u001b[0;32m--> 323\u001b[0m     \u001b[39mreturn\u001b[39;00m collocation_fun(fun, y, p, x, h)\n",
      "File \u001b[0;32m~/anaconda3/envs/latent-geometry/lib/python3.9/site-packages/scipy/integrate/_bvp.py:307\u001b[0m, in \u001b[0;36mcollocation_fun\u001b[0;34m(fun, y, p, x, h)\u001b[0m\n\u001b[1;32m    276\u001b[0m \u001b[39mdef\u001b[39;00m \u001b[39mcollocation_fun\u001b[39m(fun, y, p, x, h):\n\u001b[1;32m    277\u001b[0m \u001b[39m    \u001b[39m\u001b[39m\"\"\"Evaluate collocation residuals.\u001b[39;00m\n\u001b[1;32m    278\u001b[0m \n\u001b[1;32m    279\u001b[0m \u001b[39m    This function lies in the core of the method. The solution is sought\u001b[39;00m\n\u001b[0;32m   (...)\u001b[0m\n\u001b[1;32m    305\u001b[0m \u001b[39m           Number 3, pp. 299-316, 2001.\u001b[39;00m\n\u001b[1;32m    306\u001b[0m \u001b[39m    \"\"\"\u001b[39;00m\n\u001b[0;32m--> 307\u001b[0m     f \u001b[39m=\u001b[39m fun(x, y, p)\n\u001b[1;32m    308\u001b[0m     y_middle \u001b[39m=\u001b[39m (\u001b[39m0.5\u001b[39m \u001b[39m*\u001b[39m (y[:, \u001b[39m1\u001b[39m:] \u001b[39m+\u001b[39m y[:, :\u001b[39m-\u001b[39m\u001b[39m1\u001b[39m]) \u001b[39m-\u001b[39m\n\u001b[1;32m    309\u001b[0m                 \u001b[39m0.125\u001b[39m \u001b[39m*\u001b[39m h \u001b[39m*\u001b[39m (f[:, \u001b[39m1\u001b[39m:] \u001b[39m-\u001b[39m f[:, :\u001b[39m-\u001b[39m\u001b[39m1\u001b[39m]))\n\u001b[1;32m    310\u001b[0m     f_middle \u001b[39m=\u001b[39m fun(x[:\u001b[39m-\u001b[39m\u001b[39m1\u001b[39m] \u001b[39m+\u001b[39m \u001b[39m0.5\u001b[39m \u001b[39m*\u001b[39m h, y_middle, p)\n",
      "File \u001b[0;32m~/anaconda3/envs/latent-geometry/lib/python3.9/site-packages/scipy/integrate/_bvp.py:647\u001b[0m, in \u001b[0;36mwrap_functions.<locals>.fun_p\u001b[0;34m(x, y, _)\u001b[0m\n\u001b[1;32m    646\u001b[0m \u001b[39mdef\u001b[39;00m \u001b[39mfun_p\u001b[39m(x, y, _):\n\u001b[0;32m--> 647\u001b[0m     \u001b[39mreturn\u001b[39;00m np\u001b[39m.\u001b[39masarray(fun(x, y), dtype)\n",
      "File \u001b[0;32m~/school/mgr/latent-geometry/src/latent_geometry/solver/logarithm.py:113\u001b[0m, in \u001b[0;36mfun\u001b[0;34m(t, y)\u001b[0m\n\u001b[1;32m    111\u001b[0m     a \u001b[39m=\u001b[39m acceleration_fun(x, v)\n\u001b[1;32m    112\u001b[0m     y_prime \u001b[39m=\u001b[39m BVPLogarithmSolver\u001b[39m.\u001b[39m_pack_state(v, a)\n\u001b[0;32m--> 113\u001b[0m     y_primes\u001b[39m.\u001b[39mappend(y_prime)\n\u001b[1;32m    114\u001b[0m \u001b[39mreturn\u001b[39;00m BVPLogarithmSolver\u001b[39m.\u001b[39m_pack_mesh(\u001b[39m*\u001b[39my_primes)\n",
      "File \u001b[0;32m~/school/mgr/latent-geometry/src/latent_geometry/connection.py:47\u001b[0m, in \u001b[0;36mConnection.acceleration\u001b[0;34m(self, position, velocity)\u001b[0m\n\u001b[1;32m     32\u001b[0m \u001b[39mdef\u001b[39;00m \u001b[39macceleration\u001b[39m(\u001b[39mself\u001b[39m, position: np\u001b[39m.\u001b[39mndarray, velocity: np\u001b[39m.\u001b[39mndarray) \u001b[39m-\u001b[39m\u001b[39m>\u001b[39m np\u001b[39m.\u001b[39mndarray:\n\u001b[1;32m     33\u001b[0m \u001b[39m    \u001b[39m\u001b[39m\"\"\"Compute the acceleration vector given position and velocity.\u001b[39;00m\n\u001b[1;32m     34\u001b[0m \n\u001b[1;32m     35\u001b[0m \u001b[39m    Parameters\u001b[39;00m\n\u001b[0;32m   (...)\u001b[0m\n\u001b[1;32m     45\u001b[0m \u001b[39m        Acceleration vector in the given state.\u001b[39;00m\n\u001b[1;32m     46\u001b[0m \u001b[39m    \"\"\"\u001b[39;00m\n\u001b[0;32m---> 47\u001b[0m     gamma \u001b[39m=\u001b[39m \u001b[39mself\u001b[39;49m\u001b[39m.\u001b[39;49mchristoffels(position)\n\u001b[1;32m     48\u001b[0m     acceleration \u001b[39m=\u001b[39m np\u001b[39m.\u001b[39meinsum(\u001b[39m\"\u001b[39m\u001b[39mijk,j,k->i\u001b[39m\u001b[39m\"\u001b[39m, gamma, velocity, \u001b[39m-\u001b[39mvelocity)\n\u001b[1;32m     49\u001b[0m     \u001b[39mreturn\u001b[39;00m acceleration\n",
      "File \u001b[0;32m~/school/mgr/latent-geometry/src/latent_geometry/metric/abstract.py:137\u001b[0m, in \u001b[0;36mPullbackMetric.christoffels\u001b[0;34m(self, base_point)\u001b[0m\n\u001b[1;32m    112\u001b[0m \u001b[39m\u001b[39m\u001b[39mr\u001b[39m\u001b[39m\"\"\"Compute Christoffel symbols of the Levi-Civita connection.\u001b[39;00m\n\u001b[1;32m    113\u001b[0m \n\u001b[1;32m    114\u001b[0m \u001b[39mThe Koszul formula defining the Levi-Civita connection gives the\u001b[39;00m\n\u001b[0;32m   (...)\u001b[0m\n\u001b[1;32m    134\u001b[0m \u001b[39m    Christoffel symbols, where the contravariant index is first.\u001b[39;00m\n\u001b[1;32m    135\u001b[0m \u001b[39m\"\"\"\u001b[39;00m\n\u001b[1;32m    136\u001b[0m cometric_mat_at_point \u001b[39m=\u001b[39m \u001b[39mself\u001b[39m\u001b[39m.\u001b[39mcometric_matrix(base_point)\n\u001b[0;32m--> 137\u001b[0m metric_derivative_at_point \u001b[39m=\u001b[39m \u001b[39mself\u001b[39;49m\u001b[39m.\u001b[39;49mmetric_matrix_derivative(base_point)\n\u001b[1;32m    139\u001b[0m term_1 \u001b[39m=\u001b[39m np\u001b[39m.\u001b[39meinsum(\n\u001b[1;32m    140\u001b[0m     \u001b[39m\"\u001b[39m\u001b[39mlk,jli->kij\u001b[39m\u001b[39m\"\u001b[39m, cometric_mat_at_point, metric_derivative_at_point\n\u001b[1;32m    141\u001b[0m )\n\u001b[1;32m    142\u001b[0m term_2 \u001b[39m=\u001b[39m np\u001b[39m.\u001b[39meinsum(\n\u001b[1;32m    143\u001b[0m     \u001b[39m\"\u001b[39m\u001b[39mlk,lij->kij\u001b[39m\u001b[39m\"\u001b[39m, cometric_mat_at_point, metric_derivative_at_point\n\u001b[1;32m    144\u001b[0m )\n",
      "File \u001b[0;32m~/school/mgr/latent-geometry/src/latent_geometry/metric/abstract.py:167\u001b[0m, in \u001b[0;36mMappingPullbackMetric.metric_matrix_derivative\u001b[0;34m(self, base_point)\u001b[0m\n\u001b[1;32m    165\u001b[0m \u001b[39mdef\u001b[39;00m \u001b[39mmetric_matrix_derivative\u001b[39m(\u001b[39mself\u001b[39m, base_point: np\u001b[39m.\u001b[39mndarray) \u001b[39m-\u001b[39m\u001b[39m>\u001b[39m np\u001b[39m.\u001b[39mndarray:\n\u001b[1;32m    166\u001b[0m     ambient_point \u001b[39m=\u001b[39m \u001b[39mself\u001b[39m\u001b[39m.\u001b[39mmapping(base_point)\n\u001b[0;32m--> 167\u001b[0m     J \u001b[39m=\u001b[39m \u001b[39mself\u001b[39;49m\u001b[39m.\u001b[39;49mmapping\u001b[39m.\u001b[39;49mjacobian(base_point)\n\u001b[1;32m    168\u001b[0m     H \u001b[39m=\u001b[39m \u001b[39mself\u001b[39m\u001b[39m.\u001b[39mmapping\u001b[39m.\u001b[39msecond_derivative(base_point)\n\u001b[1;32m    169\u001b[0m     A \u001b[39m=\u001b[39m \u001b[39mself\u001b[39m\u001b[39m.\u001b[39mambient_metric\u001b[39m.\u001b[39mmetric_matrix(ambient_point)\n",
      "File \u001b[0;32m~/school/mgr/latent-geometry/src/latent_geometry/mapping/torch.py:25\u001b[0m, in \u001b[0;36mTorchModelMapping.jacobian\u001b[0;34m(self, z)\u001b[0m\n\u001b[1;32m     23\u001b[0m \u001b[39mdef\u001b[39;00m \u001b[39mjacobian\u001b[39m(\u001b[39mself\u001b[39m, z: np\u001b[39m.\u001b[39mndarray) \u001b[39m-\u001b[39m\u001b[39m>\u001b[39m np\u001b[39m.\u001b[39mndarray:\n\u001b[1;32m     24\u001b[0m     z_torch \u001b[39m=\u001b[39m \u001b[39mself\u001b[39m\u001b[39m.\u001b[39m_to_torch(z)\n\u001b[0;32m---> 25\u001b[0m     jacobian_torch \u001b[39m=\u001b[39m jacrev(\u001b[39mself\u001b[39;49m\u001b[39m.\u001b[39;49m_call_flat_model)(z_torch)\n\u001b[1;32m     26\u001b[0m     \u001b[39mreturn\u001b[39;00m \u001b[39mself\u001b[39m\u001b[39m.\u001b[39m_to_numpy(jacobian_torch)\n",
      "File \u001b[0;32m~/anaconda3/envs/latent-geometry/lib/python3.9/site-packages/torch/_functorch/eager_transforms.py:598\u001b[0m, in \u001b[0;36mjacrev.<locals>.wrapper_fn\u001b[0;34m(*args)\u001b[0m\n\u001b[1;32m    596\u001b[0m     flat_jacobians_per_input \u001b[39m=\u001b[39m compute_jacobian_preallocate_and_copy()\n\u001b[1;32m    597\u001b[0m \u001b[39melse\u001b[39;00m:\n\u001b[0;32m--> 598\u001b[0m     flat_jacobians_per_input \u001b[39m=\u001b[39m compute_jacobian_stacked()\n\u001b[1;32m    600\u001b[0m \u001b[39m# Step 2: The returned jacobian is one big tensor per input. In this step,\u001b[39;00m\n\u001b[1;32m    601\u001b[0m \u001b[39m# we split each Tensor by output.\u001b[39;00m\n\u001b[1;32m    602\u001b[0m flat_jacobians_per_input \u001b[39m=\u001b[39m [result\u001b[39m.\u001b[39msplit(flat_output_numels, dim\u001b[39m=\u001b[39m\u001b[39m0\u001b[39m) \u001b[39mfor\u001b[39;00m result \u001b[39min\u001b[39;00m flat_jacobians_per_input]\n",
      "File \u001b[0;32m~/anaconda3/envs/latent-geometry/lib/python3.9/site-packages/torch/_functorch/eager_transforms.py:529\u001b[0m, in \u001b[0;36mjacrev.<locals>.wrapper_fn.<locals>.compute_jacobian_stacked\u001b[0;34m()\u001b[0m\n\u001b[1;32m    527\u001b[0m     chunked_result \u001b[39m=\u001b[39m vjp_fn(basis)\n\u001b[1;32m    528\u001b[0m \u001b[39melse\u001b[39;00m:  \u001b[39m# chunk_size is None or chunk_size != 1\u001b[39;00m\n\u001b[0;32m--> 529\u001b[0m     chunked_result \u001b[39m=\u001b[39m vmap(vjp_fn)(basis)\n\u001b[1;32m    531\u001b[0m flat_results, _ \u001b[39m=\u001b[39m tree_flatten(chunked_result)\n\u001b[1;32m    533\u001b[0m \u001b[39mif\u001b[39;00m chunk_size \u001b[39m==\u001b[39m \u001b[39m1\u001b[39m:\n",
      "File \u001b[0;32m~/anaconda3/envs/latent-geometry/lib/python3.9/site-packages/torch/_functorch/vmap.py:434\u001b[0m, in \u001b[0;36mvmap.<locals>.wrapped\u001b[0;34m(*args, **kwargs)\u001b[0m\n\u001b[1;32m    430\u001b[0m     \u001b[39mreturn\u001b[39;00m _chunked_vmap(func, flat_in_dims, chunks_flat_args,\n\u001b[1;32m    431\u001b[0m                          args_spec, out_dims, randomness, \u001b[39m*\u001b[39m\u001b[39m*\u001b[39mkwargs)\n\u001b[1;32m    433\u001b[0m \u001b[39m# If chunk_size is not specified.\u001b[39;00m\n\u001b[0;32m--> 434\u001b[0m \u001b[39mreturn\u001b[39;00m _flat_vmap(\n\u001b[1;32m    435\u001b[0m     func, batch_size, flat_in_dims, flat_args, args_spec, out_dims, randomness, \u001b[39m*\u001b[39;49m\u001b[39m*\u001b[39;49mkwargs\n\u001b[1;32m    436\u001b[0m )\n",
      "File \u001b[0;32m~/anaconda3/envs/latent-geometry/lib/python3.9/site-packages/torch/_functorch/vmap.py:39\u001b[0m, in \u001b[0;36mdoesnt_support_saved_tensors_hooks.<locals>.fn\u001b[0;34m(*args, **kwargs)\u001b[0m\n\u001b[1;32m     36\u001b[0m \u001b[39m@functools\u001b[39m\u001b[39m.\u001b[39mwraps(f)\n\u001b[1;32m     37\u001b[0m \u001b[39mdef\u001b[39;00m \u001b[39mfn\u001b[39m(\u001b[39m*\u001b[39margs, \u001b[39m*\u001b[39m\u001b[39m*\u001b[39mkwargs):\n\u001b[1;32m     38\u001b[0m     \u001b[39mwith\u001b[39;00m torch\u001b[39m.\u001b[39mautograd\u001b[39m.\u001b[39mgraph\u001b[39m.\u001b[39mdisable_saved_tensors_hooks(message):\n\u001b[0;32m---> 39\u001b[0m         \u001b[39mreturn\u001b[39;00m f(\u001b[39m*\u001b[39;49margs, \u001b[39m*\u001b[39;49m\u001b[39m*\u001b[39;49mkwargs)\n",
      "File \u001b[0;32m~/anaconda3/envs/latent-geometry/lib/python3.9/site-packages/torch/_functorch/vmap.py:619\u001b[0m, in \u001b[0;36m_flat_vmap\u001b[0;34m(func, batch_size, flat_in_dims, flat_args, args_spec, out_dims, randomness, **kwargs)\u001b[0m\n\u001b[1;32m    617\u001b[0m \u001b[39mtry\u001b[39;00m:\n\u001b[1;32m    618\u001b[0m     batched_inputs \u001b[39m=\u001b[39m _create_batched_inputs(flat_in_dims, flat_args, vmap_level, args_spec)\n\u001b[0;32m--> 619\u001b[0m     batched_outputs \u001b[39m=\u001b[39m func(\u001b[39m*\u001b[39;49mbatched_inputs, \u001b[39m*\u001b[39;49m\u001b[39m*\u001b[39;49mkwargs)\n\u001b[1;32m    620\u001b[0m     \u001b[39mreturn\u001b[39;00m _unwrap_batched(batched_outputs, out_dims, vmap_level, batch_size, func)\n\u001b[1;32m    621\u001b[0m \u001b[39mfinally\u001b[39;00m:\n",
      "File \u001b[0;32m~/anaconda3/envs/latent-geometry/lib/python3.9/site-packages/torch/_functorch/eager_transforms.py:325\u001b[0m, in \u001b[0;36m_vjp_with_argnums.<locals>.wrapper\u001b[0;34m(cotangents, retain_graph, create_graph)\u001b[0m\n\u001b[1;32m    319\u001b[0m \u001b[39mif\u001b[39;00m primals_out_spec \u001b[39m!=\u001b[39m cotangents_spec:\n\u001b[1;32m    320\u001b[0m     \u001b[39mraise\u001b[39;00m \u001b[39mRuntimeError\u001b[39;00m(\n\u001b[1;32m    321\u001b[0m         \u001b[39mf\u001b[39m\u001b[39m'\u001b[39m\u001b[39mExpected pytree structure of cotangents to be the same \u001b[39m\u001b[39m'\u001b[39m\n\u001b[1;32m    322\u001b[0m         \u001b[39mf\u001b[39m\u001b[39m'\u001b[39m\u001b[39mas pytree structure of outputs to the function. \u001b[39m\u001b[39m'\u001b[39m\n\u001b[1;32m    323\u001b[0m         \u001b[39mf\u001b[39m\u001b[39m'\u001b[39m\u001b[39mcotangents: \u001b[39m\u001b[39m{\u001b[39;00mtreespec_pprint(cotangents_spec)\u001b[39m}\u001b[39;00m\u001b[39m, \u001b[39m\u001b[39m'\u001b[39m\n\u001b[1;32m    324\u001b[0m         \u001b[39mf\u001b[39m\u001b[39m'\u001b[39m\u001b[39mprimal output: \u001b[39m\u001b[39m{\u001b[39;00mtreespec_pprint(primals_out_spec)\u001b[39m}\u001b[39;00m\u001b[39m'\u001b[39m)\n\u001b[0;32m--> 325\u001b[0m result \u001b[39m=\u001b[39m _autograd_grad(flat_primals_out, flat_diff_primals, flat_cotangents,\n\u001b[1;32m    326\u001b[0m                         retain_graph\u001b[39m=\u001b[39;49mretain_graph, create_graph\u001b[39m=\u001b[39;49mcreate_graph)\n\u001b[1;32m    327\u001b[0m \u001b[39mreturn\u001b[39;00m tree_unflatten(result, primals_spec)\n",
      "File \u001b[0;32m~/anaconda3/envs/latent-geometry/lib/python3.9/site-packages/torch/_functorch/eager_transforms.py:113\u001b[0m, in \u001b[0;36m_autograd_grad\u001b[0;34m(outputs, inputs, grad_outputs, retain_graph, create_graph)\u001b[0m\n\u001b[1;32m    111\u001b[0m \u001b[39mif\u001b[39;00m \u001b[39mlen\u001b[39m(diff_outputs) \u001b[39m==\u001b[39m \u001b[39m0\u001b[39m:\n\u001b[1;32m    112\u001b[0m     \u001b[39mreturn\u001b[39;00m \u001b[39mtuple\u001b[39m(torch\u001b[39m.\u001b[39mzeros_like(inp) \u001b[39mfor\u001b[39;00m inp \u001b[39min\u001b[39;00m inputs)\n\u001b[0;32m--> 113\u001b[0m grad_inputs \u001b[39m=\u001b[39m torch\u001b[39m.\u001b[39;49mautograd\u001b[39m.\u001b[39;49mgrad(diff_outputs, inputs, grad_outputs,\n\u001b[1;32m    114\u001b[0m                                   retain_graph\u001b[39m=\u001b[39;49mretain_graph,\n\u001b[1;32m    115\u001b[0m                                   create_graph\u001b[39m=\u001b[39;49mcreate_graph,\n\u001b[1;32m    116\u001b[0m                                   allow_unused\u001b[39m=\u001b[39;49m\u001b[39mTrue\u001b[39;49;00m)\n\u001b[1;32m    117\u001b[0m grad_inputs \u001b[39m=\u001b[39m \u001b[39mtuple\u001b[39m(torch\u001b[39m.\u001b[39mzeros_like(inp) \u001b[39mif\u001b[39;00m gi \u001b[39mis\u001b[39;00m \u001b[39mNone\u001b[39;00m \u001b[39melse\u001b[39;00m gi\n\u001b[1;32m    118\u001b[0m                     \u001b[39mfor\u001b[39;00m gi, inp \u001b[39min\u001b[39;00m \u001b[39mzip\u001b[39m(grad_inputs, inputs))\n\u001b[1;32m    119\u001b[0m \u001b[39mreturn\u001b[39;00m grad_inputs\n",
      "File \u001b[0;32m~/anaconda3/envs/latent-geometry/lib/python3.9/site-packages/torch/autograd/__init__.py:303\u001b[0m, in \u001b[0;36mgrad\u001b[0;34m(outputs, inputs, grad_outputs, retain_graph, create_graph, only_inputs, allow_unused, is_grads_batched)\u001b[0m\n\u001b[1;32m    301\u001b[0m     \u001b[39mreturn\u001b[39;00m _vmap_internals\u001b[39m.\u001b[39m_vmap(vjp, \u001b[39m0\u001b[39m, \u001b[39m0\u001b[39m, allow_none_pass_through\u001b[39m=\u001b[39m\u001b[39mTrue\u001b[39;00m)(grad_outputs_)\n\u001b[1;32m    302\u001b[0m \u001b[39melse\u001b[39;00m:\n\u001b[0;32m--> 303\u001b[0m     \u001b[39mreturn\u001b[39;00m Variable\u001b[39m.\u001b[39;49m_execution_engine\u001b[39m.\u001b[39;49mrun_backward(  \u001b[39m# Calls into the C++ engine to run the backward pass\u001b[39;49;00m\n\u001b[1;32m    304\u001b[0m         t_outputs, grad_outputs_, retain_graph, create_graph, t_inputs,\n\u001b[1;32m    305\u001b[0m         allow_unused, accumulate_grad\u001b[39m=\u001b[39;49m\u001b[39mFalse\u001b[39;49;00m)\n",
      "\u001b[0;31mKeyboardInterrupt\u001b[0m: "
     ]
    }
   ],
   "source": [
    "create_topology_fig_geodesics_given_manifold(\n",
    "    points=points,\n",
    "    labels=labels,\n",
    "    centers1=[points[0]],\n",
    "    centers2=[points[1]],\n",
    "    manifold=manifold_mnist,\n",
    ").show()"
   ]
  },
  {
   "cell_type": "code",
   "execution_count": null,
   "metadata": {
    "id": "xP_AqMW6-A6i"
   },
   "outputs": [],
   "source": []
  },
  {
   "cell_type": "code",
   "execution_count": null,
   "metadata": {
    "id": "NCFLKQF-w_Y6"
   },
   "outputs": [],
   "source": []
  }
 ],
 "metadata": {
  "accelerator": "GPU",
  "colab": {
   "gpuType": "T4",
   "provenance": []
  },
  "kernelspec": {
   "display_name": "Python 3",
   "name": "python3"
  },
  "language_info": {
   "codemirror_mode": {
    "name": "ipython",
    "version": 3
   },
   "file_extension": ".py",
   "mimetype": "text/x-python",
   "name": "python",
   "nbconvert_exporter": "python",
   "pygments_lexer": "ipython3",
   "version": "3.9.16"
  }
 },
 "nbformat": 4,
 "nbformat_minor": 0
}
