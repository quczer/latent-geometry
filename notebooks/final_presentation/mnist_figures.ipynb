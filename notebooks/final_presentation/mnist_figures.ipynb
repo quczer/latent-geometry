{
 "cells": [
  {
   "cell_type": "code",
   "execution_count": 24,
   "metadata": {
    "collapsed": true,
    "pycharm": {
     "name": "#%%\n"
    }
   },
   "outputs": [
    {
     "ename": "ImportError",
     "evalue": "cannot import name 'NOTEBOOKS_DIR' from 'latent_geometry.config' (/home/quczer/school/mgr/latent-geometry/src/latent_geometry/config.py)",
     "output_type": "error",
     "traceback": [
      "\u001b[0;31m---------------------------------------------------------------------------\u001b[0m",
      "\u001b[0;31mImportError\u001b[0m                               Traceback (most recent call last)",
      "Cell \u001b[0;32mIn[24], line 23\u001b[0m\n\u001b[1;32m     20\u001b[0m \u001b[39mimport\u001b[39;00m \u001b[39mplotly\u001b[39;00m\u001b[39m.\u001b[39;00m\u001b[39mgraph_objects\u001b[39;00m \u001b[39mas\u001b[39;00m \u001b[39mgo\u001b[39;00m\n\u001b[1;32m     21\u001b[0m \u001b[39mimport\u001b[39;00m \u001b[39mplotly\u001b[39;00m\u001b[39m.\u001b[39;00m\u001b[39mexpress\u001b[39;00m \u001b[39mas\u001b[39;00m \u001b[39mpx\u001b[39;00m\n\u001b[0;32m---> 23\u001b[0m \u001b[39mfrom\u001b[39;00m \u001b[39mlatent_geometry\u001b[39;00m\u001b[39m.\u001b[39;00m\u001b[39mconfig\u001b[39;00m \u001b[39mimport\u001b[39;00m NOTEBOOKS_DIR\n",
      "\u001b[0;31mImportError\u001b[0m: cannot import name 'NOTEBOOKS_DIR' from 'latent_geometry.config' (/home/quczer/school/mgr/latent-geometry/src/latent_geometry/config.py)"
     ]
    }
   ],
   "source": [
    "import numpy as np\n",
    "import torchvision.transforms as transforms\n",
    "\n",
    "import torch\n",
    "import torch.nn as nn\n",
    "import torch.optim as optim\n",
    "import torchvision\n",
    "from torch.utils.data import DataLoader\n",
    "\n",
    "from latent_geometry.model.mnist_vae import EncoderVAE, DecoderVAE\n",
    "from latent_geometry.mapping import TorchModelMapping\n",
    "from latent_geometry.visual.plotly import (\n",
    "    create_topology_fig,\n",
    "    create_topology_fig_geodesics,\n",
    ")\n",
    "from latent_geometry.manifold import LatentManifold\n",
    "from latent_geometry.metric import EuclideanMetric\n",
    "\n",
    "import pandas as pd\n",
    "import plotly.graph_objects as go\n",
    "import plotly.express as px\n",
    "\n",
    "from latent_geometry.config import NOTEBOOKS_DIR"
   ]
  },
  {
   "cell_type": "code",
   "execution_count": 13,
   "metadata": {
    "collapsed": false,
    "pycharm": {
     "name": "#%%\n"
    }
   },
   "outputs": [],
   "source": [
    "device = torch.device(\"cuda\" if torch.cuda.is_available() else \"cpu\")\n",
    "# initialize the model\n",
    "\n",
    "encoder = EncoderVAE(init_channels=8, latent_dim=2, kernel_size=4, image_channels=1).to(\n",
    "    device\n",
    ")\n",
    "decoder = DecoderVAE(init_channels=8, latent_dim=2, kernel_size=4, image_channels=1).to(\n",
    "    device\n",
    ")\n",
    "params = [param for param in encoder.parameters()] + [\n",
    "    param for param in decoder.parameters()\n",
    "]\n",
    "\n",
    "# set the learning parameters\n",
    "lr = 0.001\n",
    "epochs = 100\n",
    "batch_size = 64\n",
    "optimizer = optim.Adam(params, lr=lr)\n",
    "criterion = nn.MSELoss(reduction=\"sum\")"
   ]
  },
  {
   "cell_type": "code",
   "execution_count": 14,
   "metadata": {
    "collapsed": false,
    "pycharm": {
     "name": "#%%\n"
    }
   },
   "outputs": [],
   "source": [
    "transform = transforms.Compose(\n",
    "    [\n",
    "        transforms.Resize((32, 32)),\n",
    "        transforms.ToTensor(),\n",
    "    ]\n",
    ")\n",
    "# training set and train data loader\n",
    "trainset = torchvision.datasets.MNIST(\n",
    "    root=NOTEBOOKS_DIR / \"input\", train=True, download=True, transform=transform\n",
    ")\n",
    "trainloader = DataLoader(trainset, batch_size=batch_size, shuffle=True)\n",
    "# validation set and validation data loader\n",
    "testset = torchvision.datasets.MNIST(\n",
    "    root=NOTEBOOKS_DIR / \"input\", train=False, download=True, transform=transform\n",
    ")\n",
    "testloader = DataLoader(testset, batch_size=batch_size, shuffle=False)"
   ]
  },
  {
   "cell_type": "code",
   "execution_count": 15,
   "metadata": {
    "collapsed": false,
    "pycharm": {
     "name": "#%%\n"
    }
   },
   "outputs": [],
   "source": [
    "batch_size = 64\n",
    "\n",
    "transform = transforms.Compose(\n",
    "    [\n",
    "        transforms.Resize((32, 32)),\n",
    "        transforms.ToTensor(),\n",
    "    ]\n",
    ")\n",
    "testset = torchvision.datasets.MNIST(\n",
    "    root=NOTEBOOKS_DIR / \"input\", train=False, download=True, transform=transform\n",
    ")\n",
    "testloader = DataLoader(testset, batch_size=500, shuffle=False)"
   ]
  },
  {
   "cell_type": "code",
   "execution_count": 16,
   "metadata": {
    "collapsed": false,
    "pycharm": {
     "name": "#%%\n"
    }
   },
   "outputs": [],
   "source": [
    "device = torch.device(\"cuda\" if torch.cuda.is_available() else \"cpu\")\n",
    "\n",
    "encoder = torch.load(NOTEBOOKS_DIR / \"output\" / \"encoder\", map_location=device)\n",
    "decoder = torch.load(NOTEBOOKS_DIR / \"output\" / \"decoder\", map_location=device)\n",
    "\n",
    "x = next(iter(trainloader))\n",
    "z, mu, log_var = encoder(x[0])\n",
    "reconstruction = decoder(z)"
   ]
  },
  {
   "cell_type": "code",
   "execution_count": 17,
   "metadata": {
    "collapsed": false,
    "pycharm": {
     "name": "#%%\n"
    }
   },
   "outputs": [],
   "source": [
    "NUM_POINTS = 7000\n",
    "WIDTH = 4\n",
    "Z_SCALE = 5.0\n",
    "SPLINE_POLY_DEG = 3\n",
    "SIN_MULT = 1.5"
   ]
  },
  {
   "cell_type": "code",
   "execution_count": 18,
   "metadata": {
    "collapsed": false,
    "pycharm": {
     "name": "#%%\n"
    }
   },
   "outputs": [],
   "source": [
    "# , manifold: LatentManifold, n_points: int = NUM_POINTS, width: float = WIDTH\n",
    "def create_df(points, labels) -> pd.DataFrame:\n",
    "\n",
    "    x_1 = points[:, 0]\n",
    "    x_2 = points[:, 1]\n",
    "\n",
    "    df = pd.DataFrame(np.stack([x_1, x_2, labels], axis=1), columns=[\"x\", \"y\", \"z\"])\n",
    "\n",
    "    # df = pd.DataFrame(data=np.array([x_1, x_2, labels]).transpose(), columns=[\"x\", \"y\", \"z\"])\n",
    "\n",
    "    # df['x']\n",
    "    #\n",
    "    return df\n",
    "\n",
    "\n",
    "def create_background_df(\n",
    "    manifold: LatentManifold, n_points: int = NUM_POINTS, width: float = WIDTH\n",
    ") -> pd.DataFrame:\n",
    "\n",
    "    x = np.random.rand(n_points, 1) * width * 2 - width\n",
    "    y = np.random.rand(n_points, 1) * width * 2 - width\n",
    "\n",
    "    df = pd.DataFrame(data=np.hstack([x, y]), columns=[\"x\", \"y\"])\n",
    "    df[\"cluster\"] = (df.x > 0) + 2 * (df.y > 0)\n",
    "    # df[\"z\"] = np.sum(df.apply(lambda r: manifold.metric._mapping(r[:2], r[:2], r[:2]), axis=1))\n",
    "    return df\n",
    "\n",
    "\n",
    "def create_latent_fig(df: pd.DataFrame, three_d: bool = False) -> go.Figure:\n",
    "    if three_d:\n",
    "        return px.scatter_3d(df, x=\"x\", y=\"y\", z=\"z\", color=\"z\", opacity=1)\n",
    "    else:\n",
    "        return px.scatter(df, x=\"x\", y=\"y\", color=\"z\", opacity=0.5)\n",
    "        # return px.scatter(df, x=\"x\", y=\"y\", opacity=0.5)  # z tym działało"
   ]
  },
  {
   "cell_type": "code",
   "execution_count": 19,
   "metadata": {
    "collapsed": false,
    "pycharm": {
     "name": "#%%\n"
    }
   },
   "outputs": [],
   "source": [
    "def create_topology_fig_geodesics_given_manifold(\n",
    "    points,\n",
    "    labels,\n",
    "    centers_1: np.ndarray,\n",
    "    centers_2: np.ndarray,\n",
    "    mu_2: np.ndarray,\n",
    "    log_var_2: np.ndarray,\n",
    "    manifold: LatentManifold,\n",
    "    num_lines: int,\n",
    "    num_circles: int,\n",
    "    line_length: float = 2.5,\n",
    "    show_lines: bool = True,\n",
    "    show_circles: bool = True,\n",
    ") -> go.Figure:\n",
    "    df_ = create_df(points, labels)\n",
    "    background_trace = create_latent_fig(df_, three_d=False).data[0]\n",
    "\n",
    "    return create_topology_fig_geodesics(\n",
    "        centers_1,\n",
    "        centers_2,\n",
    "        mu_2,\n",
    "        log_var_2,\n",
    "        manifold,\n",
    "        background_trace,\n",
    "        num_lines,\n",
    "        num_circles,\n",
    "        line_length,\n",
    "        show_lines,\n",
    "        show_circles,\n",
    "    )"
   ]
  },
  {
   "cell_type": "code",
   "execution_count": 20,
   "metadata": {
    "collapsed": false,
    "pycharm": {
     "name": "#%%\n"
    }
   },
   "outputs": [],
   "source": [
    "def create_topology_fig_given_manifold(\n",
    "    points,\n",
    "    labels,\n",
    "    centre: np.ndarray,\n",
    "    manifold: LatentManifold,\n",
    "    num_lines: int,\n",
    "    num_circles: int,\n",
    "    line_length: float = 10,\n",
    "    show_lines: bool = True,\n",
    "    show_circles: bool = True,\n",
    ") -> go.Figure:\n",
    "    # df_ = create_background_df(manifold)\n",
    "    df_ = create_df(points, labels)\n",
    "    background_trace = create_latent_fig(df_, three_d=False).data[0]\n",
    "\n",
    "    return create_topology_fig(\n",
    "        centre,\n",
    "        manifold,\n",
    "        background_trace,\n",
    "        num_lines,\n",
    "        num_circles,\n",
    "        line_length,\n",
    "        show_lines,\n",
    "        show_circles,\n",
    "    )"
   ]
  },
  {
   "cell_type": "code",
   "execution_count": 21,
   "metadata": {
    "collapsed": false,
    "pycharm": {
     "name": "#%%\n"
    }
   },
   "outputs": [],
   "source": [
    "ambient_metric = EuclideanMetric(1024)\n",
    "manifold_mnist = LatentManifold(\n",
    "    TorchModelMapping(decoder, (2,), (1, 1, 32, 32)), ambient_metric\n",
    ")\n",
    "\n",
    "batch = next(iter(testloader))\n",
    "points, mu, log_var = encoder(batch[0])\n",
    "\n",
    "points = points.detach().numpy()\n",
    "mu = mu.detach().numpy()\n",
    "log_var = log_var.detach().numpy()\n",
    "labels = batch[1]\n",
    "\n",
    "# mu = mu[0]\n",
    "# log_var = log_var[0]\n",
    "# x = next(iter(testloader))\n",
    "# points = encoder(x[0])[0]\n",
    "# labels = x[1]\n",
    "center = points[0]\n",
    "mu = mu[0]\n",
    "log_var = log_var[0]\n",
    "centers_1 = points[:10]\n",
    "centers_2 = points[10:20]\n",
    "\n",
    "# create_topology_fig_given_manifold(\n",
    "#     points=points,\n",
    "#     labels=labels,\n",
    "#     centre=center,\n",
    "#     mu=mu,\n",
    "#     log_var=log_var,\n",
    "#     manifold=manifold_mnist,\n",
    "#     num_lines=16,\n",
    "#     num_circles=4,\n",
    "# ).show()"
   ]
  },
  {
   "cell_type": "code",
   "execution_count": 22,
   "metadata": {
    "collapsed": false,
    "pycharm": {
     "name": "#%%\n"
    }
   },
   "outputs": [
    {
     "ename": "KeyboardInterrupt",
     "evalue": "",
     "output_type": "error",
     "traceback": [
      "\u001b[0;31m---------------------------------------------------------------------------\u001b[0m",
      "\u001b[0;31mKeyboardInterrupt\u001b[0m                         Traceback (most recent call last)",
      "Cell \u001b[0;32mIn[22], line 1\u001b[0m\n\u001b[0;32m----> 1\u001b[0m create_topology_fig_given_manifold(\n\u001b[1;32m      2\u001b[0m     points\u001b[39m=\u001b[39;49mpoints,\n\u001b[1;32m      3\u001b[0m     labels\u001b[39m=\u001b[39;49mlabels,\n\u001b[1;32m      4\u001b[0m     centre\u001b[39m=\u001b[39;49mcenter,\n\u001b[1;32m      5\u001b[0m     manifold\u001b[39m=\u001b[39;49mmanifold_mnist,\n\u001b[1;32m      6\u001b[0m     num_lines\u001b[39m=\u001b[39;49m\u001b[39m16\u001b[39;49m,\n\u001b[1;32m      7\u001b[0m     num_circles\u001b[39m=\u001b[39;49m\u001b[39m4\u001b[39;49m,\n\u001b[1;32m      8\u001b[0m )\u001b[39m.\u001b[39mshow()\n",
      "Cell \u001b[0;32mIn[20], line 16\u001b[0m, in \u001b[0;36mcreate_topology_fig_given_manifold\u001b[0;34m(points, labels, centre, manifold, num_lines, num_circles, line_length, show_lines, show_circles)\u001b[0m\n\u001b[1;32m     13\u001b[0m df_ \u001b[39m=\u001b[39m create_df(points, labels)\n\u001b[1;32m     14\u001b[0m background_trace \u001b[39m=\u001b[39m create_latent_fig(df_, three_d\u001b[39m=\u001b[39m\u001b[39mFalse\u001b[39;00m)\u001b[39m.\u001b[39mdata[\u001b[39m0\u001b[39m]\n\u001b[0;32m---> 16\u001b[0m \u001b[39mreturn\u001b[39;00m create_topology_fig(\n\u001b[1;32m     17\u001b[0m     centre,\n\u001b[1;32m     18\u001b[0m     manifold,\n\u001b[1;32m     19\u001b[0m     background_trace,\n\u001b[1;32m     20\u001b[0m     num_lines,\n\u001b[1;32m     21\u001b[0m     num_circles,\n\u001b[1;32m     22\u001b[0m     line_length,\n\u001b[1;32m     23\u001b[0m     show_lines,\n\u001b[1;32m     24\u001b[0m     show_circles,\n\u001b[1;32m     25\u001b[0m )\n",
      "File \u001b[0;32m~/school/mgr/latent-geometry/src/latent_geometry/visual/plotly.py:41\u001b[0m, in \u001b[0;36mcreate_topology_fig\u001b[0;34m(centre, manifold, background_trace, num_lines, num_circles, line_length, show_lines, show_circles)\u001b[0m\n\u001b[1;32m     31\u001b[0m \u001b[39mdef\u001b[39;00m \u001b[39mcreate_topology_fig\u001b[39m(\n\u001b[1;32m     32\u001b[0m     centre: np\u001b[39m.\u001b[39mndarray,\n\u001b[1;32m     33\u001b[0m     manifold: Manifold,\n\u001b[0;32m   (...)\u001b[0m\n\u001b[1;32m     39\u001b[0m     show_circles: \u001b[39mbool\u001b[39m \u001b[39m=\u001b[39m \u001b[39mTrue\u001b[39;00m,\n\u001b[1;32m     40\u001b[0m ) \u001b[39m-\u001b[39m\u001b[39m>\u001b[39m go\u001b[39m.\u001b[39mFigure:\n\u001b[0;32m---> 41\u001b[0m     lines \u001b[39m=\u001b[39m get_lines(centre, num_lines, manifold, length\u001b[39m=\u001b[39;49mline_length)\n\u001b[1;32m     42\u001b[0m     circles \u001b[39m=\u001b[39m get_circles(lines, num_circles)\n\u001b[1;32m     44\u001b[0m     traces \u001b[39m=\u001b[39m [background_trace]\n",
      "File \u001b[0;32m~/school/mgr/latent-geometry/src/latent_geometry/visual/calc.py:19\u001b[0m, in \u001b[0;36mget_lines\u001b[0;34m(centre, divisions, manifold, length)\u001b[0m\n\u001b[1;32m     17\u001b[0m \u001b[39mfor\u001b[39;00m theta \u001b[39min\u001b[39;00m np\u001b[39m.\u001b[39mlinspace(\u001b[39m0\u001b[39m, \u001b[39m2\u001b[39m \u001b[39m*\u001b[39m np\u001b[39m.\u001b[39mpi, divisions \u001b[39m+\u001b[39m \u001b[39m1\u001b[39m)[:\u001b[39m-\u001b[39m\u001b[39m1\u001b[39m]:\n\u001b[1;32m     18\u001b[0m     dir_vector \u001b[39m=\u001b[39m np\u001b[39m.\u001b[39marray([np\u001b[39m.\u001b[39mcos(theta), np\u001b[39m.\u001b[39msin(theta)])\n\u001b[0;32m---> 19\u001b[0m     path \u001b[39m=\u001b[39m manifold\u001b[39m.\u001b[39;49mpath_given_direction(centre, dir_vector, length)\n\u001b[1;32m     20\u001b[0m     lines\u001b[39m.\u001b[39mappend(path)\n\u001b[1;32m     21\u001b[0m \u001b[39mreturn\u001b[39;00m lines\n",
      "File \u001b[0;32m~/school/mgr/latent-geometry/src/latent_geometry/manifold/latent.py:33\u001b[0m, in \u001b[0;36mLatentManifold.path_given_direction\u001b[0;34m(self, z, velocity_vec, length)\u001b[0m\n\u001b[1;32m     29\u001b[0m \u001b[39mdef\u001b[39;00m \u001b[39mpath_given_direction\u001b[39m(\n\u001b[1;32m     30\u001b[0m     \u001b[39mself\u001b[39m, z: np\u001b[39m.\u001b[39mndarray, velocity_vec: np\u001b[39m.\u001b[39mndarray, length: \u001b[39mfloat\u001b[39m \u001b[39m=\u001b[39m \u001b[39m1.0\u001b[39m\n\u001b[1;32m     31\u001b[0m ) \u001b[39m-\u001b[39m\u001b[39m>\u001b[39m ManifoldPath:\n\u001b[1;32m     32\u001b[0m     velocity \u001b[39m=\u001b[39m \u001b[39mself\u001b[39m\u001b[39m.\u001b[39m_adjust_vector_magnitude(z, velocity_vec, length)\n\u001b[0;32m---> 33\u001b[0m     solver_path \u001b[39m=\u001b[39m \u001b[39mself\u001b[39;49m\u001b[39m.\u001b[39;49m_exp_solver\u001b[39m.\u001b[39;49mcompute_path(\n\u001b[1;32m     34\u001b[0m         z, velocity, \u001b[39mself\u001b[39;49m\u001b[39m.\u001b[39;49mmetric\u001b[39m.\u001b[39;49macceleration\n\u001b[1;32m     35\u001b[0m     )\n\u001b[1;32m     36\u001b[0m     \u001b[39mreturn\u001b[39;00m ManifoldPath(\n\u001b[1;32m     37\u001b[0m         solver_path\u001b[39m.\u001b[39mposition,\n\u001b[1;32m     38\u001b[0m         solver_path\u001b[39m.\u001b[39mvelocity,\n\u001b[1;32m     39\u001b[0m         \u001b[39mself\u001b[39m\u001b[39m.\u001b[39mmetric,\n\u001b[1;32m     40\u001b[0m         \u001b[39mself\u001b[39m\u001b[39m.\u001b[39m_euclidean_latent_metric,\n\u001b[1;32m     41\u001b[0m     )\n",
      "File \u001b[0;32m~/school/mgr/latent-geometry/src/latent_geometry/solver/exponential.py:24\u001b[0m, in \u001b[0;36mIVPExponentialSolver.compute_path\u001b[0;34m(self, position, velocity, acceleration_fun)\u001b[0m\n\u001b[1;32m     17\u001b[0m \u001b[39mdef\u001b[39;00m \u001b[39mcompute_path\u001b[39m(\n\u001b[1;32m     18\u001b[0m     \u001b[39mself\u001b[39m,\n\u001b[1;32m     19\u001b[0m     position: np\u001b[39m.\u001b[39mndarray,\n\u001b[1;32m     20\u001b[0m     velocity: np\u001b[39m.\u001b[39mndarray,\n\u001b[1;32m     21\u001b[0m     acceleration_fun: Callable[[np\u001b[39m.\u001b[39mndarray, np\u001b[39m.\u001b[39mndarray], np\u001b[39m.\u001b[39mndarray],\n\u001b[1;32m     22\u001b[0m ) \u001b[39m-\u001b[39m\u001b[39m>\u001b[39m SolverResultPath:\n\u001b[1;32m     23\u001b[0m     \u001b[39mtry\u001b[39;00m:\n\u001b[0;32m---> 24\u001b[0m         result \u001b[39m=\u001b[39m \u001b[39mself\u001b[39;49m\u001b[39m.\u001b[39;49m_solve(position, velocity, acceleration_fun)\n\u001b[1;32m     25\u001b[0m         \u001b[39mif\u001b[39;00m result\u001b[39m.\u001b[39msuccess:\n\u001b[1;32m     26\u001b[0m             \u001b[39mreturn\u001b[39;00m \u001b[39mself\u001b[39m\u001b[39m.\u001b[39m_create_result_path(result\u001b[39m.\u001b[39msol, acceleration_fun)\n",
      "File \u001b[0;32m~/school/mgr/latent-geometry/src/latent_geometry/solver/exponential.py:64\u001b[0m, in \u001b[0;36mIVPExponentialSolver._solve\u001b[0;34m(self, position, velocity, acceleration_fun)\u001b[0m\n\u001b[1;32m     62\u001b[0m initial_state \u001b[39m=\u001b[39m \u001b[39mself\u001b[39m\u001b[39m.\u001b[39m_pack_state(position, velocity)\n\u001b[1;32m     63\u001b[0m fun \u001b[39m=\u001b[39m \u001b[39mself\u001b[39m\u001b[39m.\u001b[39m_create_solver_fun(acceleration_fun)\n\u001b[0;32m---> 64\u001b[0m \u001b[39mreturn\u001b[39;00m solve_ivp(\n\u001b[1;32m     65\u001b[0m     fun, t_span, initial_state, method\u001b[39m=\u001b[39;49m\u001b[39mself\u001b[39;49m\u001b[39m.\u001b[39;49mmethod, dense_output\u001b[39m=\u001b[39;49m\u001b[39mTrue\u001b[39;49;00m\n\u001b[1;32m     66\u001b[0m )\n",
      "File \u001b[0;32m~/anaconda3/envs/latent-geometry/lib/python3.9/site-packages/scipy/integrate/_ivp/ivp.py:591\u001b[0m, in \u001b[0;36msolve_ivp\u001b[0;34m(fun, t_span, y0, method, t_eval, dense_output, events, vectorized, args, **options)\u001b[0m\n\u001b[1;32m    589\u001b[0m status \u001b[39m=\u001b[39m \u001b[39mNone\u001b[39;00m\n\u001b[1;32m    590\u001b[0m \u001b[39mwhile\u001b[39;00m status \u001b[39mis\u001b[39;00m \u001b[39mNone\u001b[39;00m:\n\u001b[0;32m--> 591\u001b[0m     message \u001b[39m=\u001b[39m solver\u001b[39m.\u001b[39;49mstep()\n\u001b[1;32m    593\u001b[0m     \u001b[39mif\u001b[39;00m solver\u001b[39m.\u001b[39mstatus \u001b[39m==\u001b[39m \u001b[39m'\u001b[39m\u001b[39mfinished\u001b[39m\u001b[39m'\u001b[39m:\n\u001b[1;32m    594\u001b[0m         status \u001b[39m=\u001b[39m \u001b[39m0\u001b[39m\n",
      "File \u001b[0;32m~/anaconda3/envs/latent-geometry/lib/python3.9/site-packages/scipy/integrate/_ivp/base.py:181\u001b[0m, in \u001b[0;36mOdeSolver.step\u001b[0;34m(self)\u001b[0m\n\u001b[1;32m    179\u001b[0m \u001b[39melse\u001b[39;00m:\n\u001b[1;32m    180\u001b[0m     t \u001b[39m=\u001b[39m \u001b[39mself\u001b[39m\u001b[39m.\u001b[39mt\n\u001b[0;32m--> 181\u001b[0m     success, message \u001b[39m=\u001b[39m \u001b[39mself\u001b[39;49m\u001b[39m.\u001b[39;49m_step_impl()\n\u001b[1;32m    183\u001b[0m     \u001b[39mif\u001b[39;00m \u001b[39mnot\u001b[39;00m success:\n\u001b[1;32m    184\u001b[0m         \u001b[39mself\u001b[39m\u001b[39m.\u001b[39mstatus \u001b[39m=\u001b[39m \u001b[39m'\u001b[39m\u001b[39mfailed\u001b[39m\u001b[39m'\u001b[39m\n",
      "File \u001b[0;32m~/anaconda3/envs/latent-geometry/lib/python3.9/site-packages/scipy/integrate/_ivp/rk.py:144\u001b[0m, in \u001b[0;36mRungeKutta._step_impl\u001b[0;34m(self)\u001b[0m\n\u001b[1;32m    141\u001b[0m h \u001b[39m=\u001b[39m t_new \u001b[39m-\u001b[39m t\n\u001b[1;32m    142\u001b[0m h_abs \u001b[39m=\u001b[39m np\u001b[39m.\u001b[39mabs(h)\n\u001b[0;32m--> 144\u001b[0m y_new, f_new \u001b[39m=\u001b[39m rk_step(\u001b[39mself\u001b[39;49m\u001b[39m.\u001b[39;49mfun, t, y, \u001b[39mself\u001b[39;49m\u001b[39m.\u001b[39;49mf, h, \u001b[39mself\u001b[39;49m\u001b[39m.\u001b[39;49mA,\n\u001b[1;32m    145\u001b[0m                        \u001b[39mself\u001b[39;49m\u001b[39m.\u001b[39;49mB, \u001b[39mself\u001b[39;49m\u001b[39m.\u001b[39;49mC, \u001b[39mself\u001b[39;49m\u001b[39m.\u001b[39;49mK)\n\u001b[1;32m    146\u001b[0m scale \u001b[39m=\u001b[39m atol \u001b[39m+\u001b[39m np\u001b[39m.\u001b[39mmaximum(np\u001b[39m.\u001b[39mabs(y), np\u001b[39m.\u001b[39mabs(y_new)) \u001b[39m*\u001b[39m rtol\n\u001b[1;32m    147\u001b[0m error_norm \u001b[39m=\u001b[39m \u001b[39mself\u001b[39m\u001b[39m.\u001b[39m_estimate_error_norm(\u001b[39mself\u001b[39m\u001b[39m.\u001b[39mK, h, scale)\n",
      "File \u001b[0;32m~/anaconda3/envs/latent-geometry/lib/python3.9/site-packages/scipy/integrate/_ivp/rk.py:67\u001b[0m, in \u001b[0;36mrk_step\u001b[0;34m(fun, t, y, f, h, A, B, C, K)\u001b[0m\n\u001b[1;32m     64\u001b[0m     K[s] \u001b[39m=\u001b[39m fun(t \u001b[39m+\u001b[39m c \u001b[39m*\u001b[39m h, y \u001b[39m+\u001b[39m dy)\n\u001b[1;32m     66\u001b[0m y_new \u001b[39m=\u001b[39m y \u001b[39m+\u001b[39m h \u001b[39m*\u001b[39m np\u001b[39m.\u001b[39mdot(K[:\u001b[39m-\u001b[39m\u001b[39m1\u001b[39m]\u001b[39m.\u001b[39mT, B)\n\u001b[0;32m---> 67\u001b[0m f_new \u001b[39m=\u001b[39m fun(t \u001b[39m+\u001b[39;49m h, y_new)\n\u001b[1;32m     69\u001b[0m K[\u001b[39m-\u001b[39m\u001b[39m1\u001b[39m] \u001b[39m=\u001b[39m f_new\n\u001b[1;32m     71\u001b[0m \u001b[39mreturn\u001b[39;00m y_new, f_new\n",
      "File \u001b[0;32m~/anaconda3/envs/latent-geometry/lib/python3.9/site-packages/scipy/integrate/_ivp/base.py:138\u001b[0m, in \u001b[0;36mOdeSolver.__init__.<locals>.fun\u001b[0;34m(t, y)\u001b[0m\n\u001b[1;32m    136\u001b[0m \u001b[39mdef\u001b[39;00m \u001b[39mfun\u001b[39m(t, y):\n\u001b[1;32m    137\u001b[0m     \u001b[39mself\u001b[39m\u001b[39m.\u001b[39mnfev \u001b[39m+\u001b[39m\u001b[39m=\u001b[39m \u001b[39m1\u001b[39m\n\u001b[0;32m--> 138\u001b[0m     \u001b[39mreturn\u001b[39;00m \u001b[39mself\u001b[39;49m\u001b[39m.\u001b[39;49mfun_single(t, y)\n",
      "File \u001b[0;32m~/anaconda3/envs/latent-geometry/lib/python3.9/site-packages/scipy/integrate/_ivp/base.py:20\u001b[0m, in \u001b[0;36mcheck_arguments.<locals>.fun_wrapped\u001b[0;34m(t, y)\u001b[0m\n\u001b[1;32m     19\u001b[0m \u001b[39mdef\u001b[39;00m \u001b[39mfun_wrapped\u001b[39m(t, y):\n\u001b[0;32m---> 20\u001b[0m     \u001b[39mreturn\u001b[39;00m np\u001b[39m.\u001b[39masarray(fun(t, y), dtype\u001b[39m=\u001b[39mdtype)\n",
      "File \u001b[0;32m~/school/mgr/latent-geometry/src/latent_geometry/solver/exponential.py:74\u001b[0m, in \u001b[0;36mIVPExponentialSolver._create_solver_fun.<locals>.fun\u001b[0;34m(t, state)\u001b[0m\n\u001b[1;32m     72\u001b[0m \u001b[39mdef\u001b[39;00m \u001b[39mfun\u001b[39m(t: \u001b[39mfloat\u001b[39m, state: np\u001b[39m.\u001b[39mndarray) \u001b[39m-\u001b[39m\u001b[39m>\u001b[39m np\u001b[39m.\u001b[39mndarray:\n\u001b[1;32m     73\u001b[0m     x, v \u001b[39m=\u001b[39m IVPExponentialSolver\u001b[39m.\u001b[39m_unpack_state(state)\n\u001b[0;32m---> 74\u001b[0m     a \u001b[39m=\u001b[39m acceleration_fun(x, v)\n\u001b[1;32m     75\u001b[0m     y_prime \u001b[39m=\u001b[39m IVPExponentialSolver\u001b[39m.\u001b[39m_pack_state(v, a)\n\u001b[1;32m     76\u001b[0m     \u001b[39mreturn\u001b[39;00m y_prime\n",
      "File \u001b[0;32m~/school/mgr/latent-geometry/src/latent_geometry/connection.py:47\u001b[0m, in \u001b[0;36mConnection.acceleration\u001b[0;34m(self, position, velocity)\u001b[0m\n\u001b[1;32m     32\u001b[0m \u001b[39mdef\u001b[39;00m \u001b[39macceleration\u001b[39m(\u001b[39mself\u001b[39m, position: np\u001b[39m.\u001b[39mndarray, velocity: np\u001b[39m.\u001b[39mndarray) \u001b[39m-\u001b[39m\u001b[39m>\u001b[39m np\u001b[39m.\u001b[39mndarray:\n\u001b[1;32m     33\u001b[0m \u001b[39m    \u001b[39m\u001b[39m\"\"\"Compute the acceleration vector given position and velocity.\u001b[39;00m\n\u001b[1;32m     34\u001b[0m \n\u001b[1;32m     35\u001b[0m \u001b[39m    Parameters\u001b[39;00m\n\u001b[0;32m   (...)\u001b[0m\n\u001b[1;32m     45\u001b[0m \u001b[39m        Acceleration vector in the given state.\u001b[39;00m\n\u001b[1;32m     46\u001b[0m \u001b[39m    \"\"\"\u001b[39;00m\n\u001b[0;32m---> 47\u001b[0m     gamma \u001b[39m=\u001b[39m \u001b[39mself\u001b[39;49m\u001b[39m.\u001b[39;49mchristoffels(position)\n\u001b[1;32m     48\u001b[0m     acceleration \u001b[39m=\u001b[39m np\u001b[39m.\u001b[39meinsum(\u001b[39m\"\u001b[39m\u001b[39mijk,j,k->i\u001b[39m\u001b[39m\"\u001b[39m, gamma, velocity, \u001b[39m-\u001b[39mvelocity)\n\u001b[1;32m     49\u001b[0m     \u001b[39mreturn\u001b[39;00m acceleration\n",
      "File \u001b[0;32m~/school/mgr/latent-geometry/src/latent_geometry/metric/abstract.py:137\u001b[0m, in \u001b[0;36mPullbackMetric.christoffels\u001b[0;34m(self, base_point)\u001b[0m\n\u001b[1;32m    112\u001b[0m \u001b[39m\u001b[39m\u001b[39mr\u001b[39m\u001b[39m\"\"\"Compute Christoffel symbols of the Levi-Civita connection.\u001b[39;00m\n\u001b[1;32m    113\u001b[0m \n\u001b[1;32m    114\u001b[0m \u001b[39mThe Koszul formula defining the Levi-Civita connection gives the\u001b[39;00m\n\u001b[0;32m   (...)\u001b[0m\n\u001b[1;32m    134\u001b[0m \u001b[39m    Christoffel symbols, where the contravariant index is first.\u001b[39;00m\n\u001b[1;32m    135\u001b[0m \u001b[39m\"\"\"\u001b[39;00m\n\u001b[1;32m    136\u001b[0m cometric_mat_at_point \u001b[39m=\u001b[39m \u001b[39mself\u001b[39m\u001b[39m.\u001b[39mcometric_matrix(base_point)\n\u001b[0;32m--> 137\u001b[0m metric_derivative_at_point \u001b[39m=\u001b[39m \u001b[39mself\u001b[39;49m\u001b[39m.\u001b[39;49mmetric_matrix_derivative(base_point)\n\u001b[1;32m    139\u001b[0m term_1 \u001b[39m=\u001b[39m np\u001b[39m.\u001b[39meinsum(\n\u001b[1;32m    140\u001b[0m     \u001b[39m\"\u001b[39m\u001b[39mlk,jli->kij\u001b[39m\u001b[39m\"\u001b[39m, cometric_mat_at_point, metric_derivative_at_point\n\u001b[1;32m    141\u001b[0m )\n\u001b[1;32m    142\u001b[0m term_2 \u001b[39m=\u001b[39m np\u001b[39m.\u001b[39meinsum(\n\u001b[1;32m    143\u001b[0m     \u001b[39m\"\u001b[39m\u001b[39mlk,lij->kij\u001b[39m\u001b[39m\"\u001b[39m, cometric_mat_at_point, metric_derivative_at_point\n\u001b[1;32m    144\u001b[0m )\n",
      "File \u001b[0;32m~/school/mgr/latent-geometry/src/latent_geometry/metric/abstract.py:172\u001b[0m, in \u001b[0;36mMappingPullbackMetric.metric_matrix_derivative\u001b[0;34m(self, base_point)\u001b[0m\n\u001b[1;32m    169\u001b[0m A \u001b[39m=\u001b[39m \u001b[39mself\u001b[39m\u001b[39m.\u001b[39mambient_metric\u001b[39m.\u001b[39mmetric_matrix(ambient_point)\n\u001b[1;32m    171\u001b[0m term_1 \u001b[39m=\u001b[39m np\u001b[39m.\u001b[39meinsum(\u001b[39m\"\u001b[39m\u001b[39mrs,rik,sj->ijk\u001b[39m\u001b[39m\"\u001b[39m, A, H, J)\n\u001b[0;32m--> 172\u001b[0m term_2 \u001b[39m=\u001b[39m np\u001b[39m.\u001b[39;49meinsum(\u001b[39m\"\u001b[39;49m\u001b[39mrs,sjk,ri->ijk\u001b[39;49m\u001b[39m\"\u001b[39;49m, A, H, J)\n\u001b[1;32m    173\u001b[0m \u001b[39mreturn\u001b[39;00m term_1 \u001b[39m+\u001b[39m term_2\n",
      "File \u001b[0;32m<__array_function__ internals>:200\u001b[0m, in \u001b[0;36meinsum\u001b[0;34m(*args, **kwargs)\u001b[0m\n",
      "File \u001b[0;32m~/anaconda3/envs/latent-geometry/lib/python3.9/site-packages/numpy/core/einsumfunc.py:1371\u001b[0m, in \u001b[0;36meinsum\u001b[0;34m(out, optimize, *operands, **kwargs)\u001b[0m\n\u001b[1;32m   1369\u001b[0m     \u001b[39mif\u001b[39;00m specified_out:\n\u001b[1;32m   1370\u001b[0m         kwargs[\u001b[39m'\u001b[39m\u001b[39mout\u001b[39m\u001b[39m'\u001b[39m] \u001b[39m=\u001b[39m out\n\u001b[0;32m-> 1371\u001b[0m     \u001b[39mreturn\u001b[39;00m c_einsum(\u001b[39m*\u001b[39;49moperands, \u001b[39m*\u001b[39;49m\u001b[39m*\u001b[39;49mkwargs)\n\u001b[1;32m   1373\u001b[0m \u001b[39m# Check the kwargs to avoid a more cryptic error later, without having to\u001b[39;00m\n\u001b[1;32m   1374\u001b[0m \u001b[39m# repeat default values here\u001b[39;00m\n\u001b[1;32m   1375\u001b[0m valid_einsum_kwargs \u001b[39m=\u001b[39m [\u001b[39m'\u001b[39m\u001b[39mdtype\u001b[39m\u001b[39m'\u001b[39m, \u001b[39m'\u001b[39m\u001b[39morder\u001b[39m\u001b[39m'\u001b[39m, \u001b[39m'\u001b[39m\u001b[39mcasting\u001b[39m\u001b[39m'\u001b[39m]\n",
      "\u001b[0;31mKeyboardInterrupt\u001b[0m: "
     ]
    }
   ],
   "source": [
    "create_topology_fig_given_manifold(\n",
    "    points=points,\n",
    "    labels=labels,\n",
    "    centre=center,\n",
    "    manifold=manifold_mnist,\n",
    "    num_lines=16,\n",
    "    num_circles=4,\n",
    ").show()"
   ]
  },
  {
   "cell_type": "code",
   "execution_count": null,
   "metadata": {
    "collapsed": false,
    "pycharm": {
     "name": "#%%\n"
    }
   },
   "outputs": [
    {
     "ename": "TypeError",
     "evalue": "create_topology_fig() takes from 5 to 8 positional arguments but 10 were given",
     "output_type": "error",
     "traceback": [
      "\u001b[0;31m---------------------------------------------------------------------------\u001b[0m",
      "\u001b[0;31mTypeError\u001b[0m                                 Traceback (most recent call last)",
      "Cell \u001b[0;32mIn[15], line 18\u001b[0m\n\u001b[1;32m     15\u001b[0m mu \u001b[39m=\u001b[39m mu[\u001b[39m1\u001b[39m]\n\u001b[1;32m     16\u001b[0m log_var \u001b[39m=\u001b[39m log_var[\u001b[39m1\u001b[39m]\n\u001b[0;32m---> 18\u001b[0m create_topology_fig_given_manifold(\n\u001b[1;32m     19\u001b[0m     points\u001b[39m=\u001b[39;49mpoints,\n\u001b[1;32m     20\u001b[0m     labels\u001b[39m=\u001b[39;49mlabels,\n\u001b[1;32m     21\u001b[0m     centre\u001b[39m=\u001b[39;49mcenter,\n\u001b[1;32m     22\u001b[0m     mu\u001b[39m=\u001b[39;49mmu,\n\u001b[1;32m     23\u001b[0m     log_var\u001b[39m=\u001b[39;49mlog_var,\n\u001b[1;32m     24\u001b[0m     manifold\u001b[39m=\u001b[39;49mmanifold_mnist,\n\u001b[1;32m     25\u001b[0m     num_lines\u001b[39m=\u001b[39;49m\u001b[39m16\u001b[39;49m,\n\u001b[1;32m     26\u001b[0m     num_circles\u001b[39m=\u001b[39;49m\u001b[39m4\u001b[39;49m,\n\u001b[1;32m     27\u001b[0m )\u001b[39m.\u001b[39mshow()\n",
      "Cell \u001b[0;32mIn[12], line 18\u001b[0m, in \u001b[0;36mcreate_topology_fig_given_manifold\u001b[0;34m(points, labels, centre, mu, log_var, manifold, num_lines, num_circles, line_length, show_lines, show_circles)\u001b[0m\n\u001b[1;32m     15\u001b[0m df_ \u001b[39m=\u001b[39m create_df(points, labels)\n\u001b[1;32m     16\u001b[0m background_trace \u001b[39m=\u001b[39m create_latent_fig(df_, three_d\u001b[39m=\u001b[39m\u001b[39mFalse\u001b[39;00m)\u001b[39m.\u001b[39mdata[\u001b[39m0\u001b[39m]\n\u001b[0;32m---> 18\u001b[0m \u001b[39mreturn\u001b[39;00m create_topology_fig(\n\u001b[1;32m     19\u001b[0m     centre,\n\u001b[1;32m     20\u001b[0m     mu,\n\u001b[1;32m     21\u001b[0m     log_var,\n\u001b[1;32m     22\u001b[0m     manifold,\n\u001b[1;32m     23\u001b[0m     background_trace,\n\u001b[1;32m     24\u001b[0m     num_lines,\n\u001b[1;32m     25\u001b[0m     num_circles,\n\u001b[1;32m     26\u001b[0m     line_length,\n\u001b[1;32m     27\u001b[0m     show_lines,\n\u001b[1;32m     28\u001b[0m     show_circles,\n\u001b[1;32m     29\u001b[0m )\n",
      "\u001b[0;31mTypeError\u001b[0m: create_topology_fig() takes from 5 to 8 positional arguments but 10 were given"
     ]
    }
   ],
   "source": [
    "ambient_metric = EuclideanMetric(1024)\n",
    "manifold_mnist = LatentManifold(\n",
    "    TorchModelMapping(decoder, (2,), (1, 1, 32, 32)), ambient_metric\n",
    ")\n",
    "\n",
    "batch = next(iter(testloader))\n",
    "points, mu, log_var = encoder(batch[0])\n",
    "\n",
    "points = points.detach().numpy()\n",
    "mu = mu.detach().numpy()\n",
    "log_var = log_var.detach().numpy()\n",
    "labels = batch[1]\n",
    "\n",
    "center = points[1]\n",
    "mu = mu[1]\n",
    "log_var = log_var[1]\n",
    "\n",
    "create_topology_fig_given_manifold(\n",
    "    points=points,\n",
    "    labels=labels,\n",
    "    centre=center,\n",
    "    mu=mu,\n",
    "    log_var=log_var,\n",
    "    manifold=manifold_mnist,\n",
    "    num_lines=16,\n",
    "    num_circles=4,\n",
    ").show()"
   ]
  },
  {
   "cell_type": "code",
   "execution_count": null,
   "metadata": {},
   "outputs": [],
   "source": []
  }
 ],
 "metadata": {
  "kernelspec": {
   "display_name": "Python 3",
   "language": "python",
   "name": "python3"
  },
  "language_info": {
   "codemirror_mode": {
    "name": "ipython",
    "version": 3
   },
   "file_extension": ".py",
   "mimetype": "text/x-python",
   "name": "python",
   "nbconvert_exporter": "python",
   "pygments_lexer": "ipython3",
   "version": "3.9.16"
  }
 },
 "nbformat": 4,
 "nbformat_minor": 0
}
