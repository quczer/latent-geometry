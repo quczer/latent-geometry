{
 "cells": [
  {
   "cell_type": "code",
   "execution_count": 1,
   "metadata": {
    "collapsed": true,
    "pycharm": {
     "name": "#%%\n"
    }
   },
   "outputs": [],
   "source": [
    "import numpy as np\n",
    "import torchvision.transforms as transforms\n",
    "\n",
    "import torch\n",
    "import torch.nn as nn\n",
    "import torch.optim as optim\n",
    "import torchvision\n",
    "from torch.utils.data import DataLoader\n",
    "\n",
    "from latent_geometry.model.mnist_vae import EncoderVAE, DecoderVAE\n",
    "from latent_geometry.mapping import TorchModelMapping\n",
    "from latent_geometry.visual.plotly import (\n",
    "    create_topology_fig,\n",
    "    create_topology_fig_geodesics,\n",
    ")\n",
    "from latent_geometry.manifold import LatentManifold\n",
    "from latent_geometry.metric import EuclideanMetric\n",
    "\n",
    "import pandas as pd\n",
    "import plotly.graph_objects as go\n",
    "import plotly.express as px"
   ]
  },
  {
   "cell_type": "code",
   "execution_count": 2,
   "metadata": {
    "collapsed": false,
    "pycharm": {
     "name": "#%%\n"
    }
   },
   "outputs": [],
   "source": [
    "device = torch.device(\"cuda\" if torch.cuda.is_available() else \"cpu\")\n",
    "# initialize the model\n",
    "\n",
    "encoder = EncoderVAE(init_channels=8, latent_dim=2, kernel_size=4, image_channels=1).to(\n",
    "    device\n",
    ")\n",
    "decoder = DecoderVAE(init_channels=8, latent_dim=2, kernel_size=4, image_channels=1).to(\n",
    "    device\n",
    ")\n",
    "params = [param for param in encoder.parameters()] + [\n",
    "    param for param in decoder.parameters()\n",
    "]\n",
    "\n",
    "# set the learning parameters\n",
    "lr = 0.001\n",
    "epochs = 100\n",
    "batch_size = 64\n",
    "optimizer = optim.Adam(params, lr=lr)\n",
    "criterion = nn.MSELoss(reduction=\"sum\")"
   ]
  },
  {
   "cell_type": "code",
   "execution_count": 3,
   "metadata": {
    "collapsed": false,
    "pycharm": {
     "name": "#%%\n"
    }
   },
   "outputs": [],
   "source": [
    "transform = transforms.Compose(\n",
    "    [\n",
    "        transforms.Resize((32, 32)),\n",
    "        transforms.ToTensor(),\n",
    "    ]\n",
    ")\n",
    "# training set and train data loader\n",
    "trainset = torchvision.datasets.MNIST(\n",
    "    root=\"../input\", train=True, download=True, transform=transform\n",
    ")\n",
    "trainloader = DataLoader(trainset, batch_size=batch_size, shuffle=True)\n",
    "# validation set and validation data loader\n",
    "testset = torchvision.datasets.MNIST(\n",
    "    root=\"../input\", train=False, download=True, transform=transform\n",
    ")\n",
    "testloader = DataLoader(testset, batch_size=batch_size, shuffle=False)"
   ]
  },
  {
   "cell_type": "code",
   "execution_count": 4,
   "metadata": {
    "collapsed": false,
    "pycharm": {
     "name": "#%%\n"
    }
   },
   "outputs": [],
   "source": [
    "batch_size = 64\n",
    "\n",
    "transform = transforms.Compose(\n",
    "    [\n",
    "        transforms.Resize((32, 32)),\n",
    "        transforms.ToTensor(),\n",
    "    ]\n",
    ")\n",
    "testset = torchvision.datasets.MNIST(\n",
    "    root=\"../input\", train=False, download=True, transform=transform\n",
    ")\n",
    "testloader = DataLoader(testset, batch_size=500, shuffle=False)"
   ]
  },
  {
   "cell_type": "code",
   "execution_count": 5,
   "metadata": {
    "collapsed": false,
    "pycharm": {
     "name": "#%%\n"
    }
   },
   "outputs": [],
   "source": [
    "device = torch.device(\"cuda\" if torch.cuda.is_available() else \"cpu\")\n",
    "\n",
    "encoder = torch.load(f\"../output/encoder\", map_location=device)\n",
    "decoder = torch.load(f\"../output/decoder\", map_location=device)\n",
    "\n",
    "x = next(iter(trainloader))\n",
    "z, mu, log_var = encoder(x[0])\n",
    "reconstruction = decoder(z)"
   ]
  },
  {
   "cell_type": "code",
   "execution_count": 6,
   "metadata": {
    "collapsed": false,
    "pycharm": {
     "name": "#%%\n"
    }
   },
   "outputs": [],
   "source": [
    "NUM_POINTS = 7000\n",
    "WIDTH = 4\n",
    "Z_SCALE = 5.0\n",
    "SPLINE_POLY_DEG = 3\n",
    "SIN_MULT = 1.5"
   ]
  },
  {
   "cell_type": "code",
   "execution_count": 7,
   "metadata": {
    "collapsed": false,
    "pycharm": {
     "name": "#%%\n"
    }
   },
   "outputs": [],
   "source": [
    "# , manifold: LatentManifold, n_points: int = NUM_POINTS, width: float = WIDTH\n",
    "def create_df(points, labels) -> pd.DataFrame:\n",
    "\n",
    "    x_1 = points[:, 0]\n",
    "    x_2 = points[:, 1]\n",
    "\n",
    "    df = pd.DataFrame(np.stack([x_1, x_2, labels], axis=1), columns=[\"x\", \"y\", \"z\"])\n",
    "\n",
    "    # df = pd.DataFrame(data=np.array([x_1, x_2, labels]).transpose(), columns=[\"x\", \"y\", \"z\"])\n",
    "\n",
    "    # df['x']\n",
    "    #\n",
    "    return df\n",
    "\n",
    "\n",
    "def create_background_df(\n",
    "    manifold: LatentManifold, n_points: int = NUM_POINTS, width: float = WIDTH\n",
    ") -> pd.DataFrame:\n",
    "\n",
    "    x = np.random.rand(n_points, 1) * width * 2 - width\n",
    "    y = np.random.rand(n_points, 1) * width * 2 - width\n",
    "\n",
    "    df = pd.DataFrame(data=np.hstack([x, y]), columns=[\"x\", \"y\"])\n",
    "    df[\"cluster\"] = (df.x > 0) + 2 * (df.y > 0)\n",
    "    # df[\"z\"] = np.sum(df.apply(lambda r: manifold.metric._mapping(r[:2], r[:2], r[:2]), axis=1))\n",
    "    return df\n",
    "\n",
    "\n",
    "def create_latent_fig(df: pd.DataFrame, three_d: bool = False) -> go.Figure:\n",
    "    if three_d:\n",
    "        return px.scatter_3d(df, x=\"x\", y=\"y\", z=\"z\", color=\"z\", opacity=1)\n",
    "    else:\n",
    "        return px.scatter(df, x=\"x\", y=\"y\", color=\"z\", opacity=0.5)\n",
    "        # return px.scatter(df, x=\"x\", y=\"y\", opacity=0.5)  # z tym działało"
   ]
  },
  {
   "cell_type": "code",
   "execution_count": 8,
   "metadata": {
    "collapsed": false,
    "pycharm": {
     "name": "#%%\n"
    }
   },
   "outputs": [],
   "source": [
    "def create_topology_fig_geodesics_given_manifold(\n",
    "    points,\n",
    "    labels,\n",
    "    centers_1: np.ndarray,\n",
    "    mu_1: np.ndarray,\n",
    "    log_var_1: np.ndarray,\n",
    "    centers_2: np.ndarray,\n",
    "    mu_2: np.ndarray,\n",
    "    log_var_2: np.ndarray,\n",
    "    manifold: LatentManifold,\n",
    "    # num_lines: int,\n",
    "    # num_circles: int,\n",
    "    # line_length: float = 2.5,\n",
    "    # show_lines: bool = True,\n",
    "    # show_circles: bool = True,\n",
    ") -> go.Figure:\n",
    "    df_ = create_df(points, labels)\n",
    "    background_trace = create_latent_fig(df_, three_d=False).data[0]\n",
    "\n",
    "    return create_topology_fig_geodesics(\n",
    "        centers_1,\n",
    "        mu_1,\n",
    "        log_var_1,\n",
    "        centers_2,\n",
    "        mu_2,\n",
    "        log_var_2,\n",
    "        manifold,\n",
    "        background_trace,\n",
    "        # num_lines,\n",
    "        # num_circles,\n",
    "        # line_length,\n",
    "        # show_lines,\n",
    "        # show_circles,\n",
    "    )"
   ]
  },
  {
   "cell_type": "code",
   "execution_count": 9,
   "metadata": {
    "collapsed": false,
    "pycharm": {
     "name": "#%%\n"
    }
   },
   "outputs": [],
   "source": [
    "def create_topology_fig_given_manifold(\n",
    "    points,\n",
    "    labels,\n",
    "    centre: np.ndarray,\n",
    "    manifold: LatentManifold,\n",
    "    num_lines: int,\n",
    "    num_circles: int,\n",
    "    line_length: float = 10,\n",
    "    show_lines: bool = True,\n",
    "    show_circles: bool = True,\n",
    ") -> go.Figure:\n",
    "    # df_ = create_background_df(manifold)\n",
    "    df_ = create_df(points, labels)\n",
    "    background_trace = create_latent_fig(df_, three_d=False).data[0]\n",
    "\n",
    "    return create_topology_fig(\n",
    "        centre,\n",
    "        manifold,\n",
    "        background_trace,\n",
    "        num_lines,\n",
    "        num_circles,\n",
    "        line_length,\n",
    "        show_lines,\n",
    "        show_circles,\n",
    "    )"
   ]
  },
  {
   "cell_type": "code",
   "execution_count": 10,
   "metadata": {
    "collapsed": false,
    "pycharm": {
     "name": "#%%\n"
    }
   },
   "outputs": [],
   "source": [
    "ambient_metric = EuclideanMetric(1024)\n",
    "manifold_mnist = LatentManifold(\n",
    "    TorchModelMapping(decoder, (2,), (1, 1, 32, 32)), ambient_metric\n",
    ")\n",
    "\n",
    "batch = next(iter(testloader))\n",
    "points, mu, log_var = encoder(batch[0])\n",
    "\n",
    "points = points.detach().numpy()\n",
    "mu = mu.detach().numpy()\n",
    "log_var = log_var.detach().numpy()\n",
    "labels = batch[1]\n",
    "\n",
    "# mu = mu[0]\n",
    "# log_var = log_var[0]\n",
    "# x = next(iter(testloader))\n",
    "# points = encoder(x[0])[0]\n",
    "# labels = x[1]\n",
    "center = points[0]\n",
    "mu = mu[0]\n",
    "log_var = log_var[0]\n",
    "centers_1 = points[:10]\n",
    "centers_2 = points[10:20]\n",
    "\n",
    "# create_topology_fig_given_manifold(\n",
    "#     points=points,\n",
    "#     labels=labels,\n",
    "#     centre=center,\n",
    "#     mu=mu,\n",
    "#     log_var=log_var,\n",
    "#     manifold=manifold_mnist,\n",
    "#     num_lines=16,\n",
    "#     num_circles=4,\n",
    "# ).show()"
   ]
  },
  {
   "cell_type": "code",
   "execution_count": 11,
   "metadata": {
    "collapsed": false,
    "pycharm": {
     "name": "#%%\n"
    }
   },
   "outputs": [],
   "source": [
    "create_topology_fig_given_manifold(\n",
    "    points=points,\n",
    "    labels=labels,\n",
    "    centre=center,\n",
    "    manifold=manifold_mnist,\n",
    "    num_lines=16,\n",
    "    num_circles=4,\n",
    ").show()"
   ]
  },
  {
   "cell_type": "code",
   "execution_count": null,
   "metadata": {
    "collapsed": false,
    "pycharm": {
     "name": "#%%\n"
    }
   },
   "outputs": [
    {
     "ename": "TypeError",
     "evalue": "create_topology_fig() takes from 5 to 8 positional arguments but 10 were given",
     "output_type": "error",
     "traceback": [
      "\u001b[0;31m---------------------------------------------------------------------------\u001b[0m",
      "\u001b[0;31mTypeError\u001b[0m                                 Traceback (most recent call last)",
      "Cell \u001b[0;32mIn[15], line 18\u001b[0m\n\u001b[1;32m     15\u001b[0m mu \u001b[39m=\u001b[39m mu[\u001b[39m1\u001b[39m]\n\u001b[1;32m     16\u001b[0m log_var \u001b[39m=\u001b[39m log_var[\u001b[39m1\u001b[39m]\n\u001b[0;32m---> 18\u001b[0m create_topology_fig_given_manifold(\n\u001b[1;32m     19\u001b[0m     points\u001b[39m=\u001b[39;49mpoints,\n\u001b[1;32m     20\u001b[0m     labels\u001b[39m=\u001b[39;49mlabels,\n\u001b[1;32m     21\u001b[0m     centre\u001b[39m=\u001b[39;49mcenter,\n\u001b[1;32m     22\u001b[0m     mu\u001b[39m=\u001b[39;49mmu,\n\u001b[1;32m     23\u001b[0m     log_var\u001b[39m=\u001b[39;49mlog_var,\n\u001b[1;32m     24\u001b[0m     manifold\u001b[39m=\u001b[39;49mmanifold_mnist,\n\u001b[1;32m     25\u001b[0m     num_lines\u001b[39m=\u001b[39;49m\u001b[39m16\u001b[39;49m,\n\u001b[1;32m     26\u001b[0m     num_circles\u001b[39m=\u001b[39;49m\u001b[39m4\u001b[39;49m,\n\u001b[1;32m     27\u001b[0m )\u001b[39m.\u001b[39mshow()\n",
      "Cell \u001b[0;32mIn[12], line 18\u001b[0m, in \u001b[0;36mcreate_topology_fig_given_manifold\u001b[0;34m(points, labels, centre, mu, log_var, manifold, num_lines, num_circles, line_length, show_lines, show_circles)\u001b[0m\n\u001b[1;32m     15\u001b[0m df_ \u001b[39m=\u001b[39m create_df(points, labels)\n\u001b[1;32m     16\u001b[0m background_trace \u001b[39m=\u001b[39m create_latent_fig(df_, three_d\u001b[39m=\u001b[39m\u001b[39mFalse\u001b[39;00m)\u001b[39m.\u001b[39mdata[\u001b[39m0\u001b[39m]\n\u001b[0;32m---> 18\u001b[0m \u001b[39mreturn\u001b[39;00m create_topology_fig(\n\u001b[1;32m     19\u001b[0m     centre,\n\u001b[1;32m     20\u001b[0m     mu,\n\u001b[1;32m     21\u001b[0m     log_var,\n\u001b[1;32m     22\u001b[0m     manifold,\n\u001b[1;32m     23\u001b[0m     background_trace,\n\u001b[1;32m     24\u001b[0m     num_lines,\n\u001b[1;32m     25\u001b[0m     num_circles,\n\u001b[1;32m     26\u001b[0m     line_length,\n\u001b[1;32m     27\u001b[0m     show_lines,\n\u001b[1;32m     28\u001b[0m     show_circles,\n\u001b[1;32m     29\u001b[0m )\n",
      "\u001b[0;31mTypeError\u001b[0m: create_topology_fig() takes from 5 to 8 positional arguments but 10 were given"
     ]
    }
   ],
   "source": [
    "ambient_metric = EuclideanMetric(1024)\n",
    "manifold_mnist = LatentManifold(\n",
    "    TorchModelMapping(decoder, (2,), (1, 1, 32, 32)), ambient_metric\n",
    ")\n",
    "\n",
    "batch = next(iter(testloader))\n",
    "points, mu, log_var = encoder(batch[0])\n",
    "\n",
    "points = points.detach().numpy()\n",
    "mu = mu.detach().numpy()\n",
    "log_var = log_var.detach().numpy()\n",
    "labels = batch[1]\n",
    "\n",
    "center = points[1]\n",
    "mu = mu[1]\n",
    "log_var = log_var[1]\n",
    "\n",
    "create_topology_fig_given_manifold(\n",
    "    points=points,\n",
    "    labels=labels,\n",
    "    centre=center,\n",
    "    mu=mu,\n",
    "    log_var=log_var,\n",
    "    manifold=manifold_mnist,\n",
    "    num_lines=16,\n",
    "    num_circles=4,\n",
    ").show()"
   ]
  },
  {
   "cell_type": "code",
   "execution_count": null,
   "metadata": {},
   "outputs": [],
   "source": []
  }
 ],
 "metadata": {
  "kernelspec": {
   "display_name": "Python 3",
   "language": "python",
   "name": "python3"
  },
  "language_info": {
   "codemirror_mode": {
    "name": "ipython",
    "version": 3
   },
   "file_extension": ".py",
   "mimetype": "text/x-python",
   "name": "python",
   "nbconvert_exporter": "python",
   "pygments_lexer": "ipython3",
   "version": "3.9.16"
  }
 },
 "nbformat": 4,
 "nbformat_minor": 0
}
