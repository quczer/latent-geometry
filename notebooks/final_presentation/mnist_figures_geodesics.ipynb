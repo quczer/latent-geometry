{
 "cells": [
  {
   "cell_type": "code",
   "execution_count": 1,
   "metadata": {
    "colab": {
     "base_uri": "https://localhost:8080/"
    },
    "collapsed": true,
    "id": "ybj4qxZvw_Yr",
    "outputId": "70098d2d-d7bc-42d4-afd6-aa64f5da9a0e",
    "pycharm": {
     "name": "#%%\n"
    }
   },
   "outputs": [],
   "source": [
    "# !rm -rf latent-geometry\n",
    "# !git clone -b final-project-presentation --single-branch https://github.com/quczer/latent-geometry.git\n",
    "# # !pip uninstall numpy -y\n",
    "# !pip install -e latent-geometry[dev]\n",
    "# # !python latent-geometry/setup.py install"
   ]
  },
  {
   "cell_type": "code",
   "execution_count": 2,
   "metadata": {
    "id": "uDMZvfQW8qUK"
   },
   "outputs": [],
   "source": [
    "%load_ext autoreload\n",
    "%autoreload 2"
   ]
  },
  {
   "cell_type": "code",
   "execution_count": 3,
   "metadata": {
    "id": "sBST6vA2x8Ut"
   },
   "outputs": [],
   "source": [
    "import numpy as np\n",
    "import torchvision.transforms as transforms\n",
    "\n",
    "import torch\n",
    "import torch.nn as nn\n",
    "import torch.optim as optim\n",
    "import torchvision\n",
    "from torch.utils.data import DataLoader\n",
    "\n",
    "from latent_geometry.model.mnist_vae import EncoderVAE, DecoderVAE\n",
    "from latent_geometry.mapping import TorchModelMapping\n",
    "from latent_geometry.visual.plotly import (\n",
    "    draw_paths,\n",
    ")\n",
    "from latent_geometry.manifold import LatentManifold\n",
    "from latent_geometry.path import ManifoldPath\n",
    "from latent_geometry.metric import EuclideanMetric\n",
    "\n",
    "import pandas as pd\n",
    "import plotly.graph_objects as go\n",
    "import plotly.express as px\n",
    "\n",
    "from latent_geometry.config import NOTEBOOKS_DIR"
   ]
  },
  {
   "cell_type": "code",
   "execution_count": 4,
   "metadata": {
    "id": "tjdrWOt2w_Yu",
    "pycharm": {
     "name": "#%%\n"
    }
   },
   "outputs": [],
   "source": [
    "transform = transforms.Compose(\n",
    "    [\n",
    "        transforms.Resize((32, 32)),\n",
    "        transforms.ToTensor(),\n",
    "    ]\n",
    ")\n",
    "testset = torchvision.datasets.MNIST(\n",
    "    root=NOTEBOOKS_DIR / \"input\", train=False, download=True, transform=transform\n",
    ")\n",
    "testloader = DataLoader(testset, batch_size=256, shuffle=False)"
   ]
  },
  {
   "cell_type": "code",
   "execution_count": 5,
   "metadata": {
    "id": "S28iAIq6w_Yv",
    "pycharm": {
     "name": "#%%\n"
    }
   },
   "outputs": [],
   "source": [
    "device = torch.device(\"cuda\" if torch.cuda.is_available() else \"cpu\")\n",
    "\n",
    "ENCODER = torch.load(NOTEBOOKS_DIR / \"output\" / \"encoder\", map_location=device)\n",
    "DECODER = torch.load(NOTEBOOKS_DIR / \"output\" / \"decoder\", map_location=device)\n",
    "\n",
    "x = next(iter(testloader))\n",
    "z, mu, log_var = ENCODER(x[0].to(device))\n",
    "reconstruction = DECODER(z)"
   ]
  },
  {
   "cell_type": "code",
   "execution_count": 35,
   "metadata": {
    "id": "dht2uugCw_Yv",
    "pycharm": {
     "name": "#%%\n"
    }
   },
   "outputs": [],
   "source": [
    "NUM_POINTS = 7000\n",
    "WIDTH = 4\n",
    "Z_SCALE = 5.0\n",
    "SPLINE_POLY_DEG = 3\n",
    "SIN_MULT = 1.5\n",
    "SOLVER_TOL = 0.001"
   ]
  },
  {
   "cell_type": "code",
   "execution_count": 36,
   "metadata": {
    "id": "sYbj8YF1w_Yv",
    "pycharm": {
     "name": "#%%\n"
    }
   },
   "outputs": [],
   "source": [
    "# , manifold: LatentManifold, n_points: int = NUM_POINTS, width: float = WIDTH\n",
    "def create_df(points, labels) -> pd.DataFrame:\n",
    "    x_1 = points[:, 0]\n",
    "    x_2 = points[:, 1]\n",
    "\n",
    "    df = pd.DataFrame(np.stack([x_1, x_2, labels], axis=1), columns=[\"x\", \"y\", \"z\"])\n",
    "    return df\n",
    "\n",
    "\n",
    "def create_latent_fig(df: pd.DataFrame, three_d: bool = False) -> go.Figure:\n",
    "    if three_d:\n",
    "        return px.scatter_3d(df, x=\"x\", y=\"y\", z=\"z\", color=\"z\", opacity=1)\n",
    "    else:\n",
    "        return px.scatter(df, x=\"x\", y=\"y\", color=\"z\", opacity=0.5)\n",
    "        # return px.scatter(df, x=\"x\", y=\"y\", opacity=0.5)  # z tym działało"
   ]
  },
  {
   "cell_type": "code",
   "execution_count": 37,
   "metadata": {},
   "outputs": [],
   "source": [
    "def create_straight_path(\n",
    "    from_: np.ndarray, to_: np.ndarray, manifold: LatentManifold\n",
    ") -> ManifoldPath:\n",
    "    def x_fun(t: float) -> np.ndarray:\n",
    "        return from_ + (to_ - from_) * t\n",
    "\n",
    "    def v_fun(t: float) -> np.ndarray:\n",
    "        return from_ - to_\n",
    "\n",
    "    return ManifoldPath(\n",
    "        x_fun, v_fun, manifold.metric, manifold._euclidean_latent_metric\n",
    "    )"
   ]
  },
  {
   "cell_type": "code",
   "execution_count": 38,
   "metadata": {
    "id": "hNzbIaGJw_Y5",
    "pycharm": {
     "name": "#%%\n"
    }
   },
   "outputs": [],
   "source": [
    "ambient_metric = EuclideanMetric(1024)\n",
    "latent_mapping = TorchModelMapping(DECODER, (2,), (1, 1, 32, 32))\n",
    "manifold_mnist = LatentManifold(latent_mapping, ambient_metric, solver_tol=SOLVER_TOL)\n",
    "\n",
    "batch = next(iter(testloader))\n",
    "points, mu, log_var = ENCODER(batch[0].to(device))\n",
    "\n",
    "points = points.detach().cpu().numpy()\n",
    "labels = batch[1]\n",
    "\n",
    "center = points[0]\n",
    "centers_1 = points[:10]\n",
    "centers_2 = points[10:20]"
   ]
  },
  {
   "cell_type": "code",
   "execution_count": 39,
   "metadata": {},
   "outputs": [],
   "source": [
    "BACKGROUND_TRACE = create_latent_fig(create_df(points, labels), three_d=False).data[0]"
   ]
  },
  {
   "cell_type": "code",
   "execution_count": 40,
   "metadata": {},
   "outputs": [],
   "source": [
    "def create_latent_path(from_: np.ndarray, theta: float, length: float) -> ManifoldPath:\n",
    "    return manifold_mnist.path_given_direction(\n",
    "        from_, np.array([np.cos(theta), np.sin(theta)]), length\n",
    "    )"
   ]
  },
  {
   "cell_type": "code",
   "execution_count": 41,
   "metadata": {},
   "outputs": [],
   "source": [
    "import matplotlib.pyplot as plt\n",
    "\n",
    "\n",
    "def show_path_in_ambient(path: ManifoldPath, n_points: int = 9):\n",
    "    fig, axes = plt.subplots(1, n_points, figsize=(1.5 * n_points, 2))\n",
    "    for i in range(n_points):\n",
    "        t = i / (n_points - 1)\n",
    "        latent_dist = path.manifold_length(0, t)\n",
    "        euclidean_dist = path.euclidean_length(0, t)\n",
    "        image = latent_mapping(path(t)).reshape((32, 32))\n",
    "        ax = axes[i]\n",
    "        ax.imshow(image, cmap=\"gray\")\n",
    "        ax.set_title(f\"Euc: {euclidean_dist:.2f}, P-B: {latent_dist: .2f}\", fontsize=8)\n",
    "        ax.set_axis_off()\n",
    "\n",
    "    plt.tight_layout()\n",
    "    plt.show()"
   ]
  },
  {
   "cell_type": "code",
   "execution_count": 42,
   "metadata": {},
   "outputs": [
    {
     "data": {
      "text/plain": [
       "<matplotlib.image.AxesImage at 0x7ff717a27790>"
      ]
     },
     "execution_count": 42,
     "metadata": {},
     "output_type": "execute_result"
    },
    {
     "data": {
      "image/png": "[encoded data removed]",
      "text/plain": [
       "<Figure size 640x480 with 1 Axes>"
      ]
     },
     "metadata": {},
     "output_type": "display_data"
    }
   ],
   "source": [
    "START = np.array([0.0, 0.5])\n",
    "plt.imshow(latent_mapping(START).reshape(32, 32))"
   ]
  },
  {
   "cell_type": "code",
   "execution_count": 43,
   "metadata": {},
   "outputs": [],
   "source": [
    "latent_path = create_latent_path(START, np.pi * 0.9, 10.0)\n",
    "straight_path = create_straight_path(latent_path(0), latent_path(1), manifold_mnist)"
   ]
  },
  {
   "cell_type": "code",
   "execution_count": 44,
   "metadata": {},
   "outputs": [
    {
     "data": {
      "text/plain": [
       "0.22721979463504693"
      ]
     },
     "execution_count": 44,
     "metadata": {},
     "output_type": "execute_result"
    }
   ],
   "source": [
    "start, end = latent_path(0), latent_path(1)\n",
    "\n",
    "((start - end) ** 2).sum()"
   ]
  },
  {
   "cell_type": "code",
   "execution_count": 45,
   "metadata": {},
   "outputs": [],
   "source": [
    "# plt.imshow(latent_mapping(latent_path(1)).reshape(32, 32))\n",
    "#"
   ]
  },
  {
   "cell_type": "code",
   "execution_count": 49,
   "metadata": {},
   "outputs": [
    {
     "data": {
      "application/vnd.plotly.v1+json": {
       "config": {
        "plotlyServerURL": "https://plot.ly"
       },
       "data": [
        {
         "hovertemplate": "x=%{x}<br>y=%{y}<br>z=%{marker.color}<extra></extra>",
         "legendgroup": "",
         "marker": {
          "color": [
           7,
           2,
           1,
           0,
           4,
           1,
           4,
           9,
           5,
           9,
           0,
           6,
           9,
           0,
           1,
           5,
           9,
           7,
           3,
           4,
           9,
           6,
           6,
           5,
           4,
           0,
           7,
           4,
           0,
           1,
           3,
           1,
           3,
           4,
           7,
           2,
           7,
           1,
           2,
           1,
           1,
           7,
           4,
           2,
           3,
           5,
           1,
           2,
           4,
           4,
           6,
           3,
           5,
           5,
           6,
           0,
           4,
           1,
           9,
           5,
           7,
           8,
           9,
           3,
           7,
           4,
           6,
           4,
           3,
           0,
           7,
           0,
           2,
           9,
           1,
           7,
           3,
           2,
           9,
           7,
           7,
           6,
           2,
           7,
           8,
           4,
           7,
           3,
           6,
           1,
           3,
           6,
           9,
           3,
           1,
           4,
           1,
           7,
           6,
           9,
           6,
           0,
           5,
           4,
           9,
           9,
           2,
           1,
           9,
           4,
           8,
           7,
           3,
           9,
           7,
           4,
           4,
           4,
           9,
           2,
           5,
           4,
           7,
           6,
           7,
           9,
           0,
           5,
           8,
           5,
           6,
           6,
           5,
           7,
           8,
           1,
           0,
           1,
           6,
           4,
           6,
           7,
           3,
           1,
           7,
           1,
           8,
           2,
           0,
           2,
           9,
           9,
           5,
           5,
           1,
           5,
           6,
           0,
           3,
           4,
           4,
           6,
           5,
           4,
           6,
           5,
           4,
           5,
           1,
           4,
           4,
           7,
           2,
           3,
           2,
           7,
           1,
           8,
           1,
           8,
           1,
           8,
           5,
           0,
           8,
           9,
           2,
           5,
           0,
           1,
           1,
           1,
           0,
           9,
           0,
           3,
           1,
           6,
           4,
           2,
           3,
           6,
           1,
           1,
           1,
           3,
           9,
           5,
           2,
           9,
           4,
           5,
           9,
           3,
           9,
           0,
           3,
           6,
           5,
           5,
           7,
           2,
           2,
           7,
           1,
           2,
           8,
           4,
           1,
           7,
           3,
           3,
           8,
           8,
           7,
           9,
           2,
           2,
           4,
           1,
           5,
           9,
           8,
           7,
           2,
           3,
           0,
           4,
           4,
           2,
           4,
           1,
           9,
           5,
           7,
           7
          ],
          "coloraxis": "coloraxis",
          "opacity": 0.5,
          "symbol": "circle"
         },
         "mode": "markers",
         "name": "",
         "orientation": "v",
         "showlegend": false,
         "type": "scatter",
         "x": [
          -0.879862368106842,
          0.2712198793888092,
          -2.759385347366333,
          1.3125736713409424,
          -0.3205927908420563,
          -1.924565315246582,
          -0.49509868025779724,
          -0.02812901884317398,
          -0.08752616494894028,
          -0.6417502164840698,
          1.7963405847549438,
          0.9650922417640686,
          -0.4916096031665802,
          1.4428755044937134,
          -1.9942827224731445,
          0.40697023272514343,
          -0.4361402094364166,
          -0.8595965504646301,
          0.4367917478084564,
          -0.42476803064346313,
          -0.6968694925308228,
          0.7382940649986267,
          0.6524795293807983,
          0.10065926611423492,
          -0.4472111165523529,
          2.5167083740234375,
          -0.904448926448822,
          -0.41501420736312866,
          1.3807228803634644,
          -2.0359606742858887,
          0.15105731785297394,
          -1.923586130142212,
          0.09174541383981705,
          -0.22229993343353271,
          -0.830885112285614,
          1.6068332195281982,
          -0.9618626236915588,
          -1.800230622291565,
          0.4422692060470581,
          -1.5186948776245117,
          -2.3775014877319336,
          -1.0203849077224731,
          -0.49231472611427307,
          0.6826862096786499,
          0.5372434258460999,
          0.266029953956604,
          -1.5239555835723877,
          0.7719199061393738,
          -0.46351417899131775,
          -0.2801123559474945,
          0.8373962640762329,
          0.41452211141586304,
          -0.015240208245813847,
          0.4462844133377075,
          1.1950098276138306,
          1.358610987663269,
          -0.4274206757545471,
          -2.302966833114624,
          -0.4259277582168579,
          -0.2749107778072357,
          -1.2078516483306885,
          -0.21646742522716522,
          -0.500399112701416,
          0.2543022632598877,
          -0.8283280730247498,
          -0.6394596695899963,
          0.9267851710319519,
          -0.35690900683403015,
          0.11364325135946274,
          3.506579637527466,
          -0.8679515719413757,
          1.7283260822296143,
          1.4109450578689575,
          -0.6664792895317078,
          -1.6850683689117432,
          -1.1279308795928955,
          0.1771259754896164,
          0.6251769661903381,
          -0.5931985378265381,
          -0.7711213231086731,
          -0.7418025135993958,
          0.8640594482421875,
          1.1316674947738647,
          -0.8258841037750244,
          -0.06242462247610092,
          -0.49103274941444397,
          -0.9845046997070312,
          0.17589667439460754,
          0.736564040184021,
          -1.7095415592193604,
          0.29252567887306213,
          0.815772294998169,
          -0.5090675950050354,
          0.20296013355255127,
          -1.4234516620635986,
          -0.3520112931728363,
          -1.56232750415802,
          -1.350116491317749,
          0.9272523522377014,
          -0.30668511986732483,
          0.7355903387069702,
          1.8318582773208618,
          0.10969169437885284,
          -0.25631609559059143,
          -0.004687412176281214,
          -0.36980003118515015,
          1.597788691520691,
          -1.6104391813278198,
          -0.6705462336540222,
          -0.47682785987854004,
          0.005175577476620674,
          -1.3322608470916748,
          0.08680574595928192,
          -0.47313982248306274,
          -1.1685458421707153,
          -0.5602496862411499,
          -0.5649610161781311,
          -0.24582789838314056,
          -0.5212523937225342,
          0.9216920137405396,
          0.1809641420841217,
          -0.4098432958126068,
          -1.1025065183639526,
          0.8874453902244568,
          -0.6879075765609741,
          -0.23219628632068634,
          1.6216747760772705,
          -0.010722354054450989,
          -0.16746649146080017,
          0.057866036891937256,
          1.0013612508773804,
          1.0179481506347656,
          0.27806034684181213,
          -0.7188811898231506,
          -0.08197424560785294,
          -1.5463621616363525,
          1.3532178401947021,
          -1.3046361207962036,
          0.834164023399353,
          -0.4398286044597626,
          0.6540250778198242,
          -1.045462965965271,
          0.09378178417682648,
          -2.2538211345672607,
          -1.0189086198806763,
          -2.199610948562622,
          -0.1711251437664032,
          1.4334301948547363,
          1.451399564743042,
          0.32028651237487793,
          -0.4586919844150543,
          0.09674747288227081,
          -0.12989014387130737,
          0.190882608294487,
          -2.0266664028167725,
          0.13225290179252625,
          0.6497149467468262,
          1.2526094913482666,
          0.32034832239151,
          -0.5957279801368713,
          -0.5222974419593811,
          1.0434743165969849,
          0.07187026739120483,
          -0.4616573452949524,
          0.6852872967720032,
          0.4041127860546112,
          -0.4292322099208832,
          -0.012649141252040863,
          -1.7405222654342651,
          -0.5473054051399231,
          -0.5014574527740479,
          -0.770826518535614,
          0.29771509766578674,
          0.39254531264305115,
          0.7681941986083984,
          -1.5439963340759277,
          -3.480220079421997,
          -0.10401758551597595,
          -1.98781418800354,
          -0.043941155076026917,
          -1.8734558820724487,
          -0.12478433549404144,
          -0.11104031652212143,
          2.1458492279052734,
          0.1778714954853058,
          -0.422158807516098,
          0.41727834939956665,
          0.31051743030548096,
          1.9179121255874634,
          -2.207212209701538,
          -1.362648844718933,
          -1.6780281066894531,
          1.9183317422866821,
          -0.565033495426178,
          1.403904914855957,
          -0.06860639899969101,
          -1.5940028429031372,
          0.9167832136154175,
          -0.47672730684280396,
          1.0963714122772217,
          0.4296620488166809,
          1.168092131614685,
          -1.455855131149292,
          -2.074066638946533,
          -1.9498016834259033,
          0.05961006134748459,
          -0.6097742319107056,
          0.2613529562950134,
          0.878452479839325,
          -0.09020955115556717,
          -0.5282809138298035,
          -0.09476342797279358,
          -0.07535199820995331,
          -0.34290698170661926,
          -0.5266054272651672,
          1.2690088748931885,
          0.24394269287586212,
          0.9789090156555176,
          -0.17950810492038727,
          0.2713316082954407,
          -0.8251405954360962,
          0.8877261877059937,
          1.1970354318618774,
          -0.8760462999343872,
          -2.163278341293335,
          0.6294500231742859,
          -0.13503868877887726,
          -0.49737823009490967,
          -2.009617328643799,
          -1.1074931621551514,
          0.2971990406513214,
          0.1691005975008011,
          -0.08593517541885376,
          -0.2603749632835388,
          -1.2016135454177856,
          -0.486611545085907,
          0.6446237564086914,
          0.7929631471633911,
          -0.44035840034484863,
          -1.8437280654907227,
          0.24857288599014282,
          0.14946529269218445,
          -0.2579967975616455,
          -0.6487623453140259,
          0.5224080681800842,
          0.731558620929718,
          1.847255825996399,
          1.0118322372436523,
          -0.3502792716026306,
          0.4841341972351074,
          -0.5261073112487793,
          -2.9613800048828125,
          -0.5517275333404541,
          0.11345930397510529,
          -1.0046392679214478,
          -1.1403504610061646
         ],
         "xaxis": "x",
         "y": [
          -0.05986444279551506,
          -1.2564667463302612,
          -0.7482856512069702,
          0.06911923736333847,
          1.7169359922409058,
          -0.8177873492240906,
          0.2551487684249878,
          1.2034457921981812,
          -0.19002357125282288,
          -0.45937347412109375,
          0.9338351488113403,
          1.8325053453445435,
          0.16508451104164124,
          0.6356871724128723,
          0.2269562929868698,
          1.5666625499725342,
          0.6701862215995789,
          0.31588083505630493,
          1.4152964353561401,
          1.0404460430145264,
          -0.4622337520122528,
          0.5721977949142456,
          1.8815054893493652,
          -0.8316157460212708,
          1.1808226108551025,
          0.17022868990898132,
          1.3287056684494019,
          1.324854850769043,
          0.5120478868484497,
          1.4520899057388306,
          -0.16517937183380127,
          1.0788097381591797,
          0.9161558747291565,
          2.7144150733947754,
          -0.7405285239219666,
          -1.581384539604187,
          0.30916130542755127,
          0.9029685854911804,
          -1.2201088666915894,
          -0.20199666917324066,
          -0.18692611157894135,
          -0.1355133354663849,
          0.38829100131988525,
          -2.4936037063598633,
          -0.2466675341129303,
          0.16090689599514008,
          2.2487192153930664,
          -1.1922924518585205,
          1.6450681686401367,
          1.825427770614624,
          -0.3710598647594452,
          1.2731261253356934,
          -0.9005438089370728,
          1.1913608312606812,
          2.577643871307373,
          0.26651063561439514,
          2.100893020629883,
          -0.48522013425827026,
          0.6186630725860596,
          -1.0620203018188477,
          2.1979808807373047,
          -0.5080533623695374,
          0.9036873579025269,
          -0.34444308280944824,
          -0.8219624161720276,
          0.8632169961929321,
          1.878145694732666,
          1.8631434440612793,
          0.40442171692848206,
          1.423102617263794,
          0.13349656760692596,
          0.8567215204238892,
          -1.252610683441162,
          -0.8906823992729187,
          0.1802244782447815,
          0.2654183506965637,
          0.2924068868160248,
          -1.1696876287460327,
          -0.7456661462783813,
          -0.6106049418449402,
          1.1565583944320679,
          0.08332885801792145,
          -1.7021898031234741,
          1.2014201879501343,
          0.5115700960159302,
          2.110570192337036,
          -0.3991314172744751,
          0.5450708866119385,
          1.6555637121200562,
          -0.7537936568260193,
          0.24226923286914825,
          0.17230360209941864,
          -0.6400958895683289,
          -0.03278505057096481,
          1.2855603694915771,
          0.7658807039260864,
          1.7944121360778809,
          0.13256552815437317,
          0.5055680871009827,
          1.521614670753479,
          1.7551202774047852,
          0.688925564289093,
          0.16138754785060883,
          1.8023139238357544,
          1.7611299753189087,
          1.3461183309555054,
          -1.497929334640503,
          -1.5254803895950317,
          1.1823588609695435,
          0.613364040851593,
          -0.2944962978363037,
          -0.23445555567741394,
          -0.08149835467338562,
          1.069512963294983,
          0.07442725449800491,
          0.25766488909721375,
          0.8680417537689209,
          2.2702274322509766,
          0.3860379755496979,
          -1.0682684183120728,
          0.8641677498817444,
          -0.5432897210121155,
          1.2044110298156738,
          0.2905743420124054,
          0.2355026751756668,
          0.9114606976509094,
          1.2324450016021729,
          -0.8257094025611877,
          0.20656225085258484,
          -0.7930265069007874,
          -0.07302245497703552,
          -0.0869065523147583,
          0.8001986145973206,
          0.06375792622566223,
          -0.10191340744495392,
          0.1022283211350441,
          0.3029172718524933,
          -0.7566056847572327,
          1.2473697662353516,
          -0.4244648218154907,
          -0.11304692924022675,
          1.5750194787979126,
          0.7103789448738098,
          -0.6124475002288818,
          -0.8215243220329285,
          1.5374287366867065,
          0.03754281625151634,
          -1.7054651975631714,
          0.5054851770401001,
          -1.7507960796356201,
          1.145796298980713,
          1.42049241065979,
          -0.7948516607284546,
          0.582736611366272,
          0.337471067905426,
          -0.7731831669807434,
          1.7639918327331543,
          0.5759443640708923,
          0.5066296458244324,
          0.8351410031318665,
          0.3051852285861969,
          -0.055686287581920624,
          0.6062079668045044,
          1.9356822967529297,
          1.7949762344360352,
          0.8170844316482544,
          0.9443873167037964,
          -1.7001827955245972,
          0.6284440755844116,
          1.1061301231384277,
          1.492263913154602,
          -0.9576302170753479,
          -1.0096492767333984,
          1.0975513458251953,
          -1.2583043575286865,
          -0.049284420907497406,
          -0.28082406520843506,
          0.09874270856380463,
          0.1458805799484253,
          0.12854723632335663,
          0.020942717790603638,
          0.07063361257314682,
          0.44055408239364624,
          0.9963557720184326,
          0.11602535843849182,
          0.5880833864212036,
          -1.2140547037124634,
          0.8258908987045288,
          0.19530092179775238,
          2.0520920753479004,
          -0.5262412428855896,
          2.619131565093994,
          -0.8439096808433533,
          1.273877739906311,
          0.34249448776245117,
          0.9964218139648438,
          0.387787401676178,
          -0.39201274514198303,
          0.752963662147522,
          -1.5594254732131958,
          -0.14530177414417267,
          1.9040889739990234,
          -1.501448631286621,
          0.5289775133132935,
          -0.7990767955780029,
          0.444845974445343,
          0.5615724325180054,
          1.2323471307754517,
          -1.6897083520889282,
          1.4175165891647339,
          2.5197525024414062,
          -0.7384054660797119,
          1.6561211347579956,
          0.04418528079986572,
          1.3524599075317383,
          0.14716342091560364,
          -0.0976104885339737,
          -0.6896222233772278,
          -0.9231204986572266,
          0.04308924823999405,
          1.4038472175598145,
          -1.0103106498718262,
          -1.06149423122406,
          -0.33778560161590576,
          -1.628000259399414,
          -1.0006073713302612,
          0.09661144018173218,
          0.6025868058204651,
          -1.2410129308700562,
          0.09196393191814423,
          -0.15876314043998718,
          -0.12965795397758484,
          0.24715733528137207,
          0.13672500848770142,
          0.13269135355949402,
          1.4689024686813354,
          -1.0691962242126465,
          -1.6874492168426514,
          0.26277703046798706,
          0.5753746032714844,
          0.4923790395259857,
          0.8919268846511841,
          -0.46439701318740845,
          0.7799851894378662,
          -1.1556098461151123,
          0.716662585735321,
          1.6446921825408936,
          -0.6615428328514099,
          1.4630659818649292,
          -0.8752931356430054,
          1.1751631498336792,
          1.1466811895370483,
          1.205777645111084,
          0.14734727144241333,
          0.5708398818969727,
          0.5593905448913574
         ],
         "yaxis": "y"
        },
        {
         "line": {
          "color": "black",
          "width": 3
         },
         "mode": "lines",
         "name": "",
         "opacity": 0.6,
         "type": "scatter",
         "x": [
          0,
          -0.01581863306416926,
          -0.03168676328672975,
          -0.04735444505232905,
          -0.06266351833328467,
          -0.07758057184498579,
          -0.09203589420444723,
          -0.10606558290902682,
          -0.11968613712889418,
          -0.13293820671288015,
          -0.14602862735693994,
          -0.1590641496472598,
          -0.1721458991119373,
          -0.1852355834514512,
          -0.19811781362335135,
          -0.21068404148430164,
          -0.22300739000987022,
          -0.23523596331202226,
          -0.24740892262922706,
          -0.2595635882637146,
          -0.27175602584227765,
          -0.2841000769906337,
          -0.29686838396427634,
          -0.3101585496597513,
          -0.32420567860869287,
          -0.3393503514100082,
          -0.3554843964879743,
          -0.3725426032341702,
          -0.39057126310018314,
          -0.40973913368869125
         ],
         "y": [
          0.5,
          0.5046422454873604,
          0.5084552637932583,
          0.5113703519181912,
          0.5134475795870737,
          0.5151428109936388,
          0.5166840506860091,
          0.5184041566391653,
          0.520434985358538,
          0.5228037746577284,
          0.5254478941337027,
          0.5282763611699958,
          0.5311872091415605,
          0.5342779828834909,
          0.5375951639816189,
          0.5413219919177914,
          0.5455241036252512,
          0.5504326090125454,
          0.556645794001395,
          0.5643118524042162,
          0.5736123854679,
          0.5846042411893432,
          0.5973627916474222,
          0.6121901948590278,
          0.6292856777553085,
          0.648275345179769,
          0.6688466361790392,
          0.6914837210330388,
          0.7162957904286467,
          0.7435849686640942
         ]
        },
        {
         "line": {
          "color": "black",
          "width": 3
         },
         "mode": "lines",
         "name": "",
         "opacity": 0.6,
         "type": "scatter",
         "x": [
          0,
          -0.014128935644437629,
          -0.028257871288875257,
          -0.042386806933312884,
          -0.056515742577750515,
          -0.07064467822218815,
          -0.08477361386662577,
          -0.09890254951106339,
          -0.11303148515550103,
          -0.12716042079993867,
          -0.1412893564443763,
          -0.15541829208881391,
          -0.16954722773325154,
          -0.1836761633776892,
          -0.19780509902212678,
          -0.21193403466656446,
          -0.22606297031100206,
          -0.24019190595543968,
          -0.25432084159987733,
          -0.26844977724431496,
          -0.2825787128887526,
          -0.2967076485331902,
          -0.31083658417762783,
          -0.3249655198220655,
          -0.3390944554665031,
          -0.3532233911109407,
          -0.3673523267553784,
          -0.381481262399816,
          -0.39561019804425357,
          -0.40973913368869125
         ],
         "y": [
          0.5,
          0.5083994816780723,
          0.5167989633561444,
          0.5251984450342166,
          0.5335979267122889,
          0.541997408390361,
          0.5503968900684333,
          0.5587963717465055,
          0.5671958534245777,
          0.5755953351026499,
          0.5839948167807222,
          0.5923942984587943,
          0.6007937801368666,
          0.6091932618149387,
          0.617592743493011,
          0.6259922251710832,
          0.6343917068491554,
          0.6427911885272276,
          0.6511906702052999,
          0.659590151883372,
          0.6679896335614443,
          0.6763891152395165,
          0.6847885969175886,
          0.6931880785956609,
          0.7015875602737331,
          0.7099870419518053,
          0.7183865236298775,
          0.7267860053079498,
          0.7351854869860219,
          0.7435849686640942
         ]
        }
       ],
       "layout": {
        "height": 800,
        "template": {
         "data": {
          "bar": [
           {
            "error_x": {
             "color": "#2a3f5f"
            },
            "error_y": {
             "color": "#2a3f5f"
            },
            "marker": {
             "line": {
              "color": "#E5ECF6",
              "width": 0.5
             },
             "pattern": {
              "fillmode": "overlay",
              "size": 10,
              "solidity": 0.2
             }
            },
            "type": "bar"
           }
          ],
          "barpolar": [
           {
            "marker": {
             "line": {
              "color": "#E5ECF6",
              "width": 0.5
             },
             "pattern": {
              "fillmode": "overlay",
              "size": 10,
              "solidity": 0.2
             }
            },
            "type": "barpolar"
           }
          ],
          "carpet": [
           {
            "aaxis": {
             "endlinecolor": "#2a3f5f",
             "gridcolor": "white",
             "linecolor": "white",
             "minorgridcolor": "white",
             "startlinecolor": "#2a3f5f"
            },
            "baxis": {
             "endlinecolor": "#2a3f5f",
             "gridcolor": "white",
             "linecolor": "white",
             "minorgridcolor": "white",
             "startlinecolor": "#2a3f5f"
            },
            "type": "carpet"
           }
          ],
          "choropleth": [
           {
            "colorbar": {
             "outlinewidth": 0,
             "ticks": ""
            },
            "type": "choropleth"
           }
          ],
          "contour": [
           {
            "colorbar": {
             "outlinewidth": 0,
             "ticks": ""
            },
            "colorscale": [
             [
              0,
              "#0d0887"
             ],
             [
              0.1111111111111111,
              "#46039f"
             ],
             [
              0.2222222222222222,
              "#7201a8"
             ],
             [
              0.3333333333333333,
              "#9c179e"
             ],
             [
              0.4444444444444444,
              "#bd3786"
             ],
             [
              0.5555555555555556,
              "#d8576b"
             ],
             [
              0.6666666666666666,
              "#ed7953"
             ],
             [
              0.7777777777777778,
              "#fb9f3a"
             ],
             [
              0.8888888888888888,
              "#fdca26"
             ],
             [
              1,
              "#f0f921"
             ]
            ],
            "type": "contour"
           }
          ],
          "contourcarpet": [
           {
            "colorbar": {
             "outlinewidth": 0,
             "ticks": ""
            },
            "type": "contourcarpet"
           }
          ],
          "heatmap": [
           {
            "colorbar": {
             "outlinewidth": 0,
             "ticks": ""
            },
            "colorscale": [
             [
              0,
              "#0d0887"
             ],
             [
              0.1111111111111111,
              "#46039f"
             ],
             [
              0.2222222222222222,
              "#7201a8"
             ],
             [
              0.3333333333333333,
              "#9c179e"
             ],
             [
              0.4444444444444444,
              "#bd3786"
             ],
             [
              0.5555555555555556,
              "#d8576b"
             ],
             [
              0.6666666666666666,
              "#ed7953"
             ],
             [
              0.7777777777777778,
              "#fb9f3a"
             ],
             [
              0.8888888888888888,
              "#fdca26"
             ],
             [
              1,
              "#f0f921"
             ]
            ],
            "type": "heatmap"
           }
          ],
          "heatmapgl": [
           {
            "colorbar": {
             "outlinewidth": 0,
             "ticks": ""
            },
            "colorscale": [
             [
              0,
              "#0d0887"
             ],
             [
              0.1111111111111111,
              "#46039f"
             ],
             [
              0.2222222222222222,
              "#7201a8"
             ],
             [
              0.3333333333333333,
              "#9c179e"
             ],
             [
              0.4444444444444444,
              "#bd3786"
             ],
             [
              0.5555555555555556,
              "#d8576b"
             ],
             [
              0.6666666666666666,
              "#ed7953"
             ],
             [
              0.7777777777777778,
              "#fb9f3a"
             ],
             [
              0.8888888888888888,
              "#fdca26"
             ],
             [
              1,
              "#f0f921"
             ]
            ],
            "type": "heatmapgl"
           }
          ],
          "histogram": [
           {
            "marker": {
             "pattern": {
              "fillmode": "overlay",
              "size": 10,
              "solidity": 0.2
             }
            },
            "type": "histogram"
           }
          ],
          "histogram2d": [
           {
            "colorbar": {
             "outlinewidth": 0,
             "ticks": ""
            },
            "colorscale": [
             [
              0,
              "#0d0887"
             ],
             [
              0.1111111111111111,
              "#46039f"
             ],
             [
              0.2222222222222222,
              "#7201a8"
             ],
             [
              0.3333333333333333,
              "#9c179e"
             ],
             [
              0.4444444444444444,
              "#bd3786"
             ],
             [
              0.5555555555555556,
              "#d8576b"
             ],
             [
              0.6666666666666666,
              "#ed7953"
             ],
             [
              0.7777777777777778,
              "#fb9f3a"
             ],
             [
              0.8888888888888888,
              "#fdca26"
             ],
             [
              1,
              "#f0f921"
             ]
            ],
            "type": "histogram2d"
           }
          ],
          "histogram2dcontour": [
           {
            "colorbar": {
             "outlinewidth": 0,
             "ticks": ""
            },
            "colorscale": [
             [
              0,
              "#0d0887"
             ],
             [
              0.1111111111111111,
              "#46039f"
             ],
             [
              0.2222222222222222,
              "#7201a8"
             ],
             [
              0.3333333333333333,
              "#9c179e"
             ],
             [
              0.4444444444444444,
              "#bd3786"
             ],
             [
              0.5555555555555556,
              "#d8576b"
             ],
             [
              0.6666666666666666,
              "#ed7953"
             ],
             [
              0.7777777777777778,
              "#fb9f3a"
             ],
             [
              0.8888888888888888,
              "#fdca26"
             ],
             [
              1,
              "#f0f921"
             ]
            ],
            "type": "histogram2dcontour"
           }
          ],
          "mesh3d": [
           {
            "colorbar": {
             "outlinewidth": 0,
             "ticks": ""
            },
            "type": "mesh3d"
           }
          ],
          "parcoords": [
           {
            "line": {
             "colorbar": {
              "outlinewidth": 0,
              "ticks": ""
             }
            },
            "type": "parcoords"
           }
          ],
          "pie": [
           {
            "automargin": true,
            "type": "pie"
           }
          ],
          "scatter": [
           {
            "fillpattern": {
             "fillmode": "overlay",
             "size": 10,
             "solidity": 0.2
            },
            "type": "scatter"
           }
          ],
          "scatter3d": [
           {
            "line": {
             "colorbar": {
              "outlinewidth": 0,
              "ticks": ""
             }
            },
            "marker": {
             "colorbar": {
              "outlinewidth": 0,
              "ticks": ""
             }
            },
            "type": "scatter3d"
           }
          ],
          "scattercarpet": [
           {
            "marker": {
             "colorbar": {
              "outlinewidth": 0,
              "ticks": ""
             }
            },
            "type": "scattercarpet"
           }
          ],
          "scattergeo": [
           {
            "marker": {
             "colorbar": {
              "outlinewidth": 0,
              "ticks": ""
             }
            },
            "type": "scattergeo"
           }
          ],
          "scattergl": [
           {
            "marker": {
             "colorbar": {
              "outlinewidth": 0,
              "ticks": ""
             }
            },
            "type": "scattergl"
           }
          ],
          "scattermapbox": [
           {
            "marker": {
             "colorbar": {
              "outlinewidth": 0,
              "ticks": ""
             }
            },
            "type": "scattermapbox"
           }
          ],
          "scatterpolar": [
           {
            "marker": {
             "colorbar": {
              "outlinewidth": 0,
              "ticks": ""
             }
            },
            "type": "scatterpolar"
           }
          ],
          "scatterpolargl": [
           {
            "marker": {
             "colorbar": {
              "outlinewidth": 0,
              "ticks": ""
             }
            },
            "type": "scatterpolargl"
           }
          ],
          "scatterternary": [
           {
            "marker": {
             "colorbar": {
              "outlinewidth": 0,
              "ticks": ""
             }
            },
            "type": "scatterternary"
           }
          ],
          "surface": [
           {
            "colorbar": {
             "outlinewidth": 0,
             "ticks": ""
            },
            "colorscale": [
             [
              0,
              "#0d0887"
             ],
             [
              0.1111111111111111,
              "#46039f"
             ],
             [
              0.2222222222222222,
              "#7201a8"
             ],
             [
              0.3333333333333333,
              "#9c179e"
             ],
             [
              0.4444444444444444,
              "#bd3786"
             ],
             [
              0.5555555555555556,
              "#d8576b"
             ],
             [
              0.6666666666666666,
              "#ed7953"
             ],
             [
              0.7777777777777778,
              "#fb9f3a"
             ],
             [
              0.8888888888888888,
              "#fdca26"
             ],
             [
              1,
              "#f0f921"
             ]
            ],
            "type": "surface"
           }
          ],
          "table": [
           {
            "cells": {
             "fill": {
              "color": "#EBF0F8"
             },
             "line": {
              "color": "white"
             }
            },
            "header": {
             "fill": {
              "color": "#C8D4E3"
             },
             "line": {
              "color": "white"
             }
            },
            "type": "table"
           }
          ]
         },
         "layout": {
          "annotationdefaults": {
           "arrowcolor": "#2a3f5f",
           "arrowhead": 0,
           "arrowwidth": 1
          },
          "autotypenumbers": "strict",
          "coloraxis": {
           "colorbar": {
            "outlinewidth": 0,
            "ticks": ""
           }
          },
          "colorscale": {
           "diverging": [
            [
             0,
             "#8e0152"
            ],
            [
             0.1,
             "#c51b7d"
            ],
            [
             0.2,
             "#de77ae"
            ],
            [
             0.3,
             "#f1b6da"
            ],
            [
             0.4,
             "#fde0ef"
            ],
            [
             0.5,
             "#f7f7f7"
            ],
            [
             0.6,
             "#e6f5d0"
            ],
            [
             0.7,
             "#b8e186"
            ],
            [
             0.8,
             "#7fbc41"
            ],
            [
             0.9,
             "#4d9221"
            ],
            [
             1,
             "#276419"
            ]
           ],
           "sequential": [
            [
             0,
             "#0d0887"
            ],
            [
             0.1111111111111111,
             "#46039f"
            ],
            [
             0.2222222222222222,
             "#7201a8"
            ],
            [
             0.3333333333333333,
             "#9c179e"
            ],
            [
             0.4444444444444444,
             "#bd3786"
            ],
            [
             0.5555555555555556,
             "#d8576b"
            ],
            [
             0.6666666666666666,
             "#ed7953"
            ],
            [
             0.7777777777777778,
             "#fb9f3a"
            ],
            [
             0.8888888888888888,
             "#fdca26"
            ],
            [
             1,
             "#f0f921"
            ]
           ],
           "sequentialminus": [
            [
             0,
             "#0d0887"
            ],
            [
             0.1111111111111111,
             "#46039f"
            ],
            [
             0.2222222222222222,
             "#7201a8"
            ],
            [
             0.3333333333333333,
             "#9c179e"
            ],
            [
             0.4444444444444444,
             "#bd3786"
            ],
            [
             0.5555555555555556,
             "#d8576b"
            ],
            [
             0.6666666666666666,
             "#ed7953"
            ],
            [
             0.7777777777777778,
             "#fb9f3a"
            ],
            [
             0.8888888888888888,
             "#fdca26"
            ],
            [
             1,
             "#f0f921"
            ]
           ]
          },
          "colorway": [
           "#636efa",
           "#EF553B",
           "#00cc96",
           "#ab63fa",
           "#FFA15A",
           "#19d3f3",
           "#FF6692",
           "#B6E880",
           "#FF97FF",
           "#FECB52"
          ],
          "font": {
           "color": "#2a3f5f"
          },
          "geo": {
           "bgcolor": "white",
           "lakecolor": "white",
           "landcolor": "#E5ECF6",
           "showlakes": true,
           "showland": true,
           "subunitcolor": "white"
          },
          "hoverlabel": {
           "align": "left"
          },
          "hovermode": "closest",
          "mapbox": {
           "style": "light"
          },
          "paper_bgcolor": "white",
          "plot_bgcolor": "#E5ECF6",
          "polar": {
           "angularaxis": {
            "gridcolor": "white",
            "linecolor": "white",
            "ticks": ""
           },
           "bgcolor": "#E5ECF6",
           "radialaxis": {
            "gridcolor": "white",
            "linecolor": "white",
            "ticks": ""
           }
          },
          "scene": {
           "xaxis": {
            "backgroundcolor": "#E5ECF6",
            "gridcolor": "white",
            "gridwidth": 2,
            "linecolor": "white",
            "showbackground": true,
            "ticks": "",
            "zerolinecolor": "white"
           },
           "yaxis": {
            "backgroundcolor": "#E5ECF6",
            "gridcolor": "white",
            "gridwidth": 2,
            "linecolor": "white",
            "showbackground": true,
            "ticks": "",
            "zerolinecolor": "white"
           },
           "zaxis": {
            "backgroundcolor": "#E5ECF6",
            "gridcolor": "white",
            "gridwidth": 2,
            "linecolor": "white",
            "showbackground": true,
            "ticks": "",
            "zerolinecolor": "white"
           }
          },
          "shapedefaults": {
           "line": {
            "color": "#2a3f5f"
           }
          },
          "ternary": {
           "aaxis": {
            "gridcolor": "white",
            "linecolor": "white",
            "ticks": ""
           },
           "baxis": {
            "gridcolor": "white",
            "linecolor": "white",
            "ticks": ""
           },
           "bgcolor": "#E5ECF6",
           "caxis": {
            "gridcolor": "white",
            "linecolor": "white",
            "ticks": ""
           }
          },
          "title": {
           "x": 0.05
          },
          "xaxis": {
           "automargin": true,
           "gridcolor": "white",
           "linecolor": "white",
           "ticks": "",
           "title": {
            "standoff": 15
           },
           "zerolinecolor": "white",
           "zerolinewidth": 2
          },
          "yaxis": {
           "automargin": true,
           "gridcolor": "white",
           "linecolor": "white",
           "ticks": "",
           "title": {
            "standoff": 15
           },
           "zerolinecolor": "white",
           "zerolinewidth": 2
          }
         }
        },
        "width": 1200
       }
      }
     },
     "metadata": {},
     "output_type": "display_data"
    }
   ],
   "source": [
    "draw_paths(BACKGROUND_TRACE, [latent_path, straight_path])"
   ]
  },
  {
   "cell_type": "code",
   "execution_count": 47,
   "metadata": {},
   "outputs": [
    {
     "data": {
      "image/png": "[encoded data removed]",
      "text/plain": [
       "<Figure size 1350x200 with 9 Axes>"
      ]
     },
     "metadata": {},
     "output_type": "display_data"
    }
   ],
   "source": [
    "show_path_in_ambient(latent_path, 9)"
   ]
  },
  {
   "cell_type": "code",
   "execution_count": 48,
   "metadata": {},
   "outputs": [
    {
     "data": {
      "image/png": "[encoded data removed]",
      "text/plain": [
       "<Figure size 1350x200 with 9 Axes>"
      ]
     },
     "metadata": {},
     "output_type": "display_data"
    }
   ],
   "source": [
    "show_path_in_ambient(straight_path, 9)"
   ]
  },
  {
   "cell_type": "code",
   "execution_count": null,
   "metadata": {},
   "outputs": [],
   "source": []
  }
 ],
 "metadata": {
  "accelerator": "GPU",
  "colab": {
   "gpuType": "T4",
   "provenance": []
  },
  "kernelspec": {
   "display_name": "Python 3",
   "name": "python3"
  },
  "language_info": {
   "codemirror_mode": {
    "name": "ipython",
    "version": 3
   },
   "file_extension": ".py",
   "mimetype": "text/x-python",
   "name": "python",
   "nbconvert_exporter": "python",
   "pygments_lexer": "ipython3",
   "version": "3.9.16"
  }
 },
 "nbformat": 4,
 "nbformat_minor": 0
}
