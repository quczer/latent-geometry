{
 "cells": [
  {
   "cell_type": "code",
   "execution_count": 1,
   "metadata": {},
   "outputs": [],
   "source": [
    "%load_ext autoreload\n",
    "%autoreload 2"
   ]
  },
  {
   "cell_type": "code",
   "execution_count": 2,
   "metadata": {},
   "outputs": [],
   "source": [
    "import numpy as np\n",
    "import pandas as pd\n",
    "import plotly.graph_objects as go\n",
    "import plotly.express as px\n",
    "import matplotlib.pyplot as plt\n",
    "\n",
    "import torch\n",
    "\n",
    "# need to import classes in order for torch.load to work\n",
    "from latent_geometry.model.mnist_vae import (\n",
    "    load_decoder,\n",
    "    load_encoder,\n",
    "    EncoderVAE,\n",
    "    DecoderVAE,\n",
    ")\n",
    "from latent_geometry.mapping import TorchModelMapping, BaseTorchModelMapping\n",
    "from latent_geometry.visual.plotly import (\n",
    "    create_topology_fig,\n",
    ")\n",
    "from latent_geometry.manifold import LatentManifold\n",
    "from latent_geometry.metric import EuclideanMetric\n",
    "from latent_geometry.path import ManifoldPath\n",
    "from latent_geometry.data import load_mnist_dataset\n",
    "import os"
   ]
  },
  {
   "cell_type": "code",
   "execution_count": 3,
   "metadata": {},
   "outputs": [],
   "source": [
    "raise Exception(\"double check that we wont use already taken gpu ($ nvidia-smi)\")\n",
    "os.environ[\"CUDA_VISIBLE_DEVICES\"] = \"2\""
   ]
  },
  {
   "cell_type": "code",
   "execution_count": 4,
   "metadata": {},
   "outputs": [
    {
     "name": "stdout",
     "output_type": "stream",
     "text": [
      "torch.Size([1, 32, 32]) 7\n"
     ]
    }
   ],
   "source": [
    "dataset = load_mnist_dataset(split=\"test\")\n",
    "img, label = dataset[0]\n",
    "print(img.shape, label)"
   ]
  },
  {
   "cell_type": "code",
   "execution_count": 5,
   "metadata": {},
   "outputs": [
    {
     "data": {
      "text/plain": [
       "torch.Size([1, 1, 32, 32])"
      ]
     },
     "execution_count": 5,
     "metadata": {},
     "output_type": "execute_result"
    }
   ],
   "source": [
    "# DEVICE = torch.device(\"cuda\" if torch.cuda.is_available() else \"cpu\")\n",
    "# DEVICE = torch.device(\"cpu\")\n",
    "DEVICE = torch.device(\"cuda\")\n",
    "\n",
    "ENCODER = load_encoder(DEVICE)\n",
    "DECODER = load_decoder(DEVICE)\n",
    "\n",
    "z, mu, log_var = ENCODER(dataset[0][0].to(DEVICE)[None, :])\n",
    "reconstruction = DECODER(z)\n",
    "reconstruction.shape"
   ]
  },
  {
   "cell_type": "code",
   "execution_count": 6,
   "metadata": {},
   "outputs": [],
   "source": [
    "SOLVER_TOL = 0.1\n",
    "N_MESH_NODES = 100"
   ]
  },
  {
   "cell_type": "code",
   "execution_count": 7,
   "metadata": {},
   "outputs": [],
   "source": [
    "ambient_metric = EuclideanMetric(1024)\n",
    "slow_latent_mapping = BaseTorchModelMapping(DECODER, (2,), (1, 32, 32))\n",
    "fast_latent_mapping = TorchModelMapping(DECODER, (2,), (1, 32, 32), batch_size=None)\n",
    "\n",
    "slow_manifold_mnist = LatentManifold(\n",
    "    slow_latent_mapping,\n",
    "    ambient_metric,\n",
    "    solver_tol=SOLVER_TOL,\n",
    "    bvp_n_mesh_nodes=N_MESH_NODES,\n",
    ")\n",
    "fast_manifold_mnist = LatentManifold(\n",
    "    fast_latent_mapping,\n",
    "    ambient_metric,\n",
    "    solver_tol=SOLVER_TOL,\n",
    "    bvp_n_mesh_nodes=N_MESH_NODES,\n",
    ")"
   ]
  },
  {
   "cell_type": "code",
   "execution_count": 8,
   "metadata": {},
   "outputs": [],
   "source": [
    "def create_straight_path(\n",
    "    from_: np.ndarray, to_: np.ndarray, manifold: LatentManifold\n",
    ") -> ManifoldPath:\n",
    "    def x_fun(t: float) -> np.ndarray:\n",
    "        return from_ + (to_ - from_) * t\n",
    "\n",
    "    def v_fun(t: float) -> np.ndarray:\n",
    "        return from_ - to_\n",
    "\n",
    "    return ManifoldPath(\n",
    "        x_fun, v_fun, manifold.metric, manifold._euclidean_latent_metric\n",
    "    )\n",
    "\n",
    "\n",
    "def create_latent_path(\n",
    "    from_: np.ndarray, theta: float, length: float, manifold: LatentManifold\n",
    ") -> ManifoldPath:\n",
    "    return manifold.geodesic(from_, np.array([np.cos(theta), np.sin(theta)]), length)\n",
    "\n",
    "\n",
    "def create_geodesic_path(\n",
    "    from_: np.ndarray, to_: np.ndarray, manifold: LatentManifold\n",
    ") -> ManifoldPath:\n",
    "    return manifold.shortest_path(from_, to_)"
   ]
  },
  {
   "cell_type": "code",
   "execution_count": 9,
   "metadata": {},
   "outputs": [],
   "source": [
    "START = np.array([0, 0.5])"
   ]
  },
  {
   "cell_type": "code",
   "execution_count": 10,
   "metadata": {},
   "outputs": [],
   "source": [
    "slow_latent_path = create_latent_path(START, np.pi * 0.9, 10.0, slow_manifold_mnist)"
   ]
  },
  {
   "cell_type": "code",
   "execution_count": 11,
   "metadata": {},
   "outputs": [],
   "source": [
    "fast_latent_path = create_latent_path(START, np.pi * 0.9, 10.0, fast_manifold_mnist)"
   ]
  },
  {
   "cell_type": "code",
   "execution_count": 12,
   "metadata": {},
   "outputs": [],
   "source": [
    "# straight_path = create_straight_path(\n",
    "#     fast_latent_path(0), fast_latent_path(1), fast_manifold_mnist\n",
    "# )"
   ]
  },
  {
   "cell_type": "code",
   "execution_count": 13,
   "metadata": {},
   "outputs": [],
   "source": [
    "# 8m 30s -> 2m 30s\n",
    "geo1 = create_geodesic_path(\n",
    "    slow_latent_path(0), slow_latent_path(1), slow_manifold_mnist\n",
    ")"
   ]
  },
  {
   "cell_type": "code",
   "execution_count": 14,
   "metadata": {},
   "outputs": [],
   "source": [
    "geo2 = create_geodesic_path(\n",
    "    fast_latent_path(0), fast_latent_path(1), fast_manifold_mnist\n",
    ")"
   ]
  },
  {
   "cell_type": "markdown",
   "metadata": {},
   "source": [
    "# 8m 30s -> 2m 30s ----> 0.6s <3"
   ]
  },
  {
   "cell_type": "code",
   "execution_count": 15,
   "metadata": {},
   "outputs": [],
   "source": [
    "import cProfile\n",
    "import pstats\n",
    "\n",
    "with cProfile.Profile() as pr:\n",
    "    # ... do something ...\n",
    "    create_geodesic_path(fast_latent_path(0), fast_latent_path(1), fast_manifold_mnist)"
   ]
  },
  {
   "cell_type": "code",
   "execution_count": 18,
   "metadata": {},
   "outputs": [
    {
     "name": "stdout",
     "output_type": "stream",
     "text": [
      "         244606 function calls (236350 primitive calls) in 0.580 seconds\n",
      "\n",
      "   Ordered by: internal time\n",
      "   List reduced from 450 to 10 due to restriction <10>\n",
      "\n",
      "   ncalls  tottime  percall  cumtime  percall filename:lineno(function)\n",
      "      504    0.267    0.001    0.267    0.001 {built-in method torch.conv_transpose2d}\n",
      "      126    0.047    0.000    0.082    0.001 {built-in method torch._C._nn.linear}\n",
      "      378    0.026    0.000    0.026    0.000 {built-in method torch.relu}\n",
      "      126    0.013    0.000    0.013    0.000 {method 'cpu' of 'torch._C._TensorBase' objects}\n",
      "      126    0.013    0.000    0.546    0.004 /home/quczer/repos/latent-geometry/src/latent_geometry/utils.py:31(__wrapper)\n",
      "      321    0.012    0.000    0.012    0.000 {built-in method numpy.core._multiarray_umath.c_einsum}\n",
      "      126    0.011    0.000    0.011    0.000 {built-in method torch.sigmoid}\n",
      "       63    0.010    0.000    0.010    0.000 {built-in method torch.mm}\n",
      "       63    0.010    0.000    0.010    0.000 /home/quczer/anaconda3/envs/latent-geometry/lib/python3.9/site-packages/numpy/linalg/linalg.py:492(inv)\n",
      "      252    0.007    0.000    0.007    0.000 {method 'reshape' of 'torch._C._TensorBase' objects}\n",
      "\n",
      "\n"
     ]
    },
    {
     "data": {
      "text/plain": [
       "<pstats.Stats at 0x7fbe2d918070>"
      ]
     },
     "execution_count": 18,
     "metadata": {},
     "output_type": "execute_result"
    }
   ],
   "source": [
    "pstats.Stats(pr).sort_stats(\"tottime\").print_stats(10)"
   ]
  },
  {
   "cell_type": "code",
   "execution_count": null,
   "metadata": {},
   "outputs": [],
   "source": []
  }
 ],
 "metadata": {
  "kernelspec": {
   "display_name": "latent-geometry",
   "language": "python",
   "name": "python3"
  },
  "language_info": {
   "codemirror_mode": {
    "name": "ipython",
    "version": 3
   },
   "file_extension": ".py",
   "mimetype": "text/x-python",
   "name": "python",
   "nbconvert_exporter": "python",
   "pygments_lexer": "ipython3",
   "version": "3.9.17"
  },
  "orig_nbformat": 4
 },
 "nbformat": 4,
 "nbformat_minor": 2
}
