{
 "cells": [
  {
   "cell_type": "code",
   "execution_count": 20,
   "metadata": {},
   "outputs": [
    {
     "name": "stdout",
     "output_type": "stream",
     "text": [
      "The autoreload extension is already loaded. To reload it, use:\n",
      "  %reload_ext autoreload\n"
     ]
    }
   ],
   "source": [
    "%load_ext autoreload\n",
    "%autoreload 2"
   ]
  },
  {
   "cell_type": "code",
   "execution_count": 21,
   "metadata": {},
   "outputs": [],
   "source": [
    "import numpy as np\n",
    "import pandas as pd\n",
    "import plotly.graph_objects as go\n",
    "import plotly.express as px\n",
    "import matplotlib.pyplot as plt\n",
    "\n",
    "import torch\n",
    "\n",
    "# need to import classes in order for torch.load to work\n",
    "from latent_geometry.model.mnist_vae import load_decoder, load_encoder, EncoderVAE, DecoderVAE \n",
    "from latent_geometry.mapping import TorchModelMapping\n",
    "from latent_geometry.visual.plotly import (\n",
    "    create_topology_fig,\n",
    "    create_topology_fig_geodesics,\n",
    ")\n",
    "from latent_geometry.manifold import LatentManifold\n",
    "from latent_geometry.metric import EuclideanMetric\n",
    "from latent_geometry.path import ManifoldPath\n",
    "from latent_geometry.data import load_mnist_dataset\n",
    "import os"
   ]
  },
  {
   "cell_type": "code",
   "execution_count": 51,
   "metadata": {},
   "outputs": [
    {
     "ename": "Exception",
     "evalue": "double check that we wont use already taken gpu ($ nvidia-smi)",
     "output_type": "error",
     "traceback": [
      "\u001b[0;31m---------------------------------------------------------------------------\u001b[0m",
      "\u001b[0;31mException\u001b[0m                                 Traceback (most recent call last)",
      "Cell \u001b[0;32mIn[51], line 1\u001b[0m\n\u001b[0;32m----> 1\u001b[0m \u001b[39mraise\u001b[39;00m \u001b[39mException\u001b[39;00m(\u001b[39m\"\u001b[39m\u001b[39mdouble check that we wont use already taken gpu ($ nvidia-smi)\u001b[39m\u001b[39m\"\u001b[39m)\n\u001b[1;32m      2\u001b[0m os\u001b[39m.\u001b[39menviron[\u001b[39m\"\u001b[39m\u001b[39mCUDA_VISIBLE_DEVICES\u001b[39m\u001b[39m\"\u001b[39m] \u001b[39m=\u001b[39m \u001b[39m\"\u001b[39m\u001b[39m2\u001b[39m\u001b[39m\"\u001b[39m\n",
      "\u001b[0;31mException\u001b[0m: double check that we wont use already taken gpu ($ nvidia-smi)"
     ]
    }
   ],
   "source": [
    "raise Exception(\"double check that we wont use already taken gpu ($ nvidia-smi)\")\n",
    "os.environ[\"CUDA_VISIBLE_DEVICES\"] = \"2\""
   ]
  },
  {
   "cell_type": "code",
   "execution_count": 23,
   "metadata": {},
   "outputs": [
    {
     "name": "stdout",
     "output_type": "stream",
     "text": [
      "torch.Size([1, 32, 32]) 7\n"
     ]
    }
   ],
   "source": [
    "dataset = load_mnist_dataset(split=\"test\")\n",
    "img, label = dataset[0]\n",
    "print(img.shape, label)"
   ]
  },
  {
   "cell_type": "code",
   "execution_count": 53,
   "metadata": {},
   "outputs": [
    {
     "data": {
      "text/plain": [
       "torch.Size([1, 1, 32, 32])"
      ]
     },
     "execution_count": 53,
     "metadata": {},
     "output_type": "execute_result"
    }
   ],
   "source": [
    "# DEVICE = torch.device(\"cuda\" if torch.cuda.is_available() else \"cpu\")\n",
    "# DEVICE = torch.device(\"cpu\")\n",
    "DEVICE = torch.device(\"cuda\")\n",
    "\n",
    "ENCODER = load_encoder(DEVICE)\n",
    "DECODER = load_decoder(DEVICE)\n",
    "\n",
    "z, mu, log_var = ENCODER(dataset[0][0].to(DEVICE)[None, :])\n",
    "reconstruction = DECODER(z)\n",
    "reconstruction.shape"
   ]
  },
  {
   "cell_type": "code",
   "execution_count": 54,
   "metadata": {},
   "outputs": [],
   "source": [
    "NUM_POINTS = 7000\n",
    "WIDTH = 4\n",
    "Z_SCALE = 5.0\n",
    "SPLINE_POLY_DEG = 3\n",
    "SIN_MULT = 1.5\n",
    "SOLVER_TOL = 0.1"
   ]
  },
  {
   "cell_type": "code",
   "execution_count": 55,
   "metadata": {},
   "outputs": [],
   "source": [
    "ambient_metric = EuclideanMetric(1024)\n",
    "latent_mapping = TorchModelMapping(DECODER, (2,), (1, 1, 32, 32))\n",
    "manifold_mnist = LatentManifold(latent_mapping, ambient_metric, solver_tol=SOLVER_TOL)"
   ]
  },
  {
   "cell_type": "code",
   "execution_count": 56,
   "metadata": {},
   "outputs": [],
   "source": [
    "def create_straight_path(\n",
    "    from_: np.ndarray, to_: np.ndarray, manifold: LatentManifold\n",
    ") -> ManifoldPath:\n",
    "    def x_fun(t: float) -> np.ndarray:\n",
    "        return from_ + (to_ - from_) * t\n",
    "\n",
    "    def v_fun(t: float) -> np.ndarray:\n",
    "        return from_ - to_\n",
    "\n",
    "    return ManifoldPath(\n",
    "        x_fun, v_fun, manifold.metric, manifold._euclidean_latent_metric\n",
    "    )\n",
    "\n",
    "\n",
    "def create_latent_path(from_: np.ndarray, theta: float, length: float) -> ManifoldPath:\n",
    "    return manifold_mnist.path_given_direction(\n",
    "        from_, np.array([np.cos(theta), np.sin(theta)]), length\n",
    "    )"
   ]
  },
  {
   "cell_type": "code",
   "execution_count": 57,
   "metadata": {},
   "outputs": [],
   "source": [
    "def show_path_in_ambient(path: ManifoldPath, n_points: int = 9):\n",
    "    fig, axes = plt.subplots(1, n_points, figsize=(1.5 * n_points, 2))\n",
    "    for i in range(n_points):\n",
    "        t = i / (n_points - 1)\n",
    "        latent_dist = path.manifold_length(0, t)\n",
    "        euclidean_dist = path.euclidean_length(0, t)\n",
    "        image = latent_mapping(path(t)).reshape((32, 32))\n",
    "        ax = axes[i]\n",
    "        ax.imshow(image, cmap=\"gray\")\n",
    "        ax.set_title(f\"Euc: {euclidean_dist:.2f}, P-B: {latent_dist: .2f}\", fontsize=8)\n",
    "        ax.set_axis_off()\n",
    "\n",
    "    plt.tight_layout()\n",
    "    plt.show()"
   ]
  },
  {
   "cell_type": "code",
   "execution_count": 58,
   "metadata": {},
   "outputs": [
    {
     "data": {
      "text/plain": [
       "<matplotlib.image.AxesImage at 0x7fe4c02adf40>"
      ]
     },
     "execution_count": 58,
     "metadata": {},
     "output_type": "execute_result"
    },
    {
     "data": {
      "image/png": "[encoded data removed]",
      "text/plain": [
       "<Figure size 640x480 with 1 Axes>"
      ]
     },
     "metadata": {},
     "output_type": "display_data"
    }
   ],
   "source": [
    "START = np.array([0.0, 0.5])\n",
    "plt.imshow(latent_mapping(START).reshape(32, 32))"
   ]
  },
  {
   "cell_type": "code",
   "execution_count": 59,
   "metadata": {},
   "outputs": [],
   "source": [
    "latent_path = create_latent_path(START, np.pi * 0.9, 10.0)\n",
    "straight_path = create_straight_path(latent_path(0), latent_path(1), manifold_mnist)"
   ]
  },
  {
   "cell_type": "code",
   "execution_count": 60,
   "metadata": {},
   "outputs": [
    {
     "data": {
      "image/png": "[encoded data removed]",
      "text/plain": [
       "<Figure size 1350x200 with 9 Axes>"
      ]
     },
     "metadata": {},
     "output_type": "display_data"
    }
   ],
   "source": [
    "show_path_in_ambient(latent_path, n_points=9)"
   ]
  },
  {
   "cell_type": "code",
   "execution_count": null,
   "metadata": {},
   "outputs": [],
   "source": []
  }
 ],
 "metadata": {
  "kernelspec": {
   "display_name": "latent-geometry",
   "language": "python",
   "name": "python3"
  },
  "language_info": {
   "codemirror_mode": {
    "name": "ipython",
    "version": 3
   },
   "file_extension": ".py",
   "mimetype": "text/x-python",
   "name": "python",
   "nbconvert_exporter": "python",
   "pygments_lexer": "ipython3",
   "version": "3.9.17"
  },
  "orig_nbformat": 4
 },
 "nbformat": 4,
 "nbformat_minor": 2
}
