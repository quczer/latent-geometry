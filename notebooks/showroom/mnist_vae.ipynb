{
 "cells": [
  {
   "cell_type": "code",
   "execution_count": 2,
   "metadata": {},
   "outputs": [],
   "source": [
    "%load_ext autoreload\n",
    "%autoreload 2"
   ]
  },
  {
   "cell_type": "code",
   "execution_count": 6,
   "metadata": {},
   "outputs": [],
   "source": [
    "import numpy as np\n",
    "import pandas as pd\n",
    "import plotly.graph_objects as go\n",
    "import plotly.express as px\n",
    "import matplotlib.pyplot as plt\n",
    "\n",
    "import torch\n",
    "import torch.nn as nn\n",
    "import torch.optim as optim\n",
    "import torchvision\n",
    "import torchvision.transforms as transforms\n",
    "from torch.utils.data import DataLoader\n",
    "\n",
    "\n",
    "from latent_geometry.model.mnist_vae import load_decoder, load_encoder\n",
    "from latent_geometry.mapping import TorchModelMapping\n",
    "from latent_geometry.visual.plotly import (\n",
    "    create_topology_fig,\n",
    "    create_topology_fig_geodesics,\n",
    ")\n",
    "from latent_geometry.manifold import LatentManifold\n",
    "from latent_geometry.metric import EuclideanMetric\n",
    "from latent_geometry.path import ManifoldPath\n",
    "from latent_geometry.data import load_mnist_dataset"
   ]
  },
  {
   "cell_type": "code",
   "execution_count": 5,
   "metadata": {},
   "outputs": [
    {
     "name": "stdout",
     "output_type": "stream",
     "text": [
      "torch.Size([1, 32, 32]) 7\n"
     ]
    }
   ],
   "source": [
    "dataset = load_mnist_dataset(split=\"test\")\n",
    "img, label = dataset[0]\n",
    "print(img.shape, label)"
   ]
  },
  {
   "cell_type": "code",
   "execution_count": 7,
   "metadata": {},
   "outputs": [
    {
     "data": {
      "text/plain": [
       "torch.Size([1, 1, 32, 32])"
      ]
     },
     "execution_count": 7,
     "metadata": {},
     "output_type": "execute_result"
    }
   ],
   "source": [
    "DEVICE = torch.device(\"cuda\" if torch.cuda.is_available() else \"cpu\")\n",
    "\n",
    "ENCODER = load_encoder()\n",
    "DECODER = load_decoder()\n",
    "\n",
    "z, mu, log_var = ENCODER(dataset[0][0].to(DEVICE)[None, :])\n",
    "reconstruction = DECODER(z)\n",
    "reconstruction.shape"
   ]
  },
  {
   "cell_type": "code",
   "execution_count": 9,
   "metadata": {},
   "outputs": [
    {
     "data": {
      "text/plain": [
       "False"
      ]
     },
     "execution_count": 9,
     "metadata": {},
     "output_type": "execute_result"
    }
   ],
   "source": [
    "torch.cuda.is_available()"
   ]
  },
  {
   "cell_type": "code",
   "execution_count": 29,
   "metadata": {},
   "outputs": [],
   "source": [
    "NUM_POINTS = 7000\n",
    "WIDTH = 4\n",
    "Z_SCALE = 5.0\n",
    "SPLINE_POLY_DEG = 3\n",
    "SIN_MULT = 1.5\n",
    "SOLVER_TOL = 0.1"
   ]
  },
  {
   "cell_type": "code",
   "execution_count": 30,
   "metadata": {},
   "outputs": [],
   "source": [
    "ambient_metric = EuclideanMetric(1024)\n",
    "latent_mapping = TorchModelMapping(DECODER, (2,), (1, 1, 32, 32))\n",
    "manifold_mnist = LatentManifold(latent_mapping, ambient_metric, solver_tol=SOLVER_TOL)"
   ]
  },
  {
   "cell_type": "code",
   "execution_count": 31,
   "metadata": {},
   "outputs": [],
   "source": [
    "def create_straight_path(\n",
    "    from_: np.ndarray, to_: np.ndarray, manifold: LatentManifold\n",
    ") -> ManifoldPath:\n",
    "    def x_fun(t: float) -> np.ndarray:\n",
    "        return from_ + (to_ - from_) * t\n",
    "\n",
    "    def v_fun(t: float) -> np.ndarray:\n",
    "        return from_ - to_\n",
    "\n",
    "    return ManifoldPath(\n",
    "        x_fun, v_fun, manifold.metric, manifold._euclidean_latent_metric\n",
    "    )\n",
    "\n",
    "\n",
    "def create_latent_path(from_: np.ndarray, theta: float, length: float) -> ManifoldPath:\n",
    "    return manifold_mnist.path_given_direction(\n",
    "        from_, np.array([np.cos(theta), np.sin(theta)]), length\n",
    "    )"
   ]
  },
  {
   "cell_type": "code",
   "execution_count": 35,
   "metadata": {},
   "outputs": [],
   "source": [
    "def show_path_in_ambient(path: ManifoldPath, n_points: int = 9):\n",
    "    fig, axes = plt.subplots(1, n_points, figsize=(1.5 * n_points, 2))\n",
    "    for i in range(n_points):\n",
    "        t = i / (n_points - 1)\n",
    "        # latent_dist = path.manifold_length(0, t)\n",
    "        # euclidean_dist = path.euclidean_length(0, t)\n",
    "        image = latent_mapping(path(t)).reshape((32, 32))\n",
    "        ax = axes[i]\n",
    "        ax.imshow(image, cmap=\"gray\")\n",
    "        # ax.set_title(f\"Euc: {euclidean_dist:.2f}, P-B: {latent_dist: .2f}\", fontsize=8)\n",
    "        ax.set_axis_off()\n",
    "\n",
    "    plt.tight_layout()\n",
    "    plt.show()"
   ]
  },
  {
   "cell_type": "code",
   "execution_count": 32,
   "metadata": {},
   "outputs": [
    {
     "data": {
      "text/plain": [
       "<matplotlib.image.AxesImage at 0x7efe9d9ee6a0>"
      ]
     },
     "execution_count": 32,
     "metadata": {},
     "output_type": "execute_result"
    },
    {
     "data": {
      "image/png": "[encoded data removed]",
      "text/plain": [
       "<Figure size 640x480 with 1 Axes>"
      ]
     },
     "metadata": {},
     "output_type": "display_data"
    }
   ],
   "source": [
    "START = np.array([0.0, 0.5])\n",
    "plt.imshow(latent_mapping(START).reshape(32, 32))"
   ]
  },
  {
   "cell_type": "code",
   "execution_count": 33,
   "metadata": {},
   "outputs": [],
   "source": [
    "latent_path = create_latent_path(START, np.pi * 0.9, 10.0)\n",
    "straight_path = create_straight_path(latent_path(0), latent_path(1), manifold_mnist)"
   ]
  },
  {
   "cell_type": "code",
   "execution_count": 37,
   "metadata": {},
   "outputs": [
    {
     "ename": "TypeError",
     "evalue": "'numpy.float64' object is not callable",
     "output_type": "error",
     "traceback": [
      "\u001b[0;31m---------------------------------------------------------------------------\u001b[0m",
      "\u001b[0;31mTypeError\u001b[0m                                 Traceback (most recent call last)",
      "Cell \u001b[0;32mIn[37], line 1\u001b[0m\n\u001b[0;32m----> 1\u001b[0m show_path_in_ambient(latent_path, n_points\u001b[39m=\u001b[39;49m\u001b[39m4\u001b[39;49m)\n",
      "Cell \u001b[0;32mIn[35], line 5\u001b[0m, in \u001b[0;36mshow_path_in_ambient\u001b[0;34m(path, n_points)\u001b[0m\n\u001b[1;32m      3\u001b[0m \u001b[39mfor\u001b[39;00m i \u001b[39min\u001b[39;00m \u001b[39mrange\u001b[39m(n_points):\n\u001b[1;32m      4\u001b[0m     t \u001b[39m=\u001b[39m i \u001b[39m/\u001b[39m (n_points \u001b[39m-\u001b[39m \u001b[39m1\u001b[39m)\n\u001b[0;32m----> 5\u001b[0m     latent_dist \u001b[39m=\u001b[39m path\u001b[39m.\u001b[39;49mmanifold_length(\u001b[39m0\u001b[39;49m, t)\n\u001b[1;32m      6\u001b[0m     euclidean_dist \u001b[39m=\u001b[39m path\u001b[39m.\u001b[39meuclidean_length(\u001b[39m0\u001b[39m, t)\n\u001b[1;32m      7\u001b[0m     image \u001b[39m=\u001b[39m latent_mapping(path(t))\u001b[39m.\u001b[39mreshape((\u001b[39m32\u001b[39m, \u001b[39m32\u001b[39m))\n",
      "\u001b[0;31mTypeError\u001b[0m: 'numpy.float64' object is not callable"
     ]
    },
    {
     "data": {
      "image/png": "[encoded data removed]",
      "text/plain": [
       "<Figure size 600x200 with 4 Axes>"
      ]
     },
     "metadata": {},
     "output_type": "display_data"
    }
   ],
   "source": [
    "show_path_in_ambient(latent_path, n_points=4)"
   ]
  },
  {
   "cell_type": "code",
   "execution_count": null,
   "metadata": {},
   "outputs": [],
   "source": []
  }
 ],
 "metadata": {
  "kernelspec": {
   "display_name": "latent-geometry",
   "language": "python",
   "name": "python3"
  },
  "language_info": {
   "codemirror_mode": {
    "name": "ipython",
    "version": 3
   },
   "file_extension": ".py",
   "mimetype": "text/x-python",
   "name": "python",
   "nbconvert_exporter": "python",
   "pygments_lexer": "ipython3",
   "version": "3.9.16"
  },
  "orig_nbformat": 4
 },
 "nbformat": 4,
 "nbformat_minor": 2
}
