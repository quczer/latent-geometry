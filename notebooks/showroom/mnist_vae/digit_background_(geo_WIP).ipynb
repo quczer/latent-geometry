{
    "cells": [
        {
            "cell_type": "code",
            "execution_count": null,
            "metadata": {},
            "outputs": [],
            "source": [
                "%load_ext autoreload\n",
                "%autoreload 2"
            ]
        },
        {
            "cell_type": "code",
            "execution_count": null,
            "metadata": {},
            "outputs": [],
            "source": [
                "import numpy as np\n",
                "import pandas as pd\n",
                "import plotly.graph_objects as go\n",
                "import plotly.express as px\n",
                "import matplotlib.pyplot as plt\n",
                "\n",
                "import torch\n",
                "\n",
                "from latent_geometry.model.mnist_vae import (\n",
                "    load_decoder,\n",
                "    load_encoder,\n",
                ")\n",
                "from viz.plotly import (\n",
                "    plot_traces,\n",
                "    draw_spiders,\n",
                "    create_digit_background,\n",
                "    create_dot_background,\n",
                "    _path_to_trace,\n",
                ")\n",
                "from latent_geometry.mapping import TorchModelMapping, Mapping\n",
                "from latent_geometry.manifold import LatentManifold\n",
                "from latent_geometry.metric import EuclideanMetric, EuclideanPullbackMetric\n",
                "from latent_geometry.path import ManifoldPath\n",
                "from latent_geometry.data import load_mnist_dataset\n",
                "from latent_geometry.utils import project, lift\n",
                "import os\n",
                "\n",
                "from typing import Union, Callable, Optional\n",
                "\n",
                "from scipy.interpolate import splev, splprep\n",
                "from functools import partial"
            ]
        },
        {
            "cell_type": "code",
            "execution_count": null,
            "metadata": {},
            "outputs": [],
            "source": [
                "# raise Exception(\"double check that we wont use already taken gpu ($ nvidia-smi)\")\n",
                "# os.environ[\"CUDA_VISIBLE_DEVICES\"] = \"3\""
            ]
        },
        {
            "cell_type": "code",
            "execution_count": null,
            "metadata": {},
            "outputs": [],
            "source": [
                "dataset = load_mnist_dataset(split=\"train\")\n",
                "images = torch.concat([img for img, _ in dataset])\n",
                "labels = torch.tensor([label for _, label in dataset])\n",
                "images.shape, labels.shape"
            ]
        },
        {
            "cell_type": "code",
            "execution_count": null,
            "metadata": {},
            "outputs": [],
            "source": [
                "# DEVICE = torch.device(\"cuda\" if torch.cuda.is_available() else \"cpu\")\n",
                "DEVICE = torch.device(\"cuda\")\n",
                "model_name, latent_dim = \"beta_10\", 2\n",
                "\n",
                "# DEVICE = torch.device(\"cuda\")\n",
                "ENCODER = load_encoder(DEVICE, f\"{model_name}_encoder.pt\", latent_dim=latent_dim)\n",
                "DECODER = load_decoder(DEVICE, f\"{model_name}_decoder.pt\", latent_dim=latent_dim)\n",
                "\n",
                "z = ENCODER.sample(dataset[0][0].to(DEVICE)[None, :])\n",
                "reconstruction = DECODER.decode(z)\n",
                "reconstruction.shape"
            ]
        },
        {
            "cell_type": "code",
            "execution_count": null,
            "metadata": {},
            "outputs": [],
            "source": [
                "mus, sts = ENCODER(images.unsqueeze(1).to(DEVICE))\n",
                "mus.shape, sts.shape"
            ]
        },
        {
            "cell_type": "code",
            "execution_count": null,
            "metadata": {},
            "outputs": [],
            "source": [
                "SOLVER_TOL = 0.001\n",
                "ambient_metric = EuclideanMetric()\n",
                "latent_mapping = TorchModelMapping(\n",
                "    DECODER, (2,), (1, 32, 32), batch_size=10_000, call_fn=DECODER.decode\n",
                ")\n",
                "manifold_mnist = LatentManifold(\n",
                "    latent_mapping, ambient_metric, solver_tol=SOLVER_TOL, bvp_n_mesh_nodes=2_000\n",
                ")"
            ]
        },
        {
            "cell_type": "code",
            "execution_count": null,
            "metadata": {},
            "outputs": [],
            "source": [
                "mus, sts = ENCODER(images.unsqueeze(1).to(DEVICE))\n",
                "mus.shape, sts.shape"
            ]
        },
        {
            "cell_type": "code",
            "execution_count": null,
            "metadata": {},
            "outputs": [],
            "source": [
                "def create_straight_path(from_: np.ndarray, to_: np.ndarray) -> ManifoldPath:\n",
                "    def x_fun(t: float) -> np.ndarray:\n",
                "        return from_ + (to_ - from_) * t\n",
                "\n",
                "    return ManifoldPath(x_fun, manifold_mnist.metric)\n",
                "\n",
                "\n",
                "def create_latent_path(from_: np.ndarray, theta: float, length: float) -> ManifoldPath:\n",
                "    return manifold_mnist.geodesic(\n",
                "        from_, np.array([np.cos(theta), np.sin(theta)]), length\n",
                "    )\n",
                "\n",
                "\n",
                "def create_geodesic_path(from_: np.ndarray, to_: np.ndarray) -> ManifoldPath:\n",
                "    return manifold_mnist.shortest_path(from_, to_)"
            ]
        },
        {
            "cell_type": "code",
            "execution_count": null,
            "metadata": {},
            "outputs": [],
            "source": [
                "def show_path_in_ambient(path: ManifoldPath, n_points: int = 9):\n",
                "    fig, axes = plt.subplots(1, n_points, figsize=(1.5 * n_points, 2))\n",
                "    for i in range(n_points):\n",
                "        t = i / (n_points - 1)\n",
                "        latent_dist = path.manifold_length(0, t)\n",
                "        euclidean_dist = path.euclidean_length(0, t)\n",
                "        ambient_dist = path.ambient_path.euclidean_length(0, t, dt=0.01)\n",
                "\n",
                "        image = project(latent_mapping)(path(t)).reshape((32, 32))\n",
                "        ax = axes[i]\n",
                "        ax.imshow(image, cmap=\"gray\")\n",
                "        ax.set_title(\n",
                "            (\n",
                "                f\"v: Euc: {euclidean_dist:.3f}, P-B: {latent_dist: .3f}\\n\"\n",
                "                # f\"d: Euc: {euclidean_dist_diff:.3f}, P-B: {latent_dist_diff: .3f}\\n\"\n",
                "                f\"ambient dist: {ambient_dist:.3f}\"\n",
                "            ),\n",
                "            fontsize=8,\n",
                "        )\n",
                "        ax.set_axis_off()\n",
                "\n",
                "    plt.tight_layout()\n",
                "    plt.show()"
            ]
        },
        {
            "cell_type": "code",
            "execution_count": null,
            "metadata": {},
            "outputs": [],
            "source": [
                "START = np.array([-1, -1])\n",
                "# img = project(latent_mapping)(START).reshape(32, 32)\n",
                "# fig = px.imshow(img)\n",
                "# fig"
            ]
        },
        {
            "cell_type": "markdown",
            "metadata": {},
            "source": [
                "## figures"
            ]
        },
        {
            "cell_type": "code",
            "execution_count": null,
            "metadata": {},
            "outputs": [],
            "source": [
                "frac = 0.1\n",
                "idx = np.random.choice(a=len(mus), size=int(len(mus) * frac), replace=False)\n",
                "dot_background = create_dot_background(\n",
                "    mus.detach().cpu()[idx], labels.numpy()[idx], opacity=0.2\n",
                ")\n",
                "fig = plot_traces([dot_background])\n",
                "# fig"
            ]
        },
        {
            "cell_type": "code",
            "execution_count": null,
            "metadata": {},
            "outputs": [],
            "source": [
                "latent_path = create_latent_path(START, np.pi * 1 / 4, 10.0)\n",
                "straight_path = create_straight_path(latent_path(0), latent_path(1))\n",
                "latent_path(0), latent_path(1)"
            ]
        },
        {
            "cell_type": "code",
            "execution_count": null,
            "metadata": {},
            "outputs": [],
            "source": [
                "heatmaps = create_digit_background(num=30, opacity=0.5, mapping=latent_mapping)"
            ]
        },
        {
            "cell_type": "code",
            "execution_count": null,
            "metadata": {},
            "outputs": [],
            "source": [
                "fig = plot_traces(heatmaps + [dot_background])\n",
                "# fig"
            ]
        },
        {
            "cell_type": "code",
            "execution_count": null,
            "metadata": {},
            "outputs": [],
            "source": [
                "latent_trace = _path_to_trace(\n",
                "    latent_path, color=\"green\", legend_group=\"geodesic\", show_legend=True\n",
                ")\n",
                "straight_trace = _path_to_trace(\n",
                "    straight_path, color=\"black\", legend_group=\"straight\", show_legend=True\n",
                ")"
            ]
        },
        {
            "cell_type": "code",
            "execution_count": null,
            "metadata": {},
            "outputs": [],
            "source": [
                "fig = plot_traces(heatmaps + [latent_trace, straight_trace])\n",
                "fig"
            ]
        },
        {
            "cell_type": "code",
            "execution_count": null,
            "metadata": {},
            "outputs": [],
            "source": [
                "# geodesic = create_geodesic_path(latent_path(0), latent_path(1))"
            ]
        },
        {
            "cell_type": "code",
            "execution_count": null,
            "metadata": {},
            "outputs": [],
            "source": [
                "def plot_paths(\n",
                "    paths: list[tuple[ManifoldPath, str]],\n",
                "    ts: np.ndarray = np.linspace(0, 1),\n",
                "):\n",
                "    for path, name in paths:\n",
                "        path_pts = lift(path)(ts)\n",
                "        plt.plot(path_pts[:, 0], path_pts[:, 1], label=name)\n",
                "\n",
                "    plt.legend()\n",
                "\n",
                "\n",
                "def plot_accelerations(\n",
                "    paths: list[tuple[ManifoldPath, str]],\n",
                "    scale: float,\n",
                "    num: int = 20,\n",
                "    dt: float = 0.001,\n",
                "):\n",
                "    for path, name in paths:\n",
                "        for t in np.linspace(0, 1 - dt, num=num):\n",
                "            x, x2 = path(t), path(t + dt)\n",
                "            v = (x2 - x) / dt\n",
                "            acc = (\n",
                "                project(path._manifold_metric.acceleration)(position=x, velocity=v)\n",
                "                * scale\n",
                "            )\n",
                "            plt.arrow(x[0], x[1], acc[0], acc[1])"
            ]
        },
        {
            "cell_type": "code",
            "execution_count": null,
            "metadata": {},
            "outputs": [],
            "source": [
                "PATHS = [\n",
                "    (straight_path, \"straight\"),\n",
                "    # (geodesic, \"geodesic\"),\n",
                "    (latent_path, \"latent\"),\n",
                "]"
            ]
        },
        {
            "cell_type": "code",
            "execution_count": null,
            "metadata": {},
            "outputs": [],
            "source": [
                "plt.figure(figsize=(10, 6))\n",
                "plot_paths(PATHS)\n",
                "# plot_accelerations(ALL_PATHS, scale=0.015, num=20, dt=0.001)\n",
                "plt.show()"
            ]
        },
        {
            "cell_type": "code",
            "execution_count": null,
            "metadata": {},
            "outputs": [],
            "source": [
                "# straight_path.ambient_path.euclidean_length(0, 0.1)\n",
                "straight_path.ambient_path.euclidean_length(0, 0.1, 0.001)\n",
                "# straight_path.euclidean_length(0, 1, 0.0001)\n",
                "# straight_path.euclidean_length(0, 1,)"
            ]
        },
        {
            "cell_type": "code",
            "execution_count": null,
            "metadata": {},
            "outputs": [],
            "source": [
                "# pths = [(straight_path, \"straight\")] + SPIDER_PATHS\n",
                "pths = PATHS\n",
                "print([name for _, name in pths])\n",
                "for path, name in pths:\n",
                "    show_path_in_ambient(path, n_points=9)"
            ]
        },
        {
            "cell_type": "code",
            "execution_count": null,
            "metadata": {},
            "outputs": [],
            "source": [
                "fig_px = px.scatter(\n",
                "    x=mus[:, 0].detach().cpu(),\n",
                "    y=mus[:, 1].detach().cpu(),\n",
                "    color=labels.numpy().astype(str),\n",
                "    opacity=0.05,\n",
                ")"
            ]
        },
        {
            "cell_type": "code",
            "execution_count": null,
            "metadata": {},
            "outputs": [],
            "source": [
                "fig_px"
            ]
        },
        {
            "cell_type": "code",
            "execution_count": null,
            "metadata": {},
            "outputs": [],
            "source": []
        }
    ],
    "metadata": {
        "kernelspec": {
            "display_name": "latent-geometry",
            "language": "python",
            "name": "python3"
        },
        "language_info": {
            "codemirror_mode": {
                "name": "ipython",
                "version": 3
            },
            "file_extension": ".py",
            "mimetype": "text/x-python",
            "name": "python",
            "nbconvert_exporter": "python",
            "pygments_lexer": "ipython3",
            "version": "3.9.17"
        },
        "orig_nbformat": 4
    },
    "nbformat": 4,
    "nbformat_minor": 2
}
