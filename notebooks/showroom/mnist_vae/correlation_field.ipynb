{
    "cells": [
        {
            "cell_type": "code",
            "execution_count": 1,
            "metadata": {},
            "outputs": [],
            "source": [
                "%load_ext autoreload\n",
                "%autoreload 2"
            ]
        },
        {
            "cell_type": "code",
            "execution_count": 2,
            "metadata": {},
            "outputs": [],
            "source": [
                "import numpy as np\n",
                "import pandas as pd\n",
                "import plotly.express as px\n",
                "\n",
                "import torch\n",
                "\n",
                "from latent_geometry.model.mnist_vae import (\n",
                "    load_decoder,\n",
                "    load_encoder,\n",
                ")\n",
                "from latent_geometry.mapping import TorchModelMapping\n",
                "from viz.plotly import (\n",
                "    plot_traces,\n",
                "    draw_balls,\n",
                "    create_dot_background,\n",
                "    create_scalar_field,\n",
                ")\n",
                "from latent_geometry.manifold import LatentManifold\n",
                "from latent_geometry.metric import EuclideanMetric\n",
                "from latent_geometry.path import ManifoldPath, Path\n",
                "from latent_geometry.data import load_mnist_dataset\n",
                "from latent_geometry.utils import project, lift\n",
                "from viz.calc import create_circles, create_radials\n",
                "from latent_geometry.config import FIGURES_DIR\n",
                "import os"
            ]
        },
        {
            "cell_type": "markdown",
            "metadata": {},
            "source": [
                "## prep"
            ]
        },
        {
            "cell_type": "code",
            "execution_count": 3,
            "metadata": {},
            "outputs": [],
            "source": [
                "os.environ[\"CUDA_VISIBLE_DEVICES\"] = \"3\""
            ]
        },
        {
            "cell_type": "code",
            "execution_count": 4,
            "metadata": {},
            "outputs": [
                {
                    "data": {
                        "text/plain": [
                            "(torch.Size([60000, 32, 32]), torch.Size([60000]))"
                        ]
                    },
                    "execution_count": 4,
                    "metadata": {},
                    "output_type": "execute_result"
                }
            ],
            "source": [
                "dataset = load_mnist_dataset(split=\"train\")\n",
                "images = torch.concat([img for img, _ in dataset])\n",
                "labels = torch.tensor([label for _, label in dataset])\n",
                "images.shape, labels.shape"
            ]
        },
        {
            "cell_type": "code",
            "execution_count": 23,
            "metadata": {},
            "outputs": [
                {
                    "data": {
                        "text/plain": [
                            "torch.Size([1, 1, 32, 32])"
                        ]
                    },
                    "execution_count": 23,
                    "metadata": {},
                    "output_type": "execute_result"
                }
            ],
            "source": [
                "# DEVICE = torch.device(\"cuda\" if torch.cuda.is_available() else \"cpu\")\n",
                "DEVICE = torch.device(\"cpu\")\n",
                "model_name, latent_dim = \"beta_10\", 2\n",
                "DIR = FIGURES_DIR / \"mnist\" / \"html\" / model_name\n",
                "DIR.mkdir(exist_ok=True)\n",
                "\n",
                "# DEVICE = torch.device(\"cuda\")\n",
                "ENCODER = load_encoder(DEVICE, f\"{model_name}_encoder.pt\", latent_dim=latent_dim)\n",
                "DECODER = load_decoder(DEVICE, f\"{model_name}_decoder.pt\", latent_dim=latent_dim)\n",
                "\n",
                "z = ENCODER.sample(dataset[0][0].to(DEVICE)[None, :])\n",
                "reconstruction = DECODER.decode(z)\n",
                "reconstruction.shape"
            ]
        },
        {
            "cell_type": "code",
            "execution_count": 24,
            "metadata": {},
            "outputs": [],
            "source": [
                "SOLVER_TOL = 0.001\n",
                "ambient_metric = EuclideanMetric()\n",
                "latent_mapping = TorchModelMapping(\n",
                "    DECODER, (2,), (1, 32, 32), batch_size=10_000, call_fn=DECODER.decode\n",
                ")\n",
                "manifold_mnist = LatentManifold(\n",
                "    latent_mapping, ambient_metric, solver_tol=SOLVER_TOL, bvp_n_mesh_nodes=2_000\n",
                ")"
            ]
        },
        {
            "cell_type": "code",
            "execution_count": 25,
            "metadata": {},
            "outputs": [
                {
                    "data": {
                        "text/plain": [
                            "(torch.Size([60000, 2]), torch.Size([60000, 1]))"
                        ]
                    },
                    "execution_count": 25,
                    "metadata": {},
                    "output_type": "execute_result"
                }
            ],
            "source": [
                "mus, sts = ENCODER(images.unsqueeze(1).to(DEVICE))\n",
                "mus.shape, sts.shape"
            ]
        },
        {
            "cell_type": "markdown",
            "metadata": {},
            "source": [
                "## figures"
            ]
        },
        {
            "cell_type": "code",
            "execution_count": 26,
            "metadata": {},
            "outputs": [],
            "source": [
                "frac = 0.3\n",
                "idx = np.random.choice(a=len(mus), size=int(len(mus) * frac), replace=False)\n",
                "background_trace = create_dot_background(\n",
                "    mus.detach().cpu()[idx], labels.numpy()[idx], opacity=0.1\n",
                ")\n",
                "fig = plot_traces([background_trace])\n",
                "# fig"
            ]
        },
        {
            "cell_type": "code",
            "execution_count": 27,
            "metadata": {},
            "outputs": [
                {
                    "data": {
                        "text/plain": [
                            "(30, 30)"
                        ]
                    },
                    "execution_count": 27,
                    "metadata": {},
                    "output_type": "execute_result"
                }
            ],
            "source": [
                "NUM = 30\n",
                "SPAN = 2.5\n",
                "RADIUS = 1.0\n",
                "N_DIV = 8\n",
                "\n",
                "xs, ys = np.meshgrid(\n",
                "    np.linspace(-SPAN, SPAN, num=NUM), np.meshgrid(np.linspace(-SPAN, SPAN, num=NUM))\n",
                ")\n",
                "xs.shape"
            ]
        },
        {
            "cell_type": "code",
            "execution_count": 28,
            "metadata": {},
            "outputs": [
                {
                    "data": {
                        "text/plain": [
                            "(900, 2)"
                        ]
                    },
                    "execution_count": 28,
                    "metadata": {},
                    "output_type": "execute_result"
                }
            ],
            "source": [
                "CENTRES = np.vstack((xs.reshape(-1), ys.reshape(-1))).T\n",
                "CENTRES.shape"
            ]
        },
        {
            "cell_type": "code",
            "execution_count": 29,
            "metadata": {},
            "outputs": [],
            "source": [
                "def calc_corr(points: np.ndarray) -> np.ndarray:\n",
                "    metrics = manifold_mnist.metric.metric_matrix(points)\n",
                "    return metrics[:, 0, 1] / np.sqrt(metrics[:, 0, 0] * metrics[:, 1, 1])"
            ]
        },
        {
            "cell_type": "code",
            "execution_count": 30,
            "metadata": {},
            "outputs": [],
            "source": [
                "corr_field = create_scalar_field(\n",
                "    calc_corr, num=500, opacity=1.0, field_title=\"basis vector correlation\"\n",
                ")"
            ]
        },
        {
            "cell_type": "code",
            "execution_count": 31,
            "metadata": {},
            "outputs": [],
            "source": [
                "corr_fig = plot_traces([background_trace, corr_field])\n",
                "# corr_fig"
            ]
        },
        {
            "cell_type": "code",
            "execution_count": 32,
            "metadata": {},
            "outputs": [],
            "source": [
                "def calc_changes(points: np.ndarray) -> np.ndarray:\n",
                "    metrics = manifold_mnist.metric.metric_matrix(points)\n",
                "    eigvals = np.linalg.eigvalsh(metrics)\n",
                "    return eigvals[:, -1]"
            ]
        },
        {
            "cell_type": "code",
            "execution_count": 33,
            "metadata": {},
            "outputs": [],
            "source": [
                "magnitude_field = create_scalar_field(\n",
                "    calc_changes,\n",
                "    num=500,\n",
                "    opacity=1.0,\n",
                "    field_title=\"magnitude of change\",\n",
                "    cmap=\"hot\",\n",
                ")"
            ]
        },
        {
            "cell_type": "code",
            "execution_count": 34,
            "metadata": {},
            "outputs": [],
            "source": [
                "magnitude_fig = plot_traces([magnitude_field])\n",
                "# magnitude_fig"
            ]
        },
        {
            "cell_type": "code",
            "execution_count": 35,
            "metadata": {},
            "outputs": [],
            "source": [
                "corr_fig.write_html(DIR / \"corr.html\")"
            ]
        },
        {
            "cell_type": "code",
            "execution_count": 36,
            "metadata": {},
            "outputs": [],
            "source": [
                "magnitude_fig.write_html(DIR / \"eigvals.html\")"
            ]
        }
    ],
    "metadata": {
        "kernelspec": {
            "display_name": "latent-geometry",
            "language": "python",
            "name": "python3"
        },
        "language_info": {
            "codemirror_mode": {
                "name": "ipython",
                "version": 3
            },
            "file_extension": ".py",
            "mimetype": "text/x-python",
            "name": "python",
            "nbconvert_exporter": "python",
            "pygments_lexer": "ipython3",
            "version": "3.9.17"
        },
        "orig_nbformat": 4
    },
    "nbformat": 4,
    "nbformat_minor": 2
}
