{
    "cells": [
        {
            "cell_type": "code",
            "execution_count": null,
            "metadata": {},
            "outputs": [],
            "source": [
                "%load_ext autoreload\n",
                "%autoreload 2"
            ]
        },
        {
            "cell_type": "code",
            "execution_count": null,
            "metadata": {},
            "outputs": [],
            "source": [
                "import numpy as np\n",
                "import pandas as pd\n",
                "import plotly.express as px\n",
                "\n",
                "import torch\n",
                "\n",
                "from latent_geometry.model.mnist_vae import (\n",
                "    load_decoder,\n",
                "    load_encoder,\n",
                ")\n",
                "from latent_geometry.mapping import TorchModelMapping\n",
                "from viz.plotly import (\n",
                "    plot_traces,\n",
                "    draw_balls,\n",
                "    create_dot_background,\n",
                ")\n",
                "from latent_geometry.manifold import LatentManifold\n",
                "from latent_geometry.metric import EuclideanMetric\n",
                "from latent_geometry.path import ManifoldPath, Path\n",
                "from latent_geometry.data import load_mnist_dataset\n",
                "from latent_geometry.utils import project, lift\n",
                "from viz.calc import create_circles, create_radials, create_loop\n",
                "from latent_geometry.config import FIGURES_DIR\n",
                "import os\n",
                "from tqdm import tqdm"
            ]
        },
        {
            "cell_type": "markdown",
            "metadata": {},
            "source": [
                "## prep"
            ]
        },
        {
            "cell_type": "code",
            "execution_count": null,
            "metadata": {},
            "outputs": [],
            "source": [
                "os.environ[\"CUDA_VISIBLE_DEVICES\"] = \"3\""
            ]
        },
        {
            "cell_type": "code",
            "execution_count": null,
            "metadata": {},
            "outputs": [],
            "source": [
                "dataset = load_mnist_dataset(split=\"train\")\n",
                "images = torch.concat([img for img, _ in dataset])\n",
                "labels = torch.tensor([label for _, label in dataset])\n",
                "images.shape, labels.shape"
            ]
        },
        {
            "cell_type": "code",
            "execution_count": null,
            "metadata": {},
            "outputs": [],
            "source": [
                "# DEVICE = torch.device(\"cuda\" if torch.cuda.is_available() else \"cpu\")\n",
                "DEVICE = torch.device(\"cpu\")\n",
                "model_name, latent_dim = \"beta_1_cpu\", 2\n",
                "\n",
                "# DEVICE = torch.device(\"cuda\")\n",
                "ENCODER = load_encoder(DEVICE, f\"{model_name}_encoder.pt\", latent_dim=latent_dim)\n",
                "DECODER = load_decoder(DEVICE, f\"{model_name}_decoder.pt\", latent_dim=latent_dim)\n",
                "\n",
                "z = ENCODER.sample(dataset[0][0].to(DEVICE)[None, :])\n",
                "reconstruction = DECODER.decode(z)\n",
                "reconstruction.shape"
            ]
        },
        {
            "cell_type": "code",
            "execution_count": null,
            "metadata": {},
            "outputs": [],
            "source": [
                "SOLVER_TOL = 0.01\n",
                "ambient_metric = EuclideanMetric()\n",
                "latent_mapping = TorchModelMapping(\n",
                "    DECODER, (2,), (1, 32, 32), batch_size=10_000, call_fn=DECODER.decode\n",
                ")\n",
                "manifold_mnist = LatentManifold(\n",
                "    latent_mapping, ambient_metric, solver_tol=SOLVER_TOL, bvp_n_mesh_nodes=2_000\n",
                ")"
            ]
        },
        {
            "cell_type": "code",
            "execution_count": null,
            "metadata": {},
            "outputs": [],
            "source": [
                "mus, sts = ENCODER(images.unsqueeze(1).to(DEVICE))\n",
                "mus.shape, sts.shape"
            ]
        },
        {
            "cell_type": "markdown",
            "metadata": {},
            "source": [
                "## figures"
            ]
        },
        {
            "cell_type": "code",
            "execution_count": null,
            "metadata": {},
            "outputs": [],
            "source": [
                "frac = 0.1\n",
                "idx = np.random.choice(a=len(mus), size=int(len(mus) * frac), replace=False)\n",
                "background_trace = create_dot_background(\n",
                "    mus.detach().cpu()[idx], labels.numpy()[idx], opacity=0.1\n",
                ")\n",
                "fig = plot_traces([background_trace])\n",
                "# fig"
            ]
        },
        {
            "cell_type": "code",
            "execution_count": null,
            "metadata": {},
            "outputs": [],
            "source": [
                "NUM = 20\n",
                "SPAN = 2.5\n",
                "RADIUS = 1.0\n",
                "N_DIV = 8\n",
                "\n",
                "xs, ys = np.meshgrid(\n",
                "    np.linspace(-SPAN, SPAN, num=NUM), np.meshgrid(np.linspace(-SPAN, SPAN, num=NUM))\n",
                ")\n",
                "xs.shape"
            ]
        },
        {
            "cell_type": "code",
            "execution_count": null,
            "metadata": {},
            "outputs": [],
            "source": [
                "CENTRES = np.vstack((xs.reshape(-1), ys.reshape(-1))).T\n",
                "CENTRES.shape"
            ]
        },
        {
            "cell_type": "code",
            "execution_count": null,
            "metadata": {},
            "outputs": [],
            "source": [
                "def create_exact_ball(centre, n_div: int, radius: float):\n",
                "    radials = create_radials(\n",
                "        centre=centre, divisions=n_div, manifold=manifold_mnist, length=radius\n",
                "    )\n",
                "    circles = create_circles(radials, 1)\n",
                "    return Path(circles[0])\n",
                "\n",
                "\n",
                "def create_local_ball(centre, n_div: int, radius: float):\n",
                "    thetas = np.linspace(0, 2 * np.pi, num=n_div, endpoint=False)\n",
                "    points = np.vstack((radius * np.cos(thetas), radius * np.sin(thetas))).T\n",
                "    centres = centre[None, :].repeat(n_div, 0)\n",
                "    ambient_lengths = manifold_mnist.metric.vector_length(points, centres)\n",
                "    print(manifold_mnist.metric.metric_matrix(centre[None, :]))\n",
                "    points_rescaled = points * ambient_lengths[:, None]\n",
                "    loop = create_loop(points_rescaled)\n",
                "    return loop"
            ]
        },
        {
            "cell_type": "code",
            "execution_count": null,
            "metadata": {},
            "outputs": [],
            "source": [
                "path = create_local_ball(np.array([0, 0]), 9, 0.4)\n",
                "path"
            ]
        },
        {
            "cell_type": "code",
            "execution_count": null,
            "metadata": {},
            "outputs": [],
            "source": [
                "# draw_balls([path])"
            ]
        },
        {
            "cell_type": "code",
            "execution_count": null,
            "metadata": {},
            "outputs": [],
            "source": [
                "BALLS = [\n",
                "    create_exact_ball(centre=centre, n_div=N_DIV, radius=RADIUS)\n",
                "    for centre in tqdm(CENTRES)\n",
                "]"
            ]
        },
        {
            "cell_type": "code",
            "execution_count": null,
            "metadata": {},
            "outputs": [],
            "source": [
                "spiders_fig = draw_balls(BALLS, background_trace)\n",
                "spiders_fig"
            ]
        },
        {
            "cell_type": "code",
            "execution_count": null,
            "metadata": {},
            "outputs": [],
            "source": [
                "spiders_fig.write_html(FIGURES_DIR / \"mnist\" / \"html\" / \"exact_balls.html\")"
            ]
        },
        {
            "cell_type": "markdown",
            "metadata": {},
            "source": [
                "## trash"
            ]
        },
        {
            "cell_type": "code",
            "execution_count": null,
            "metadata": {},
            "outputs": [],
            "source": [
                "fig_px = px.scatter(\n",
                "    x=mus[:, 0].detach().cpu(),\n",
                "    y=mus[:, 1].detach().cpu(),\n",
                "    color=labels.numpy().astype(str),\n",
                "    opacity=0.05,\n",
                ")"
            ]
        }
    ],
    "metadata": {
        "kernelspec": {
            "display_name": "latent-geometry",
            "language": "python",
            "name": "python3"
        },
        "language_info": {
            "codemirror_mode": {
                "name": "ipython",
                "version": 3
            },
            "file_extension": ".py",
            "mimetype": "text/x-python",
            "name": "python",
            "nbconvert_exporter": "python",
            "pygments_lexer": "ipython3",
            "version": "3.9.16"
        },
        "orig_nbformat": 4
    },
    "nbformat": 4,
    "nbformat_minor": 2
}
